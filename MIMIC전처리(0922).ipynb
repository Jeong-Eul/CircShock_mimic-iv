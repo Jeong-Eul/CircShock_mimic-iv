{
 "cells": [
  {
   "cell_type": "markdown",
   "id": "ef070a47",
   "metadata": {},
   "source": [
    "### Libarary load"
   ]
  },
  {
   "cell_type": "code",
   "execution_count": 2,
   "id": "b735cb24-e841-4543-8962-a3feabb5227c",
   "metadata": {},
   "outputs": [],
   "source": [
    "import pandas as pd\n",
    "import numpy as np\n",
    "from tqdm import tqdm\n",
    "pd.set_option('display.max_columns', None)\n",
    "pd.set_option('mode.chained_assignment',  None)"
   ]
  },
  {
   "cell_type": "markdown",
   "id": "8b1f19e4-c1bf-4635-822c-28198df453f1",
   "metadata": {},
   "source": [
    "### Dataset load"
   ]
  },
  {
   "cell_type": "code",
   "execution_count": 3,
   "id": "3cfcdf53-1af6-4a44-b6c1-80345a8d9f93",
   "metadata": {},
   "outputs": [
    {
     "name": "stderr",
     "output_type": "stream",
     "text": [
      "C:\\Users\\DAHS\\AppData\\Local\\Temp\\ipykernel_38596\\1288757720.py:29: DtypeWarning: Columns (17) have mixed types. Specify dtype option on import or set low_memory=False.\n",
      "  micro = pd.read_csv('../Data/mimic/hosp/microbiologyevents.csv')\n",
      "C:\\Users\\DAHS\\AppData\\Local\\Temp\\ipykernel_38596\\1288757720.py:32: DtypeWarning: Columns (3,4,5,6,8) have mixed types. Specify dtype option on import or set low_memory=False.\n",
      "  stay = pd.read_csv('../Data/mimic/icu/icustays.csv')\n"
     ]
    }
   ],
   "source": [
    "# # patient\n",
    "patient = pd.read_csv('../Data/mimic/core/patients.csv')\n",
    "admissions = pd.read_csv('../Data/mimic/core/admissions.csv')\n",
    "\n",
    "# medication\n",
    "inputevents = pd.read_csv('../Data/mimic/icu/inputevents.csv')\n",
    "\n",
    "# output\n",
    "\n",
    "outputevents = pd.read_csv('../Data/mimic/icu/outputevents.csv')\n",
    "\n",
    "# fluids\n",
    "ingredientevents = pd.read_csv('../Data/mimic/icu/ingredientevents.csv')\n",
    "\n",
    "#procedureevent\n",
    "procedureevents = pd.read_csv('../Data/mimic/icu/procedureevents.csv')\n",
    "\n",
    "# item\n",
    "d_items = pd.read_csv('../Data/mimic/icu/d_items.csv')\n",
    "d_labitems = pd.read_csv('../Data/mimic/hosp/d_labitems.csv')\n",
    "\n",
    "# chartevent\n",
    "chartevent = pd.read_csv('../Data/mimic/icu/chartevents.csv')\n",
    "\n",
    "# labevent\n",
    "labevents = pd.read_csv('../Data/mimic/hosp/labevents.csv')\n",
    "\n",
    "# microbio event\n",
    "micro = pd.read_csv('../Data/mimic/hosp/microbiologyevents.csv')\n",
    "\n",
    "# icu stay\n",
    "stay = pd.read_csv('../Data/mimic/icu/icustays.csv')\n",
    "\n",
    "# additional information\n",
    "inf = pd.read_csv('../Data/mimic/icu/icustays_preprocessed.csv')\n",
    "suspected_infection = pd.read_csv('../Data/mimic/hosp/suspected_infection.csv')\n",
    "\n",
    "# for judgment presence of heart failure \n",
    "d_icd = pd.read_csv('../Data/mimic/hosp/d_icd_diagnoses.csv')\n",
    "diagnosses = pd.read_csv('../Data/mimic/hosp/diagnoses_icd.csv')"
   ]
  },
  {
   "cell_type": "code",
   "execution_count": 4,
   "id": "0c451619",
   "metadata": {},
   "outputs": [],
   "source": [
    "# suspected infections\n",
    "\n",
    "si_icd9_ary = suspected_infection[suspected_infection['icd_version']==9]['icd_code'].values\n",
    "si_icd9 = np.array(si_icd9_ary[0].split(', '))\n",
    "\n",
    "si_icd10_ary = suspected_infection[suspected_infection['icd_version']==10]['icd_code'].values\n",
    "si_icd10 = np.array(si_icd10_ary[0].split(', '))\n",
    "\n",
    "suspected_infection_icd_code_9_10 =np.hstack([si_icd9, si_icd10])"
   ]
  },
  {
   "cell_type": "code",
   "execution_count": 5,
   "id": "0732b889",
   "metadata": {},
   "outputs": [],
   "source": [
    "suspected_infection_df = pd.DataFrame()\n",
    "\n",
    "for icd in suspected_infection_icd_code_9_10:\n",
    "\n",
    "    sample = diagnosses[diagnosses['icd_code'].str.startswith(icd)][['subject_id', 'hadm_id']]\n",
    "    suspected_infection_df = pd.concat([suspected_infection_df, sample])"
   ]
  },
  {
   "cell_type": "code",
   "execution_count": 6,
   "id": "3085603a",
   "metadata": {},
   "outputs": [],
   "source": [
    "heartfailure_before_df = pd.DataFrame()\n",
    "\n",
    "for icd in ['428', 'I50']:\n",
    "\n",
    "    sample = diagnosses[diagnosses['icd_code'].str.startswith(icd)][['subject_id', 'hadm_id']]\n",
    "    heartfailure_before_df = pd.concat([heartfailure_before_df, sample])"
   ]
  },
  {
   "cell_type": "code",
   "execution_count": 7,
   "id": "2ce6540b",
   "metadata": {},
   "outputs": [],
   "source": [
    "spinal_injury_before_df = pd.DataFrame()\n",
    "\n",
    "for icd in ['G50', '805', '806']:\n",
    "\n",
    "    sample = diagnosses[diagnosses['icd_code'].str.startswith(icd)][['subject_id', 'hadm_id']]\n",
    "    spinal_injury_before_df = pd.concat([spinal_injury_before_df, sample])"
   ]
  },
  {
   "cell_type": "code",
   "execution_count": 11,
   "id": "19d1a232-bec3-4886-bb4a-390a848a97b3",
   "metadata": {},
   "outputs": [],
   "source": [
    "# target patient selection\n",
    "\n",
    "def age_constraint(df):\n",
    "    p = df.copy()\n",
    "    \n",
    "    result = p[ (p['age_at_intime']>17) | (p['age_at_intime']<100) ]\n",
    "    selected_p_idx = result.index\n",
    "    # static_value = result.loc[selected_p_idx,['stay_id','age_at_intime']]\n",
    "    \n",
    "    return selected_p_idx\n",
    "\n",
    "\n",
    "def demo_inf(df):\n",
    "    result = df.copy()\n",
    "    \n",
    "    selected_p_idx = age_constraint(df)\n",
    "    static_value = result.loc[selected_p_idx,['subject_id','stay_id','intime', 'age_at_intime','race', 'gender']]\n",
    "    \n",
    "    return static_value\n",
    "\n",
    "# patient_inf = demo_inf(inf)"
   ]
  },
  {
   "cell_type": "code",
   "execution_count": 26,
   "id": "862d3fcb",
   "metadata": {},
   "outputs": [
    {
     "data": {
      "text/plain": [
       "299712"
      ]
     },
     "execution_count": 26,
     "metadata": {},
     "output_type": "execute_result"
    }
   ],
   "source": [
    "len(patient.subject_id.unique())"
   ]
  },
  {
   "cell_type": "code",
   "execution_count": 47,
   "id": "986c0b4b",
   "metadata": {},
   "outputs": [
    {
     "data": {
      "text/plain": [
       "originalrate\n",
       "0    357589\n",
       "1    338503\n",
       "Name: count, dtype: int64"
      ]
     },
     "execution_count": 47,
     "metadata": {},
     "output_type": "execute_result"
    }
   ],
   "source": [
    "procedureevents.originalrate.value_counts()"
   ]
  },
  {
   "cell_type": "code",
   "execution_count": 9,
   "id": "c0be6021-6592-4f59-989f-6cdcd0a91d87",
   "metadata": {},
   "outputs": [],
   "source": [
    "using_itm = d_items[['itemid','label']]\n",
    "pe = procedureevents.rename(columns = {'value':'amount', 'originalrate': 'rate'})\n",
    "\n",
    "def pharma(information, item,  df1, df2, df3):\n",
    "    \n",
    "    target_stay_id = information.stay_id.unique()\n",
    "    \n",
    "    sample1 = df1[['subject_id', 'hadm_id', 'stay_id', 'itemid', 'starttime', 'endtime', 'amount', 'rate']].copy()\n",
    "    sample2 = df2[['subject_id', 'hadm_id', 'stay_id', 'itemid', 'starttime', 'endtime', 'amount', 'rate']].copy()\n",
    "    sample3 = df3[['subject_id','hadm_id', 'stay_id', 'itemid', 'starttime', 'endtime', 'amount', 'rate']].copy()\n",
    "    sample3['rate'] = sample3['rate'].replace(0, 1)\n",
    "    \n",
    "    result = pd.concat([sample1, sample2], axis = 0, ignore_index=True)\n",
    "    result = pd.concat([result, sample3], axis = 0, ignore_index=True)\n",
    "\n",
    "    condition = result.stay_id.isin(target_stay_id)\n",
    "    total = result[condition]\n",
    "    total.sort_values(by='stay_id', inplace = True)\n",
    "\n",
    "    pharma_df = pd.merge(total, item, how = 'left', on = 'itemid')\n",
    "    \n",
    "    return pharma_df\n",
    "\n",
    "pm = pharma(patient_inf, using_itm,  ingredientevents.fillna(0), inputevents.fillna(0), pe.fillna(0)) # all values are not missing, only missing at rate and it filled with value 0 it means they not have rate, since pe's \"original_rate\" is not drug rate, it replaced with 0"
   ]
  },
  {
   "cell_type": "code",
   "execution_count": 10,
   "id": "7e15b2b5",
   "metadata": {},
   "outputs": [],
   "source": [
    "medications_item_id=[\n",
    "    222318, 225975, 225152, 225157 ,221261, 222062, 221555, 229233, 221468, 221342, 221653, 221986, 221662, 229069,\n",
    "    222056, 222051, 222037, 221429, 225153, 225974, 221906, 229630, 229632, 221749, 221289, 229617, 222315, 225166,\n",
    "    225840, 225875, 225883, 225876, 225893, 229064, 225850, 225855, 225859, 225860, 225865, 225798, 225837, 225838,\n",
    "    225842, 225843, 225844, 225845, 225847, 225848, 225851, 225857, 225859 ,225862, 225863, 225866, 225868, 225869, \n",
    "    225871, 225873, 225875, 225876, 225877 ,225879, 225881, 225882, 225883, 225884, 225885, 225886, 225888, 225889, \n",
    "    225890, 225892, 225893, 225895, 225896, 225897, 225898, 225899, 225900, 225902, 225903, 225905, 227691, 228003, \n",
    "    229059, 229061, 229064, 229587]\n",
    "\n",
    "Fluids_item_id=[\n",
    "    220490, 226222, 226224, 226509, 227080, 220949  \n",
    "]\n",
    "\n",
    "procedure_item_id=[\n",
    "    225792, 225794, 225402, 223253, 225459, 225401, 225437\n",
    "]\n",
    "\n",
    "pmpe_item_id = medications_item_id + Fluids_item_id + procedure_item_id\n",
    "\n",
    "condition = pm.itemid.isin(pmpe_item_id)\n",
    "selected_pmpe= pm[condition]\n",
    "\n",
    "\n",
    "pmpe_inf_start = selected_pmpe[['subject_id','stay_id','itemid', 'starttime', 'amount', 'rate', 'label']].copy()\n",
    "pmpe_inf_end = selected_pmpe[['subject_id','stay_id','itemid', 'endtime', 'amount', 'rate','label']].copy()\n",
    "\n",
    "pmpe_inf_start.rename(columns = {'starttime':'charttime'}, inplace = True)\n",
    "pmpe_inf_end.rename(columns = {'endtime':'charttime'}, inplace = True)\n",
    "\n",
    "pmpe = pd.concat([pmpe_inf_start, pmpe_inf_end], axis=0, ignore_index=True)\n",
    "pmpe['charttime']=pd.to_datetime(pmpe['charttime'])\n",
    "pmpe.sort_values(by=['stay_id', 'charttime'], inplace = True)"
   ]
  },
  {
   "cell_type": "code",
   "execution_count": 11,
   "id": "66d6d7ac-6509-4f39-ba20-02165a7bfe1c",
   "metadata": {},
   "outputs": [],
   "source": [
    "# signal: chartevents table\n",
    "selected_chartevt = chartevent[['subject_id', 'hadm_id', 'stay_id', 'charttime', 'itemid', 'value']].copy()\n",
    "\n",
    "# lab test: labevents table\n",
    "selected_labevt = labevents[['subject_id', 'charttime', 'itemid', 'valuenum']].copy()\n",
    "\n",
    "# micro event\n",
    "selected_mi = micro[(micro['spec_itemid']==70011)| (micro['spec_itemid']==70012)][['subject_id', 'charttime', 'spec_itemid', 'test_seq']].copy()\n",
    "\n",
    "# output event\n",
    "selected_oe = outputevents[['subject_id', 'hadm_id', 'stay_id', 'charttime', 'itemid', 'value']].copy()\n",
    "\n",
    "# item matching\n",
    "\n",
    "def item_match(d_labitems, d_items, chart_sub, lab_sub, mi_sub, oe_sub):\n",
    "\n",
    "    using_hsp_itm = d_labitems[['itemid', 'label']].copy()\n",
    "    variable_name = d_items[['itemid', 'abbreviation']].copy()\n",
    "    \n",
    "    mi_sub = mi_sub.rename(columns = {'spec_itemid': 'itemid', 'test_seq':'value'})\n",
    "    \n",
    "    lab_sub = lab_sub.rename(columns = {'valuenum':'value'})\n",
    "\n",
    "    rename_df = variable_name.rename(columns = {'abbreviation': 'label'})\n",
    "    item = pd.concat([using_hsp_itm, rename_df], axis = 0, ignore_index = True)\n",
    "    \n",
    "    new_data1 = {'itemid': 70012, 'label': 'blood cultured'}\n",
    "    new_data2 = {'itemid': 70011, 'label': 'blood cultured'}\n",
    "    \n",
    "    item = pd.concat([item, pd.DataFrame([new_data1])], ignore_index=True)\n",
    "    item = pd.concat([item, pd.DataFrame([new_data2])], ignore_index=True)\n",
    "\n",
    "    labtest = pd.merge(lab_sub, item, how='left', on='itemid')\n",
    "    signal = pd.merge(chart_sub, item, how='left', on='itemid')\n",
    "    microe = pd.merge(mi_sub, item, how='left', on='itemid')\n",
    "    outpute = pd.merge(oe_sub, item, how='left', on='itemid')\n",
    "    \n",
    "    return labtest, signal, microe, outpute\n",
    "\n",
    "labtest, charte, microee, outputee = item_match(d_labitems, d_items, selected_chartevt, selected_labevt, selected_mi, selected_oe)"
   ]
  },
  {
   "cell_type": "code",
   "execution_count": 12,
   "id": "a814010c-4ec4-41ff-821b-3fb0d4d3f37a",
   "metadata": {},
   "outputs": [],
   "source": [
    "# 형태가 같은 테이블 결합\n",
    "labtest_micro = pd.concat([labtest, microee], axis = 0, ignore_index = True)\n",
    "\n",
    "chartevent_item_id=[\n",
    "    220045, 220050, 220051, 220088, 224842, 220277, 228302, 224695, 225668, 227467, 220621,\n",
    "    227444, 220059, 220060, 223771, 223772, 220074, 220179, 220180, 228640, 220210, 224690,\n",
    "    224639, 226730, 223830, 220235, 220224, 227686, 227429, 227457, 223761, 223762, 227442,\n",
    "    227464, 225625, 225612, 220228, 226540, 220545, 225690, 220615, 220739, 223900, 223901, 223835,\n",
    "    220644, 220587, 220546, 225624\n",
    "\n",
    "]\n",
    "\n",
    "labevent_item_id =[\n",
    "    50817, 50813, 52442, 50809, 50820, 50825, 50971, 52610, 50822, 50893, 52034, 52035, 50863,\n",
    "    53086, 50983, 52623, 50825, 50811, 51222, 51640, 51221, 51638, 51639, 52028, 50810,\n",
    "    50885, 53089, 50912, 52546, 52024, 51108, 51109, 51265, 51704, 50886, 70011, 70012, 50861, 50878,\n",
    "    51300, 51301, 51755, 51006, 52647\n",
    "\n",
    "]\n",
    "\n",
    "outputevent_item_id =[\n",
    "    226557, 226558, 226559, 226560, 226561, 226563, 226564, 226565, 226566, 226567, 226584, 226627, 226631, 226632, 227489\n",
    "]\n",
    "\n",
    "\n",
    "condtion_ce = charte.itemid.isin(chartevent_item_id)\n",
    "condition_le = labtest_micro.itemid.isin(labevent_item_id)\n",
    "condition_oe = outputee.itemid.isin(outputevent_item_id)\n",
    "\n",
    "ce = charte[condtion_ce]\n",
    "le = labtest_micro[condition_le]\n",
    "oe = outputee[condition_oe]"
   ]
  },
  {
   "cell_type": "code",
   "execution_count": 13,
   "id": "fb9d97b4",
   "metadata": {},
   "outputs": [],
   "source": [
    "# 변수명 통일\n",
    "\n",
    "bulk_changes_pmpe = {\n",
    "    225792 : 'Invasive_Ventilation', 225794 : 'None_Invasive_Ventilation',\n",
    "    225402 : 'EKG', 223253 : 'MRI', 225459 : 'CXR', 225975 : 'HeparinSodium',\n",
    "    225152 : 'HeparinSodium', 225157 : 'Tirofiban', 221261 : 'Abciximab',\n",
    "    229069 : 'Digoxin', 229617 : 'Epinephrine', 221289 : 'Epinephrine',  225166: 'Potassium_Chloride',\n",
    "    225876 : 'Imipenem', 225893 : 'Piperacillin_Tazobactam', 226509 : 'extra_blood',\n",
    "    227080 : 'Fluids_supplement', 220949: 'Dextrose_5%', 225401 : 'blood_cultured', 225437 : 'blood_cultured'\n",
    "}\n",
    "\n",
    "bulk_changes_ce = {\n",
    "    220045 : 'HR', 220050 : 'ABPs', 220051 : 'ABPd',\n",
    "    220088 : 'CO', 224842 : 'CO', 220277 : 'SpO2',\n",
    "    228302 : 'RASS', 224695 : 'Peak_insp_P', 227467 : 'INR',\n",
    "    225668 : 'Lactate', 220621 : 'glucose', 227444 : 'CRP',\n",
    "    220059 : 'PAPs', 220060 : 'PAPd', 223771 : 'PCWP',\n",
    "    223772 : 'SvO2', 220074 : 'CVP', 220179 : 'NIBPs', \n",
    "    220180 : 'NIBPd', 228640 : 'EtCO2', 220210 : 'RR',\n",
    "    224690 : 'RR', 224639 : 'weight', 226730 : 'height',\n",
    "    223830 : 'pH', 220235 : 'pCO2', 220224 : 'PaO2',\n",
    "    227686 : 'CVOS', 227429 : 'Troponin-T', 227457 : 'Platelet_count',\n",
    "    223761 : 'temperature_F', 223762 : 'temperature_C', 227442 : 'K+',\n",
    "    227464 : 'K+', 225625 : 'Ca_non_ionized', 225612 : 'Alkaline_Phosphate',\n",
    "    220228 : 'hemoglobin', 226540 : 'hematocrit', 220545 : 'hematocrit',\n",
    "    225690 : 'total_bilirubin', 220615 : 'creatinine', 223835 : 'FiO2',\n",
    "    220739 : 'Eye_Opening', 223900 : 'verbal_reponse', 223901 : 'mortor_response'\n",
    "}\n",
    "\n",
    "bulk_changes_le = {\n",
    "    50983 : 'sodium', 52623 : 'sodium', 50817 : 'SpO2',\n",
    "    50813: 'Lactate', 52442 : 'Lactate', 50809 : 'glucose',\n",
    "    50820 : 'pH', 50825 : 'temperature_C', 50971 : 'K+',\n",
    "    52610: 'K+', 50822 : 'K+', 50893  : 'Ca_non_ionized', \n",
    "    52034 : 'Ca_non_ionized', 52035 : 'Ca_non_ionized', \n",
    "    50863 : 'Alkaline_Phosphate', 53086 : 'Alkaline_Phosphate',\n",
    "    50811 : 'hemoglobin', 51222 : 'hemoglobin', 51640 : 'hemoglobin',\n",
    "    51221 : 'hematocrit', 51638 : 'hematocrit', 51639 : 'hematocrit', \n",
    "    52028 : 'hematocrit', 50810 : 'hematocrit', \n",
    "    50912 : 'creatinine', 52546 : 'creatinine', 52024 : 'creatinine', \n",
    "    50885 : 'total_bilirubin', 53089 : 'total_bilirubin',\n",
    "    51108 : 'Urine_Output', 51109 : 'Urine_Output', 50886 : 'blood_cultured',\n",
    "    70011 : 'blood_cultured', 70012 : 'blood_cultured', 51265 : 'Platelet_count',\n",
    "    51704 : 'Platelet_count', 50861 : 'ALT', 50878 : 'AST', 51300 : 'WBC', 51301: 'WBC', 51755: 'WBC',\n",
    "    51006: 'BUN', 52647 :'BUN'\n",
    "}\n",
    "\n",
    "\n",
    "# bulk_changes_oe = {\n",
    "#     226557 : 'Urine_Output', 226558 : 'Urine_Output', 226559 : 'Urine_Output', 226560 : 'Urine_Output', 226561 : 'Urine_Output',\n",
    "#     226563 : 'Urine_Output', 226564 : 'Urine_Output', 226565 : 'Urine_Output', 226566 : 'Urine_Output', 226567 : 'Urine_Output',\n",
    "#     226584 : 'Urine_Output', 226627 : 'Urine_Output', 226631 : 'Urine_Output', 226632 : 'Urine_Output', 227488 : 'Urine_Output_in', 227489 : 'Urine_Output_out'\n",
    "# }\n",
    "\n",
    "for itemid, new_label in bulk_changes_pmpe.items():\n",
    "    pmpe.loc[pmpe['itemid'] == itemid, 'label'] = new_label\n",
    "    \n",
    "cond = pmpe.itemid.isin([225840, 225875, 225883, 225876, 225893, 229064, 225850, 225855, 225859, 225860, 225865, 225798, 225837, 225838,\n",
    "    225842, 225843, 225844, 225845, 225847, 225848, 225851, 225857, 225859 ,225862, 225863, 225866, 225868, 225869, \n",
    "    225871, 225873, 225875, 225876, 225877 ,225879, 225881, 225882, 225883, 225884, 225885, 225886, 225888, 225889, \n",
    "    225890, 225892, 225893, 225895, 225896, 225897, 225898, 225899, 225900, 225902, 225903, 225905, 227691, 228003, \n",
    "    229059, 229061, 229064, 229587]) #Antibiotics\n",
    "idx = pmpe[cond].index\n",
    "\n",
    "pmpe.loc[idx, 'label'] = 'Antibiotics'\n",
    "\n",
    "for itemid, new_label in bulk_changes_ce.items():\n",
    "    ce.loc[ce['itemid'] == itemid, 'label'] = new_label\n",
    "    \n",
    "for itemid, new_label in bulk_changes_le.items():\n",
    "    le.loc[le['itemid'] == itemid, 'label'] = new_label\n",
    "    \n",
    "# for itemid, new_label in bulk_changes_oe.items():\n",
    "#     oe.loc[oe['itemid'] == itemid, 'label'] = new_label"
   ]
  },
  {
   "cell_type": "code",
   "execution_count": 14,
   "id": "2007b967",
   "metadata": {},
   "outputs": [],
   "source": [
    "urine = pd.read_csv('../Data/mimic/icu/Urine Output.csv')"
   ]
  },
  {
   "cell_type": "code",
   "execution_count": 15,
   "id": "443f5ec2",
   "metadata": {},
   "outputs": [],
   "source": [
    "urine = urine.rename(columns = {'Urine output':'value'})\n",
    "urine['label'] = 'Urine_output'"
   ]
  },
  {
   "cell_type": "code",
   "execution_count": 16,
   "id": "14022a03",
   "metadata": {},
   "outputs": [],
   "source": [
    "urine_oe = pd.merge(urine, oe[['subject_id', 'hadm_id', 'stay_id']], how = 'left', on = ['subject_id','stay_id'])"
   ]
  },
  {
   "cell_type": "code",
   "execution_count": 17,
   "id": "a16adb29",
   "metadata": {},
   "outputs": [],
   "source": [
    "oe = urine_oe.copy()"
   ]
  },
  {
   "cell_type": "code",
   "execution_count": 18,
   "id": "6ae4dc51",
   "metadata": {},
   "outputs": [],
   "source": [
    "target_stay_id = patient_inf.stay_id.unique()\n",
    "target_pmpe = pmpe[pmpe.stay_id.isin(target_stay_id)]\n",
    "\n",
    "pmpe_stay_id = target_pmpe.stay_id.unique()\n",
    "target_ce = ce[ce.stay_id.isin(pmpe_stay_id)] #47,379,263\n",
    "\n",
    "ce_subject_id = target_ce.subject_id.unique()\n",
    "target_le = le[le.subject_id.isin(ce_subject_id)] #14,835,585\n",
    "target_oe = oe[oe.subject_id.isin(ce_subject_id)] #3,351,069"
   ]
  },
  {
   "cell_type": "code",
   "execution_count": 26,
   "id": "6728d04d",
   "metadata": {},
   "outputs": [],
   "source": [
    "# lactate_df = target_le[target_le['label']=='Lactate']\n",
    "# idx = lactate_df[lactate_df.value.isnull()].index\n",
    "# target_le.drop(idx, inplace = True)\n",
    "# target_le = target_le.reset_index(drop=True)"
   ]
  },
  {
   "cell_type": "code",
   "execution_count": 19,
   "id": "d6867f94",
   "metadata": {},
   "outputs": [
    {
     "name": "stderr",
     "output_type": "stream",
     "text": [
      "100%|██████████| 50921/50921 [16:46<00:00, 50.59it/s]\n"
     ]
    }
   ],
   "source": [
    "# Lab table에 stay id 부여하기 -> charttime을 기준으로 stay_id 매핑\n",
    "\n",
    "target_ce['charttime'] = pd.to_datetime(target_ce['charttime'])\n",
    "target_le['charttime'] = pd.to_datetime(target_le['charttime'])\n",
    "\n",
    "stay_df = stay.dropna()\n",
    "stay_df['intime'] = pd.to_datetime(stay_df['intime'])\n",
    "stay_df['outtime'] = pd.to_datetime(stay_df['outtime'])\n",
    "\n",
    "\n",
    "target_le['stay_id'] = np.nan\n",
    "result = []\n",
    "\n",
    "unique_patient_ids = stay['subject_id'].unique()\n",
    "\n",
    "for p in tqdm(range(len(unique_patient_ids))):\n",
    "    \n",
    "    p_id = unique_patient_ids[p]\n",
    "    \n",
    "    lab = target_le[target_le['subject_id']==p_id].copy().sort_values('charttime').reset_index(drop=True)\n",
    "    stay_interest = stay_df[stay_df['subject_id']==p_id].copy()\n",
    "    \n",
    "    unique_stay_ids = stay_interest['stay_id'].unique()\n",
    "    \n",
    "    for s in  tqdm(range(len(unique_stay_ids)), leave=False):\n",
    "        \n",
    "        stay_id = unique_stay_ids[s]\n",
    "        \n",
    "        stay_interest2 = stay_interest[stay_interest['stay_id']==stay_id].copy()\n",
    "        \n",
    "        indices = np.where((lab['charttime'].values >= stay_interest2['intime'].values) & \n",
    "                        (lab['charttime'].values <= stay_interest2['outtime'].values))\n",
    "\n",
    "        lab['stay_id'].loc[indices[0]] = stay_id\n",
    "\n",
    "        result.append(lab)\n",
    "        \n",
    "result_df = pd.concat(result)"
   ]
  },
  {
   "cell_type": "code",
   "execution_count": 20,
   "id": "3069571b",
   "metadata": {},
   "outputs": [
    {
     "name": "stdout",
     "output_type": "stream",
     "text": [
      "lab event 관측치 개수:  50701\n"
     ]
    }
   ],
   "source": [
    "# lab event에 stay id가 부여되지 않은 관측치 수(icu stay 테이블에 stay id가 nan인 경우 발생)\n",
    "print('lab event 관측치 개수: ', len(target_le.subject_id.unique()))\n",
    "target_le_new = result_df[~(result_df['stay_id'].isnull())]"
   ]
  },
  {
   "cell_type": "code",
   "execution_count": 21,
   "id": "b93862eb",
   "metadata": {},
   "outputs": [],
   "source": [
    "target_le_new = pd.merge(target_le_new[['subject_id','stay_id', 'charttime', 'itemid', 'value','label']].copy(), stay[['stay_id','hadm_id']], how = 'left', on = ['stay_id'])"
   ]
  },
  {
   "cell_type": "code",
   "execution_count": 22,
   "id": "32ec9418",
   "metadata": {},
   "outputs": [
    {
     "data": {
      "text/plain": [
       "Index(['subject_id', 'hadm_id', 'stay_id', 'charttime', 'itemid', 'value',\n",
       "       'label'],\n",
       "      dtype='object')"
      ]
     },
     "execution_count": 22,
     "metadata": {},
     "output_type": "execute_result"
    }
   ],
   "source": [
    "target_ce.columns"
   ]
  },
  {
   "cell_type": "code",
   "execution_count": 23,
   "id": "9a47bba0-c87f-45df-978e-d474c1b1e151",
   "metadata": {},
   "outputs": [
    {
     "name": "stdout",
     "output_type": "stream",
     "text": [
      "전체 샘플 수: 61558668\n",
      "전체 환자 수: 72772\n"
     ]
    }
   ],
   "source": [
    "import time\n",
    "\n",
    "total = pd.concat([target_ce, target_le_new[['subject_id', 'hadm_id', 'stay_id', 'charttime', 'itemid', 'value','label']]], axis = 0, ignore_index = True)\n",
    "total = total.sort_values(by = ['subject_id', 'charttime'])\n",
    "\n",
    "print('전체 샘플 수:', len(total))\n",
    "print('전체 환자 수:', len(total.stay_id.unique()))"
   ]
  },
  {
   "cell_type": "code",
   "execution_count": 29,
   "id": "09478553",
   "metadata": {},
   "outputs": [],
   "source": [
    "height = total[total['label']=='height'][['subject_id', 'value']]\n",
    "weight = total[total['label']=='weight'][['subject_id', 'value']]"
   ]
  },
  {
   "cell_type": "code",
   "execution_count": 30,
   "id": "6944132c",
   "metadata": {},
   "outputs": [],
   "source": [
    "dict_h = height.set_index('subject_id')['value'].to_dict()\n",
    "dict_w = weight.set_index('subject_id')['value'].to_dict()"
   ]
  },
  {
   "cell_type": "code",
   "execution_count": 26,
   "id": "5c61a084",
   "metadata": {},
   "outputs": [],
   "source": [
    "target_pmpe = pd.merge(target_pmpe, stay[['stay_id','hadm_id']].dropna(), how = 'left', on = ['stay_id'])"
   ]
  },
  {
   "cell_type": "code",
   "execution_count": 29,
   "id": "9002c68f",
   "metadata": {},
   "outputs": [],
   "source": [
    "total.to_csv('./medical_concept_ICU(MIMIC)/lab_sig_ver3.csv') #checkpoint ce + le + mie\n",
    "target_pmpe.to_csv('./medical_concept_ICU(MIMIC)/pmpe_ver3.csv') #checkpoint ie, inge\n",
    "target_oe.to_csv('./medical_concept_ICU(MIMIC)/output_ver3.csv') #checkpoint oe"
   ]
  },
  {
   "cell_type": "code",
   "execution_count": 27,
   "id": "cb06cace",
   "metadata": {},
   "outputs": [],
   "source": [
    "import pandas as pd\n",
    "total= pd.read_csv('./medical_concept_ICU(MIMIC)/lab_sig_ver3.csv', index_col = 0) #checkpoint ce + le + mie\n"
   ]
  },
  {
   "cell_type": "code",
   "execution_count": 5,
   "id": "dd180110",
   "metadata": {},
   "outputs": [],
   "source": [
    "target_pmpe = pd.read_csv('./medical_concept_ICU(MIMIC)/pmpe_ver3.csv', index_col = 0) #checkpoint ie, inge\n",
    "target_oe = pd.read_csv('./medical_concept_ICU(MIMIC)/output_ver3.csv', index_col = 0) #checkpoint oe"
   ]
  },
  {
   "cell_type": "code",
   "execution_count": 8,
   "id": "04d615a6",
   "metadata": {},
   "outputs": [
    {
     "name": "stderr",
     "output_type": "stream",
     "text": [
      "C:\\Users\\DAHS\\AppData\\Local\\Temp\\ipykernel_11628\\1964465473.py:8: DtypeWarning: Columns (3,4,5,6,8) have mixed types. Specify dtype option on import or set low_memory=False.\n",
      "  stay = pd.read_csv('../Data/mimic/icu/icustays.csv')\n"
     ]
    }
   ],
   "source": [
    "import pandas as pd\n",
    "import numpy as np\n",
    "from tqdm import tqdm\n",
    "pd.set_option('display.max_columns', None)\n",
    "pd.set_option('mode.chained_assignment',  None)\n",
    "\n",
    "# icu stay\n",
    "stay = pd.read_csv('../Data/mimic/icu/icustays.csv')\n",
    "\n",
    "# additional information\n",
    "inf = pd.read_csv('../Data/mimic/icu/icustays_preprocessed.csv')\n",
    "\n",
    "patient_inf = demo_inf(inf)"
   ]
  },
  {
   "cell_type": "code",
   "execution_count": 9,
   "id": "ff08f627",
   "metadata": {},
   "outputs": [],
   "source": [
    "import numpy as np\n",
    "array_1 = np.array(target_pmpe.rename(columns={'amount':'value'})[['subject_id','hadm_id', 'stay_id', 'charttime', 'value', 'label']].copy())\n",
    "array_2 = np.array(total[['subject_id', 'hadm_id', 'stay_id', 'charttime', 'value', 'label']].copy())\n",
    "array_3 = np.array(target_oe[['subject_id', 'hadm_id', 'stay_id', 'charttime', 'value', 'label']].copy())"
   ]
  },
  {
   "cell_type": "code",
   "execution_count": 10,
   "id": "19e6d6a3",
   "metadata": {},
   "outputs": [
    {
     "name": "stdout",
     "output_type": "stream",
     "text": [
      "(15926314, 6)\n",
      "(61558668, 6)\n",
      "(527322662, 6)\n"
     ]
    }
   ],
   "source": [
    "print(array_1.shape)\n",
    "print(array_2.shape)\n",
    "print(array_3.shape)"
   ]
  },
  {
   "cell_type": "code",
   "execution_count": 11,
   "id": "8c454930",
   "metadata": {},
   "outputs": [],
   "source": [
    "array_12 =np.vstack([array_1, array_2])\n",
    "array_123 =np.vstack([array_12, array_3])\n",
    "\n",
    "data = pd.DataFrame(array_123, columns = ['subject_id', 'hadm_id', 'stay_id', 'charttime', 'value', 'label'])"
   ]
  },
  {
   "cell_type": "code",
   "execution_count": 12,
   "id": "aa007b9e",
   "metadata": {},
   "outputs": [],
   "source": [
    "rass_dict = {'Yes':1, 'No':0}\n",
    "gcs_e_dict = {'Spontaneously':4, 'To Speech':3, 'To Pain':2}\n",
    "gcs_v_dict = {'Oriented':5, 'No Response-ETT':1, 'Confused':4, 'No Response':1, 'Incomprehensible sounds':2, 'Inappropriate Words':3}\n",
    "gcs_m_dict = {'Obeys Commands':6, 'Localizes Pain':5, 'No response':1, 'Flex-withdraws':4, 'Abnormal Flexion':3, 'Abnormal extension':2}\n",
    "\n",
    "rass_idx = data[data['label']=='RASS']['value'].map(rass_dict).index\n",
    "gcs1_idx = data[data['label']=='Eye_Opening']['value'].map(gcs_e_dict).index\n",
    "gcs2_idx = data[data['label']=='verbal_reponse']['value'].map(gcs_v_dict).index\n",
    "gcs3_idx = data[data['label']=='mortor_response']['value'].map(gcs_m_dict).index\n",
    "\n",
    "\n",
    "data.loc[rass_idx, 'value']  = data[data['label']=='RASS']['value'].map(rass_dict)\n",
    "data.loc[gcs1_idx, 'value']  = data[data['label']=='Eye_Opening']['value'].map(gcs_e_dict)\n",
    "data.loc[gcs2_idx, 'value']  = data[data['label']=='verbal_reponse']['value'].map(gcs_v_dict)\n",
    "data.loc[gcs3_idx, 'value']  = data[data['label']=='mortor_response']['value'].map(gcs_m_dict)"
   ]
  },
  {
   "cell_type": "code",
   "execution_count": 13,
   "id": "afe9924a",
   "metadata": {},
   "outputs": [],
   "source": [
    "data.to_csv('./medical_concept_ICU(MIMIC)/concat_icu_ver3.csv')"
   ]
  },
  {
   "cell_type": "code",
   "execution_count": 1,
   "id": "623a2dde",
   "metadata": {},
   "outputs": [],
   "source": [
    "import pandas as pd\n",
    "import numpy as np\n",
    "from tqdm import tqdm\n",
    "pd.set_option('display.max_columns', None)\n",
    "pd.set_option('mode.chained_assignment',  None)\n",
    "\n",
    "inter_col = ['subject_id','hadm_id','stay_id','charttime','value','label']\n",
    "\n",
    "chunk_size = 300000\n",
    "for_pivot = pd.read_csv('./medical_concept_ICU(MIMIC)/concat_icu_ver3.csv', chunksize=chunk_size, usecols = inter_col)"
   ]
  },
  {
   "cell_type": "code",
   "execution_count": 2,
   "id": "cbcf51c6",
   "metadata": {},
   "outputs": [],
   "source": [
    "chunks = []\n",
    "for chunk in for_pivot:\n",
    "    # 변형 작업 수행\n",
    "    transformed_chunk = chunk.pivot_table(index = ['charttime','subject_id', 'hadm_id', 'stay_id'], columns = 'label')\n",
    "    chunks.append(transformed_chunk)"
   ]
  },
  {
   "cell_type": "code",
   "execution_count": 3,
   "id": "2c71a60c",
   "metadata": {},
   "outputs": [],
   "source": [
    "pivot_data = pd.concat(chunks) # 데이터 형태 변환\n",
    "sample = pivot_data.reset_index()\n",
    "\n",
    "# 이중 열 해제\n",
    "sample.columns = [' '.join(col).strip() for col in sample.columns.values]\n",
    "sample.columns = sample.columns.str.replace('value ', '')"
   ]
  },
  {
   "cell_type": "code",
   "execution_count": 276,
   "id": "62d74412",
   "metadata": {},
   "outputs": [],
   "source": [
    "sample['height'] = sample['subject_id'].copy()\n",
    "sample['weight'] = sample['subject_id'].copy()\n",
    "\n",
    "sample['weight']  = sample['weight'].map(dict_w)\n",
    "sample['height']  = sample['height'].map(dict_h)"
   ]
  },
  {
   "cell_type": "code",
   "execution_count": 4,
   "id": "89bd7ed6",
   "metadata": {},
   "outputs": [],
   "source": [
    "def Bye_bye(x):\n",
    "    x.reset_index(drop=True, inplace=True)\n",
    "    conditions = [\n",
    "        x['Lactate'].notna().any(),\n",
    "        x['HR'].notna().any(),\n",
    "        x['Eye_Opening'].notna().any(),\n",
    "        x['verbal_reponse'].notna().any(),\n",
    "        x['mortor_response'].notna().any(),\n",
    "    ]\n",
    "    \n",
    "    if all(conditions):\n",
    "        return x\n",
    "\n",
    "truncated_sample = sample.groupby('stay_id').apply(Bye_bye)\n",
    "truncated_sample.reset_index(drop=True, inplace=True)"
   ]
  },
  {
   "cell_type": "code",
   "execution_count": 5,
   "id": "b99bb220",
   "metadata": {},
   "outputs": [
    {
     "name": "stdout",
     "output_type": "stream",
     "text": [
      "조건 전 환자 수 50734\n",
      "조건 후 환자 수 31865\n",
      "조건 전 입원 수 72775\n",
      "조건 후 입원 수 41451\n",
      "조건 전 전체 관측치 수 21081021\n",
      "조건 후 전체 관측치 수 16903754\n"
     ]
    }
   ],
   "source": [
    "print('조건 전 환자 수', len(sample.subject_id.unique()))\n",
    "print('조건 후 환자 수', len(truncated_sample.subject_id.unique()))\n",
    "\n",
    "print('조건 전 입원 수', len(sample.stay_id.unique()))\n",
    "print('조건 후 입원 수', len(truncated_sample.stay_id.unique()))\n",
    "\n",
    "print('조건 전 전체 관측치 수', len(sample))\n",
    "print('조건 후 전체 관측치 수', len(truncated_sample))"
   ]
  },
  {
   "cell_type": "code",
   "execution_count": 6,
   "id": "b2a653c3-b8a4-4479-970a-45e8f52f8f25",
   "metadata": {},
   "outputs": [],
   "source": [
    "# datetime\n",
    "from datetime import datetime\n",
    "# Time since icu admission 변수 생성 함수\n",
    "def TimeAdmission(df, stay):\n",
    "\n",
    "    sample = df.copy()\n",
    "    sample['charttime']=pd.to_datetime(sample['charttime'])\n",
    "    \n",
    "    make_time = sample[['subject_id', 'stay_id', 'charttime']].copy()\n",
    "    make_time['intime'] = make_time['stay_id'].copy()\n",
    "    \n",
    "    time_icu = stay[['subject_id','stay_id', 'intime']].dropna().copy()\n",
    "    time_dict = dict(zip(time_icu[['stay_id', 'intime']]['stay_id'], time_icu[['stay_id', 'intime']]['intime']))\n",
    "    make_time['intime'] = make_time['intime'].map(time_dict)\n",
    "\n",
    "    make_time['charttime']=pd.to_datetime(make_time['charttime'])\n",
    "    make_time['intime']=pd.to_datetime(make_time['intime'])\n",
    "\n",
    "\n",
    "    make_time['Time_since_icu_admission'] = make_time['charttime'] - make_time['intime']\n",
    "    make_time['Time_since_ICU_admission'] = None\n",
    "    \n",
    "    # 죽음의 for 문 X -> apply\n",
    "\n",
    "    make_time['Time_since_ICU_admission'] = make_time['Time_since_icu_admission'].apply(lambda x: x.total_seconds() / 60)\n",
    "    \n",
    "    sample = sample.reset_index(drop=True)\n",
    "    sample['Time_since_ICU_admission'] =  make_time['Time_since_ICU_admission'].values\n",
    "    \n",
    "    return sample"
   ]
  },
  {
   "cell_type": "code",
   "execution_count": 7,
   "id": "6acc1d7f",
   "metadata": {},
   "outputs": [],
   "source": [
    "# Time resampling\n",
    "\n",
    "# 1시간 단위로 리샘플링하고 변수에 대한 평균값(median) 계산\n",
    "truncated_sample['charttime']=pd.to_datetime(truncated_sample['charttime'])\n",
    "truncated_sample = truncated_sample.sort_values(by=['stay_id', 'charttime'])"
   ]
  },
  {
   "cell_type": "code",
   "execution_count": 8,
   "id": "b98a728f",
   "metadata": {},
   "outputs": [
    {
     "name": "stderr",
     "output_type": "stream",
     "text": [
      " 95%|█████████▌| 39409/41451 [08:26<00:26, 77.83it/s]\n"
     ]
    },
    {
     "ename": "KeyboardInterrupt",
     "evalue": "",
     "output_type": "error",
     "traceback": [
      "\u001b[1;31m---------------------------------------------------------------------------\u001b[0m",
      "\u001b[1;31mKeyboardInterrupt\u001b[0m                         Traceback (most recent call last)",
      "\u001b[1;32m~\\AppData\\Local\\Temp\\ipykernel_22604\\2269658123.py\u001b[0m in \u001b[0;36m?\u001b[1;34m()\u001b[0m\n\u001b[0;32m     12\u001b[0m \u001b[1;33m\u001b[0m\u001b[0m\n\u001b[0;32m     13\u001b[0m     \u001b[0mtotal_df_list\u001b[0m \u001b[1;33m=\u001b[0m \u001b[1;33m[\u001b[0m\u001b[1;33m]\u001b[0m\u001b[1;33m\u001b[0m\u001b[1;33m\u001b[0m\u001b[0m\n\u001b[0;32m     14\u001b[0m     \u001b[0munique_stay_ids\u001b[0m \u001b[1;33m=\u001b[0m \u001b[0mtruncated_sample\u001b[0m\u001b[1;33m[\u001b[0m\u001b[1;34m'stay_id'\u001b[0m\u001b[1;33m]\u001b[0m\u001b[1;33m.\u001b[0m\u001b[0munique\u001b[0m\u001b[1;33m(\u001b[0m\u001b[1;33m)\u001b[0m\u001b[1;33m\u001b[0m\u001b[1;33m\u001b[0m\u001b[0m\n\u001b[0;32m     15\u001b[0m \u001b[1;33m\u001b[0m\u001b[0m\n\u001b[1;32m---> 16\u001b[1;33m     \u001b[1;32mfor\u001b[0m \u001b[0mi\u001b[0m \u001b[1;32min\u001b[0m \u001b[0mtqdm\u001b[0m\u001b[1;33m(\u001b[0m\u001b[0mrange\u001b[0m\u001b[1;33m(\u001b[0m\u001b[0mlen\u001b[0m\u001b[1;33m(\u001b[0m\u001b[0munique_stay_ids\u001b[0m\u001b[1;33m)\u001b[0m\u001b[1;33m)\u001b[0m\u001b[1;33m)\u001b[0m\u001b[1;33m:\u001b[0m\u001b[1;33m\u001b[0m\u001b[1;33m\u001b[0m\u001b[0m\n\u001b[0m\u001b[0;32m     17\u001b[0m         \u001b[0mstay_id\u001b[0m \u001b[1;33m=\u001b[0m \u001b[0munique_stay_ids\u001b[0m\u001b[1;33m[\u001b[0m\u001b[0mi\u001b[0m\u001b[1;33m]\u001b[0m\u001b[1;33m\u001b[0m\u001b[1;33m\u001b[0m\u001b[0m\n\u001b[0;32m     18\u001b[0m         \u001b[0mnew_sample_arr\u001b[0m \u001b[1;33m=\u001b[0m \u001b[0mtruncated_sample\u001b[0m\u001b[1;33m[\u001b[0m\u001b[0mtruncated_sample\u001b[0m\u001b[1;33m[\u001b[0m\u001b[1;34m'stay_id'\u001b[0m\u001b[1;33m]\u001b[0m \u001b[1;33m==\u001b[0m \u001b[0mstay_id\u001b[0m\u001b[1;33m]\u001b[0m\u001b[1;33m.\u001b[0m\u001b[0mreset_index\u001b[0m\u001b[1;33m(\u001b[0m\u001b[0mdrop\u001b[0m\u001b[1;33m=\u001b[0m\u001b[1;32mTrue\u001b[0m\u001b[1;33m)\u001b[0m\u001b[1;33m.\u001b[0m\u001b[0mset_index\u001b[0m\u001b[1;33m(\u001b[0m\u001b[1;34m'charttime'\u001b[0m\u001b[1;33m)\u001b[0m\u001b[1;33m.\u001b[0m\u001b[0mgroupby\u001b[0m\u001b[1;33m(\u001b[0m\u001b[1;33m[\u001b[0m\u001b[1;34m'subject_id'\u001b[0m\u001b[1;33m,\u001b[0m \u001b[1;34m'hadm_id'\u001b[0m\u001b[1;33m,\u001b[0m \u001b[1;34m'stay_id'\u001b[0m\u001b[1;33m]\u001b[0m\u001b[1;33m)\u001b[0m\u001b[1;33m.\u001b[0m\u001b[0mresample\u001b[0m\u001b[1;33m(\u001b[0m\u001b[1;34m'1H'\u001b[0m\u001b[1;33m)\u001b[0m\u001b[1;33m.\u001b[0m\u001b[0mmean\u001b[0m\u001b[1;33m(\u001b[0m\u001b[0mnumeric_only\u001b[0m\u001b[1;33m=\u001b[0m\u001b[1;32mTrue\u001b[0m\u001b[1;33m)\u001b[0m\u001b[1;33m\u001b[0m\u001b[1;33m\u001b[0m\u001b[0m\n\u001b[0;32m     19\u001b[0m \u001b[1;33m\u001b[0m\u001b[0m\n",
      "\u001b[1;32mc:\\Users\\DAHS\\anaconda3\\envs\\DL\\lib\\site-packages\\pandas\\core\\frame.py\u001b[0m in \u001b[0;36m?\u001b[1;34m(self, key)\u001b[0m\n\u001b[0;32m   3748\u001b[0m             \u001b[1;32mreturn\u001b[0m \u001b[0mself\u001b[0m\u001b[1;33m.\u001b[0m\u001b[0mwhere\u001b[0m\u001b[1;33m(\u001b[0m\u001b[0mkey\u001b[0m\u001b[1;33m)\u001b[0m\u001b[1;33m\u001b[0m\u001b[1;33m\u001b[0m\u001b[0m\n\u001b[0;32m   3749\u001b[0m \u001b[1;33m\u001b[0m\u001b[0m\n\u001b[0;32m   3750\u001b[0m         \u001b[1;31m# Do we have a (boolean) 1d indexer?\u001b[0m\u001b[1;33m\u001b[0m\u001b[1;33m\u001b[0m\u001b[0m\n\u001b[0;32m   3751\u001b[0m         \u001b[1;32mif\u001b[0m \u001b[0mcom\u001b[0m\u001b[1;33m.\u001b[0m\u001b[0mis_bool_indexer\u001b[0m\u001b[1;33m(\u001b[0m\u001b[0mkey\u001b[0m\u001b[1;33m)\u001b[0m\u001b[1;33m:\u001b[0m\u001b[1;33m\u001b[0m\u001b[1;33m\u001b[0m\u001b[0m\n\u001b[1;32m-> 3752\u001b[1;33m             \u001b[1;32mreturn\u001b[0m \u001b[0mself\u001b[0m\u001b[1;33m.\u001b[0m\u001b[0m_getitem_bool_array\u001b[0m\u001b[1;33m(\u001b[0m\u001b[0mkey\u001b[0m\u001b[1;33m)\u001b[0m\u001b[1;33m\u001b[0m\u001b[1;33m\u001b[0m\u001b[0m\n\u001b[0m\u001b[0;32m   3753\u001b[0m \u001b[1;33m\u001b[0m\u001b[0m\n\u001b[0;32m   3754\u001b[0m         \u001b[1;31m# We are left with two options: a single key, and a collection of keys,\u001b[0m\u001b[1;33m\u001b[0m\u001b[1;33m\u001b[0m\u001b[0m\n\u001b[0;32m   3755\u001b[0m         \u001b[1;31m# We interpret tuples as collections only for non-MultiIndex\u001b[0m\u001b[1;33m\u001b[0m\u001b[1;33m\u001b[0m\u001b[0m\n",
      "\u001b[1;32mc:\\Users\\DAHS\\anaconda3\\envs\\DL\\lib\\site-packages\\pandas\\core\\frame.py\u001b[0m in \u001b[0;36m?\u001b[1;34m(self, key)\u001b[0m\n\u001b[0;32m   3806\u001b[0m \u001b[1;33m\u001b[0m\u001b[0m\n\u001b[0;32m   3807\u001b[0m         \u001b[1;32mif\u001b[0m \u001b[0mkey\u001b[0m\u001b[1;33m.\u001b[0m\u001b[0mall\u001b[0m\u001b[1;33m(\u001b[0m\u001b[1;33m)\u001b[0m\u001b[1;33m:\u001b[0m\u001b[1;33m\u001b[0m\u001b[1;33m\u001b[0m\u001b[0m\n\u001b[0;32m   3808\u001b[0m             \u001b[1;32mreturn\u001b[0m \u001b[0mself\u001b[0m\u001b[1;33m.\u001b[0m\u001b[0mcopy\u001b[0m\u001b[1;33m(\u001b[0m\u001b[0mdeep\u001b[0m\u001b[1;33m=\u001b[0m\u001b[1;32mNone\u001b[0m\u001b[1;33m)\u001b[0m\u001b[1;33m\u001b[0m\u001b[1;33m\u001b[0m\u001b[0m\n\u001b[0;32m   3809\u001b[0m \u001b[1;33m\u001b[0m\u001b[0m\n\u001b[1;32m-> 3810\u001b[1;33m         \u001b[0mindexer\u001b[0m \u001b[1;33m=\u001b[0m \u001b[0mkey\u001b[0m\u001b[1;33m.\u001b[0m\u001b[0mnonzero\u001b[0m\u001b[1;33m(\u001b[0m\u001b[1;33m)\u001b[0m\u001b[1;33m[\u001b[0m\u001b[1;36m0\u001b[0m\u001b[1;33m]\u001b[0m\u001b[1;33m\u001b[0m\u001b[1;33m\u001b[0m\u001b[0m\n\u001b[0m\u001b[0;32m   3811\u001b[0m         \u001b[1;32mreturn\u001b[0m \u001b[0mself\u001b[0m\u001b[1;33m.\u001b[0m\u001b[0m_take_with_is_copy\u001b[0m\u001b[1;33m(\u001b[0m\u001b[0mindexer\u001b[0m\u001b[1;33m,\u001b[0m \u001b[0maxis\u001b[0m\u001b[1;33m=\u001b[0m\u001b[1;36m0\u001b[0m\u001b[1;33m)\u001b[0m\u001b[1;33m\u001b[0m\u001b[1;33m\u001b[0m\u001b[0m\n",
      "\u001b[1;31mKeyboardInterrupt\u001b[0m: "
     ]
    }
   ],
   "source": [
    "import numpy as np\n",
    "import warnings\n",
    "\n",
    "# I expect to see RuntimeWarnings in this block\n",
    "with warnings.catch_warnings():\n",
    "    warnings.simplefilter(\"ignore\", category=RuntimeWarning)\n",
    "    \n",
    "\n",
    "    total_df_list = []\n",
    "    unique_stay_ids = truncated_sample['stay_id'].unique()\n",
    "        \n",
    "    for i in tqdm(range(len(unique_stay_ids))):\n",
    "        stay_id = unique_stay_ids[i]\n",
    "        new_sample_arr = truncated_sample[truncated_sample['stay_id'] == stay_id].reset_index(drop=True).set_index('charttime').groupby(['subject_id', 'hadm_id', 'stay_id']).resample('1H').mean(numeric_only=True)\n",
    "        \n",
    "        total_df_list.append(new_sample_arr)\n",
    "    \n",
    "resampled_df = pd.concat(total_df_list)"
   ]
  },
  {
   "cell_type": "code",
   "execution_count": null,
   "id": "5a8bee48",
   "metadata": {},
   "outputs": [],
   "source": [
    "cut_resampled_df = resampled_df.drop(['subject_id', 'hadm_id', 'stay_id'], axis = 1).reset_index()"
   ]
  },
  {
   "cell_type": "code",
   "execution_count": null,
   "id": "8e9a3550",
   "metadata": {},
   "outputs": [],
   "source": [
    "cut_resampled_df.to_csv('check_point_timegrid_resample1010(drop=True).csv')"
   ]
  },
  {
   "cell_type": "code",
   "execution_count": 10,
   "id": "de23661b",
   "metadata": {},
   "outputs": [],
   "source": [
    "truncated_sample.to_csv('check_point_noresample1012(drop=True).csv')"
   ]
  },
  {
   "cell_type": "code",
   "execution_count": 65,
   "id": "a18e2dcb",
   "metadata": {},
   "outputs": [],
   "source": [
    "check = pd.read_csv('check_point_noresample1012(drop=True).csv', index_col = 0, nrows=1)"
   ]
  },
  {
   "cell_type": "code",
   "execution_count": 69,
   "id": "2a7ec008",
   "metadata": {},
   "outputs": [
    {
     "data": {
      "text/plain": [
       "85"
      ]
     },
     "execution_count": 69,
     "metadata": {},
     "output_type": "execute_result"
    }
   ],
   "source": [
    "len(check.columns[4:])"
   ]
  },
  {
   "cell_type": "code",
   "execution_count": 12,
   "id": "2d2c48e5",
   "metadata": {},
   "outputs": [
    {
     "name": "stderr",
     "output_type": "stream",
     "text": [
      "C:\\Users\\DAHS\\AppData\\Local\\Temp\\ipykernel_22604\\150392118.py:9: DtypeWarning: Columns (3,4,5,6,8) have mixed types. Specify dtype option on import or set low_memory=False.\n",
      "  stay = pd.read_csv('../Data/mimic/icu/icustays.csv')\n"
     ]
    }
   ],
   "source": [
    "import pandas as pd\n",
    "import numpy as np\n",
    "from tqdm import tqdm\n",
    "pd.set_option('display.max_columns', None)\n",
    "pd.set_option('mode.chained_assignment',  None)\n",
    "\n",
    "# cut_resampled_df = pd.read_csv('check_point_timegrid_resample1010(drop=True).csv', index_col = 0)\n",
    "# icu stay\n",
    "stay = pd.read_csv('../Data/mimic/icu/icustays.csv')\n",
    "\n",
    "# additional information\n",
    "inf = pd.read_csv('../Data/mimic/icu/icustays_preprocessed.csv')\n",
    "patient_inf = demo_inf(inf)"
   ]
  },
  {
   "cell_type": "code",
   "execution_count": 13,
   "id": "1fc9b113",
   "metadata": {},
   "outputs": [],
   "source": [
    "cut_resampled_df = truncated_sample.copy()"
   ]
  },
  {
   "cell_type": "code",
   "execution_count": 14,
   "id": "2c560c3c",
   "metadata": {},
   "outputs": [
    {
     "name": "stdout",
     "output_type": "stream",
     "text": [
      "총 환자 수  31865\n",
      "총 입원 수  41451\n",
      "관측치 수  16903754\n"
     ]
    }
   ],
   "source": [
    "print('총 환자 수 ', len(cut_resampled_df.subject_id.unique()))\n",
    "print('총 입원 수 ', len(cut_resampled_df.stay_id.unique())) \n",
    "print('관측치 수 ', len(cut_resampled_df))"
   ]
  },
  {
   "cell_type": "code",
   "execution_count": 15,
   "id": "13a859aa",
   "metadata": {},
   "outputs": [],
   "source": [
    "dataset = TimeAdmission(cut_resampled_df, stay)"
   ]
  },
  {
   "cell_type": "code",
   "execution_count": 16,
   "metadata": {},
   "outputs": [
    {
     "name": "stdout",
     "output_type": "stream",
     "text": [
      "총 환자 수  31865\n",
      "총 입원 수  41451\n",
      "관측치 수  16845509\n"
     ]
    }
   ],
   "source": [
    "testing_df = dataset[(dataset['Time_since_ICU_admission'] > 0)].copy() \n",
    "# 전체 데이터 관측치 수\n",
    "print('총 환자 수 ', len(testing_df.subject_id.unique()))\n",
    "print('총 입원 수 ', len(testing_df.stay_id.unique())) \n",
    "print('관측치 수 ', len(testing_df))"
   ]
  },
  {
   "cell_type": "code",
   "execution_count": 17,
   "id": "1e087e80",
   "metadata": {},
   "outputs": [],
   "source": [
    "#presense of vasoactive/inotropic durg를 확인하기 위해 변수 생성\n",
    "vaso_ino = ['Norepinephrine', 'Dobutamine', 'Dopamine', 'Epinephrine', 'Milrinone', 'Phenylephrine', 'Phenylephrine (200/250)',\n",
    "            'Phenylephrine (50/250)', 'Vasopressin', 'Digoxin']\n",
    "\n",
    "testing_df['vasoactive/inotropic'] = testing_df[vaso_ino].sum(axis = 1)\n",
    "testing_df['vasoactive/inotropic'] = testing_df['vasoactive/inotropic'].apply(lambda x: 1 if not pd.isna(x) and x != 0 else 0)\n",
    "\n",
    "\n",
    "# Acute Circulatory Failure\n",
    "# diagnosis defined by Vincent, Jean-Louis, and Daniel De Backer. \"Circulatory shock.\" New England Journal of Medicine 369.18 (2013): 1726-1734.\n",
    "def annotation(df):\n",
    "    data = df.copy()\n",
    "    \n",
    "    data['Annotation']=np.nan\n",
    "    # annotation\n",
    "\n",
    "    no_circ = data[(data['MAP'] > 65.0) & (data['vasoactive/inotropic'] == 0.0) & (data['Lactate']<=1.5)]\n",
    "    no_circ['Annotation'] = 'no_circ'\n",
    "    \n",
    "    circ = data[((data['MAP'] <= 65.0) | (data['vasoactive/inotropic'] == 1.0)) & (data['Lactate']>1.5)]\n",
    "    circ['Annotation'] = 'circ'\n",
    "\n",
    "    result = pd.concat([no_circ, circ], axis = 0)\n",
    "    result.sort_values(by=['Time_since_ICU_admission', 'subject_id'])\n",
    "    result.reset_index(drop=True, inplace = True)\n",
    "    \n",
    "    return result"
   ]
  },
  {
   "cell_type": "code",
   "execution_count": 18,
   "id": "0f3591fd",
   "metadata": {},
   "outputs": [
    {
     "name": "stdout",
     "output_type": "stream",
     "text": [
      "length of dataset after removing variable HR: 16845490\n",
      "length of dataset after removing variable ABPs: 16845291\n",
      "length of dataset after removing variable ABPd: 16844729\n",
      "length of dataset after removing variable NIBPs: 16844580\n",
      "length of dataset after removing variable NIBPd: 16844084\n",
      "length of dataset after removing variable CO: 16844077\n",
      "length of dataset after removing variable SpO2: 16843549\n",
      "length of dataset after removing variable INR: 16842927\n",
      "length of dataset after removing variable PAPs: 16842795\n",
      "length of dataset after removing variable PAPd: 16829510\n",
      "length of dataset after removing variable PCWP: 16829393\n",
      "length of dataset after removing variable CVP: 16813466\n",
      "length of dataset after removing variable Troponin-T: 16813464\n",
      "length of dataset after removing variable creatinine: 16813449\n",
      "length of dataset after removing variable Platelet_count: 16813401\n",
      "length of dataset after removing variable hemoglobin: 16813386\n",
      "length of dataset after removing variable pH: 16812689\n",
      "length of dataset after removing variable Lactate: 16811654\n",
      "length of dataset after removing variable EtCO2: 16811531\n",
      "length of dataset after removing variable Peak_insp_P: 16811490\n",
      "length of dataset after removing variable RR: 16803733\n",
      "length of dataset after removing variable SvO2: 16800738\n",
      "length of dataset after removing variable hematocrit: 16800725\n",
      "length of dataset after removing variable Potassium_Chloride: 16800649\n",
      "length of dataset after removing variable total_bilirubin: 16782953\n",
      "length of dataset after removing variable sodium: 16773092\n",
      "length of dataset after removing variable temperature_C: 16772495\n",
      "length of dataset after removing variable temperature_F: 16771917\n",
      "length of dataset after removing variable Urine_Output: 16771916\n",
      "length of dataset after removing variable PaO2: 16771257\n",
      "length of dataset after removing variable FiO2: 16622704\n",
      "length of dataset after removing variable WBC: 16614421\n",
      "length of dataset after removing variable ALT: 16614394\n",
      "length of dataset after removing variable AST: 16614394\n",
      "length of dataset after removing variable BUN: 16614378\n"
     ]
    },
    {
     "data": {
      "text/html": [
       "<div>\n",
       "<style scoped>\n",
       "    .dataframe tbody tr th:only-of-type {\n",
       "        vertical-align: middle;\n",
       "    }\n",
       "\n",
       "    .dataframe tbody tr th {\n",
       "        vertical-align: top;\n",
       "    }\n",
       "\n",
       "    .dataframe thead th {\n",
       "        text-align: right;\n",
       "    }\n",
       "</style>\n",
       "<table border=\"1\" class=\"dataframe\">\n",
       "  <thead>\n",
       "    <tr style=\"text-align: right;\">\n",
       "      <th></th>\n",
       "      <th>charttime</th>\n",
       "      <th>subject_id</th>\n",
       "      <th>hadm_id</th>\n",
       "      <th>stay_id</th>\n",
       "      <th>Antibiotics</th>\n",
       "      <th>CXR</th>\n",
       "      <th>Cisatracurium</th>\n",
       "      <th>Dextrose_5%</th>\n",
       "      <th>Digoxin</th>\n",
       "      <th>Diltiazem</th>\n",
       "      <th>Dobutamine</th>\n",
       "      <th>Dopamine</th>\n",
       "      <th>EKG</th>\n",
       "      <th>Epinephrine</th>\n",
       "      <th>Esmolol</th>\n",
       "      <th>Fluids_supplement</th>\n",
       "      <th>HeparinSodium</th>\n",
       "      <th>Invasive_Ventilation</th>\n",
       "      <th>Labetalol</th>\n",
       "      <th>MRI</th>\n",
       "      <th>Metoprolol</th>\n",
       "      <th>Milrinone</th>\n",
       "      <th>Nitroglycerin</th>\n",
       "      <th>Nitroprusside</th>\n",
       "      <th>None_Invasive_Ventilation</th>\n",
       "      <th>Norepinephrine</th>\n",
       "      <th>Phenylephrine</th>\n",
       "      <th>Phenylephrine (200/250)</th>\n",
       "      <th>Phenylephrine (50/250)</th>\n",
       "      <th>Potassium_Chloride</th>\n",
       "      <th>Rocuronium</th>\n",
       "      <th>Tirofiban</th>\n",
       "      <th>Vasopressin</th>\n",
       "      <th>Vecuronium</th>\n",
       "      <th>Verapamil</th>\n",
       "      <th>Water</th>\n",
       "      <th>blood_cultured</th>\n",
       "      <th>extra_blood</th>\n",
       "      <th>Nesiritide</th>\n",
       "      <th>Aminophylline</th>\n",
       "      <th>Abciximab</th>\n",
       "      <th>ABPd</th>\n",
       "      <th>ABPs</th>\n",
       "      <th>ALT</th>\n",
       "      <th>AST</th>\n",
       "      <th>Alkaline_Phosphate</th>\n",
       "      <th>BUN</th>\n",
       "      <th>CO</th>\n",
       "      <th>CRP</th>\n",
       "      <th>CVOS</th>\n",
       "      <th>CVP</th>\n",
       "      <th>Ca_non_ionized</th>\n",
       "      <th>EtCO2</th>\n",
       "      <th>Eye_Opening</th>\n",
       "      <th>FiO2</th>\n",
       "      <th>HR</th>\n",
       "      <th>INR</th>\n",
       "      <th>K+</th>\n",
       "      <th>Lactate</th>\n",
       "      <th>NIBPd</th>\n",
       "      <th>NIBPs</th>\n",
       "      <th>PAPd</th>\n",
       "      <th>PAPs</th>\n",
       "      <th>PCWP</th>\n",
       "      <th>PaO2</th>\n",
       "      <th>Peak_insp_P</th>\n",
       "      <th>Platelet_count</th>\n",
       "      <th>RASS</th>\n",
       "      <th>RR</th>\n",
       "      <th>SpO2</th>\n",
       "      <th>SvO2</th>\n",
       "      <th>Troponin-T</th>\n",
       "      <th>Urine_Output</th>\n",
       "      <th>WBC</th>\n",
       "      <th>creatinine</th>\n",
       "      <th>glucose</th>\n",
       "      <th>height</th>\n",
       "      <th>hematocrit</th>\n",
       "      <th>hemoglobin</th>\n",
       "      <th>mortor_response</th>\n",
       "      <th>pCO2</th>\n",
       "      <th>pH</th>\n",
       "      <th>sodium</th>\n",
       "      <th>temperature_C</th>\n",
       "      <th>temperature_F</th>\n",
       "      <th>total_bilirubin</th>\n",
       "      <th>verbal_reponse</th>\n",
       "      <th>weight</th>\n",
       "      <th>Urine_output</th>\n",
       "      <th>Time_since_ICU_admission</th>\n",
       "      <th>vasoactive/inotropic</th>\n",
       "    </tr>\n",
       "  </thead>\n",
       "  <tbody>\n",
       "    <tr>\n",
       "      <th>8</th>\n",
       "      <td>2174-09-29 12:10:00</td>\n",
       "      <td>12466550</td>\n",
       "      <td>23998182.0</td>\n",
       "      <td>30000153.0</td>\n",
       "      <td>NaN</td>\n",
       "      <td>NaN</td>\n",
       "      <td>NaN</td>\n",
       "      <td>NaN</td>\n",
       "      <td>NaN</td>\n",
       "      <td>NaN</td>\n",
       "      <td>NaN</td>\n",
       "      <td>NaN</td>\n",
       "      <td>NaN</td>\n",
       "      <td>NaN</td>\n",
       "      <td>NaN</td>\n",
       "      <td>NaN</td>\n",
       "      <td>NaN</td>\n",
       "      <td>NaN</td>\n",
       "      <td>NaN</td>\n",
       "      <td>NaN</td>\n",
       "      <td>NaN</td>\n",
       "      <td>NaN</td>\n",
       "      <td>NaN</td>\n",
       "      <td>NaN</td>\n",
       "      <td>NaN</td>\n",
       "      <td>NaN</td>\n",
       "      <td>NaN</td>\n",
       "      <td>NaN</td>\n",
       "      <td>NaN</td>\n",
       "      <td>NaN</td>\n",
       "      <td>NaN</td>\n",
       "      <td>NaN</td>\n",
       "      <td>NaN</td>\n",
       "      <td>NaN</td>\n",
       "      <td>NaN</td>\n",
       "      <td>30.000000</td>\n",
       "      <td>NaN</td>\n",
       "      <td>NaN</td>\n",
       "      <td>NaN</td>\n",
       "      <td>NaN</td>\n",
       "      <td>NaN</td>\n",
       "      <td>NaN</td>\n",
       "      <td>NaN</td>\n",
       "      <td>NaN</td>\n",
       "      <td>NaN</td>\n",
       "      <td>NaN</td>\n",
       "      <td>NaN</td>\n",
       "      <td>NaN</td>\n",
       "      <td>NaN</td>\n",
       "      <td>NaN</td>\n",
       "      <td>NaN</td>\n",
       "      <td>NaN</td>\n",
       "      <td>NaN</td>\n",
       "      <td>NaN</td>\n",
       "      <td>NaN</td>\n",
       "      <td>NaN</td>\n",
       "      <td>NaN</td>\n",
       "      <td>NaN</td>\n",
       "      <td>NaN</td>\n",
       "      <td>NaN</td>\n",
       "      <td>NaN</td>\n",
       "      <td>NaN</td>\n",
       "      <td>NaN</td>\n",
       "      <td>NaN</td>\n",
       "      <td>NaN</td>\n",
       "      <td>NaN</td>\n",
       "      <td>NaN</td>\n",
       "      <td>NaN</td>\n",
       "      <td>NaN</td>\n",
       "      <td>NaN</td>\n",
       "      <td>NaN</td>\n",
       "      <td>NaN</td>\n",
       "      <td>NaN</td>\n",
       "      <td>NaN</td>\n",
       "      <td>NaN</td>\n",
       "      <td>NaN</td>\n",
       "      <td>NaN</td>\n",
       "      <td>NaN</td>\n",
       "      <td>NaN</td>\n",
       "      <td>NaN</td>\n",
       "      <td>NaN</td>\n",
       "      <td>NaN</td>\n",
       "      <td>NaN</td>\n",
       "      <td>NaN</td>\n",
       "      <td>NaN</td>\n",
       "      <td>NaN</td>\n",
       "      <td>NaN</td>\n",
       "      <td>NaN</td>\n",
       "      <td>NaN</td>\n",
       "      <td>1.0</td>\n",
       "      <td>0</td>\n",
       "    </tr>\n",
       "    <tr>\n",
       "      <th>9</th>\n",
       "      <td>2174-09-29 12:12:00</td>\n",
       "      <td>12466550</td>\n",
       "      <td>23998182.0</td>\n",
       "      <td>30000153.0</td>\n",
       "      <td>NaN</td>\n",
       "      <td>NaN</td>\n",
       "      <td>NaN</td>\n",
       "      <td>NaN</td>\n",
       "      <td>NaN</td>\n",
       "      <td>NaN</td>\n",
       "      <td>NaN</td>\n",
       "      <td>NaN</td>\n",
       "      <td>NaN</td>\n",
       "      <td>NaN</td>\n",
       "      <td>NaN</td>\n",
       "      <td>NaN</td>\n",
       "      <td>NaN</td>\n",
       "      <td>NaN</td>\n",
       "      <td>NaN</td>\n",
       "      <td>NaN</td>\n",
       "      <td>NaN</td>\n",
       "      <td>NaN</td>\n",
       "      <td>NaN</td>\n",
       "      <td>NaN</td>\n",
       "      <td>NaN</td>\n",
       "      <td>NaN</td>\n",
       "      <td>NaN</td>\n",
       "      <td>NaN</td>\n",
       "      <td>NaN</td>\n",
       "      <td>NaN</td>\n",
       "      <td>NaN</td>\n",
       "      <td>NaN</td>\n",
       "      <td>NaN</td>\n",
       "      <td>NaN</td>\n",
       "      <td>NaN</td>\n",
       "      <td>NaN</td>\n",
       "      <td>NaN</td>\n",
       "      <td>NaN</td>\n",
       "      <td>NaN</td>\n",
       "      <td>NaN</td>\n",
       "      <td>NaN</td>\n",
       "      <td>NaN</td>\n",
       "      <td>NaN</td>\n",
       "      <td>NaN</td>\n",
       "      <td>NaN</td>\n",
       "      <td>NaN</td>\n",
       "      <td>NaN</td>\n",
       "      <td>NaN</td>\n",
       "      <td>NaN</td>\n",
       "      <td>NaN</td>\n",
       "      <td>NaN</td>\n",
       "      <td>NaN</td>\n",
       "      <td>NaN</td>\n",
       "      <td>NaN</td>\n",
       "      <td>NaN</td>\n",
       "      <td>NaN</td>\n",
       "      <td>NaN</td>\n",
       "      <td>NaN</td>\n",
       "      <td>NaN</td>\n",
       "      <td>NaN</td>\n",
       "      <td>NaN</td>\n",
       "      <td>NaN</td>\n",
       "      <td>NaN</td>\n",
       "      <td>NaN</td>\n",
       "      <td>NaN</td>\n",
       "      <td>NaN</td>\n",
       "      <td>NaN</td>\n",
       "      <td>NaN</td>\n",
       "      <td>NaN</td>\n",
       "      <td>NaN</td>\n",
       "      <td>NaN</td>\n",
       "      <td>NaN</td>\n",
       "      <td>NaN</td>\n",
       "      <td>NaN</td>\n",
       "      <td>NaN</td>\n",
       "      <td>NaN</td>\n",
       "      <td>NaN</td>\n",
       "      <td>NaN</td>\n",
       "      <td>NaN</td>\n",
       "      <td>NaN</td>\n",
       "      <td>NaN</td>\n",
       "      <td>NaN</td>\n",
       "      <td>NaN</td>\n",
       "      <td>NaN</td>\n",
       "      <td>NaN</td>\n",
       "      <td>NaN</td>\n",
       "      <td>NaN</td>\n",
       "      <td>NaN</td>\n",
       "      <td>280.0</td>\n",
       "      <td>3.0</td>\n",
       "      <td>0</td>\n",
       "    </tr>\n",
       "    <tr>\n",
       "      <th>10</th>\n",
       "      <td>2174-09-29 12:25:00</td>\n",
       "      <td>12466550</td>\n",
       "      <td>23998182.0</td>\n",
       "      <td>30000153.0</td>\n",
       "      <td>NaN</td>\n",
       "      <td>NaN</td>\n",
       "      <td>NaN</td>\n",
       "      <td>NaN</td>\n",
       "      <td>NaN</td>\n",
       "      <td>NaN</td>\n",
       "      <td>NaN</td>\n",
       "      <td>NaN</td>\n",
       "      <td>NaN</td>\n",
       "      <td>NaN</td>\n",
       "      <td>NaN</td>\n",
       "      <td>NaN</td>\n",
       "      <td>NaN</td>\n",
       "      <td>NaN</td>\n",
       "      <td>NaN</td>\n",
       "      <td>NaN</td>\n",
       "      <td>NaN</td>\n",
       "      <td>NaN</td>\n",
       "      <td>NaN</td>\n",
       "      <td>NaN</td>\n",
       "      <td>NaN</td>\n",
       "      <td>NaN</td>\n",
       "      <td>NaN</td>\n",
       "      <td>NaN</td>\n",
       "      <td>NaN</td>\n",
       "      <td>NaN</td>\n",
       "      <td>NaN</td>\n",
       "      <td>NaN</td>\n",
       "      <td>NaN</td>\n",
       "      <td>NaN</td>\n",
       "      <td>NaN</td>\n",
       "      <td>NaN</td>\n",
       "      <td>NaN</td>\n",
       "      <td>NaN</td>\n",
       "      <td>NaN</td>\n",
       "      <td>NaN</td>\n",
       "      <td>NaN</td>\n",
       "      <td>NaN</td>\n",
       "      <td>NaN</td>\n",
       "      <td>NaN</td>\n",
       "      <td>NaN</td>\n",
       "      <td>NaN</td>\n",
       "      <td>NaN</td>\n",
       "      <td>NaN</td>\n",
       "      <td>NaN</td>\n",
       "      <td>NaN</td>\n",
       "      <td>NaN</td>\n",
       "      <td>NaN</td>\n",
       "      <td>NaN</td>\n",
       "      <td>NaN</td>\n",
       "      <td>50.0</td>\n",
       "      <td>NaN</td>\n",
       "      <td>NaN</td>\n",
       "      <td>NaN</td>\n",
       "      <td>NaN</td>\n",
       "      <td>NaN</td>\n",
       "      <td>NaN</td>\n",
       "      <td>NaN</td>\n",
       "      <td>NaN</td>\n",
       "      <td>NaN</td>\n",
       "      <td>NaN</td>\n",
       "      <td>NaN</td>\n",
       "      <td>NaN</td>\n",
       "      <td>NaN</td>\n",
       "      <td>NaN</td>\n",
       "      <td>NaN</td>\n",
       "      <td>NaN</td>\n",
       "      <td>NaN</td>\n",
       "      <td>NaN</td>\n",
       "      <td>NaN</td>\n",
       "      <td>NaN</td>\n",
       "      <td>NaN</td>\n",
       "      <td>NaN</td>\n",
       "      <td>NaN</td>\n",
       "      <td>NaN</td>\n",
       "      <td>NaN</td>\n",
       "      <td>NaN</td>\n",
       "      <td>NaN</td>\n",
       "      <td>NaN</td>\n",
       "      <td>NaN</td>\n",
       "      <td>NaN</td>\n",
       "      <td>NaN</td>\n",
       "      <td>NaN</td>\n",
       "      <td>NaN</td>\n",
       "      <td>NaN</td>\n",
       "      <td>16.0</td>\n",
       "      <td>0</td>\n",
       "    </tr>\n",
       "    <tr>\n",
       "      <th>11</th>\n",
       "      <td>2174-09-29 12:27:00</td>\n",
       "      <td>12466550</td>\n",
       "      <td>23998182.0</td>\n",
       "      <td>30000153.0</td>\n",
       "      <td>NaN</td>\n",
       "      <td>NaN</td>\n",
       "      <td>NaN</td>\n",
       "      <td>NaN</td>\n",
       "      <td>NaN</td>\n",
       "      <td>NaN</td>\n",
       "      <td>NaN</td>\n",
       "      <td>NaN</td>\n",
       "      <td>NaN</td>\n",
       "      <td>NaN</td>\n",
       "      <td>NaN</td>\n",
       "      <td>NaN</td>\n",
       "      <td>NaN</td>\n",
       "      <td>NaN</td>\n",
       "      <td>NaN</td>\n",
       "      <td>NaN</td>\n",
       "      <td>NaN</td>\n",
       "      <td>NaN</td>\n",
       "      <td>NaN</td>\n",
       "      <td>NaN</td>\n",
       "      <td>NaN</td>\n",
       "      <td>NaN</td>\n",
       "      <td>NaN</td>\n",
       "      <td>NaN</td>\n",
       "      <td>NaN</td>\n",
       "      <td>NaN</td>\n",
       "      <td>NaN</td>\n",
       "      <td>NaN</td>\n",
       "      <td>NaN</td>\n",
       "      <td>NaN</td>\n",
       "      <td>NaN</td>\n",
       "      <td>NaN</td>\n",
       "      <td>NaN</td>\n",
       "      <td>NaN</td>\n",
       "      <td>NaN</td>\n",
       "      <td>NaN</td>\n",
       "      <td>NaN</td>\n",
       "      <td>NaN</td>\n",
       "      <td>NaN</td>\n",
       "      <td>NaN</td>\n",
       "      <td>NaN</td>\n",
       "      <td>NaN</td>\n",
       "      <td>NaN</td>\n",
       "      <td>NaN</td>\n",
       "      <td>NaN</td>\n",
       "      <td>NaN</td>\n",
       "      <td>NaN</td>\n",
       "      <td>NaN</td>\n",
       "      <td>NaN</td>\n",
       "      <td>NaN</td>\n",
       "      <td>NaN</td>\n",
       "      <td>NaN</td>\n",
       "      <td>NaN</td>\n",
       "      <td>NaN</td>\n",
       "      <td>NaN</td>\n",
       "      <td>NaN</td>\n",
       "      <td>NaN</td>\n",
       "      <td>NaN</td>\n",
       "      <td>NaN</td>\n",
       "      <td>NaN</td>\n",
       "      <td>NaN</td>\n",
       "      <td>NaN</td>\n",
       "      <td>NaN</td>\n",
       "      <td>NaN</td>\n",
       "      <td>NaN</td>\n",
       "      <td>NaN</td>\n",
       "      <td>NaN</td>\n",
       "      <td>NaN</td>\n",
       "      <td>NaN</td>\n",
       "      <td>NaN</td>\n",
       "      <td>NaN</td>\n",
       "      <td>NaN</td>\n",
       "      <td>NaN</td>\n",
       "      <td>35.0</td>\n",
       "      <td>NaN</td>\n",
       "      <td>NaN</td>\n",
       "      <td>NaN</td>\n",
       "      <td>NaN</td>\n",
       "      <td>NaN</td>\n",
       "      <td>NaN</td>\n",
       "      <td>NaN</td>\n",
       "      <td>NaN</td>\n",
       "      <td>NaN</td>\n",
       "      <td>NaN</td>\n",
       "      <td>NaN</td>\n",
       "      <td>18.0</td>\n",
       "      <td>0</td>\n",
       "    </tr>\n",
       "    <tr>\n",
       "      <th>12</th>\n",
       "      <td>2174-09-29 12:34:00</td>\n",
       "      <td>12466550</td>\n",
       "      <td>23998182.0</td>\n",
       "      <td>30000153.0</td>\n",
       "      <td>NaN</td>\n",
       "      <td>NaN</td>\n",
       "      <td>NaN</td>\n",
       "      <td>NaN</td>\n",
       "      <td>NaN</td>\n",
       "      <td>NaN</td>\n",
       "      <td>NaN</td>\n",
       "      <td>NaN</td>\n",
       "      <td>NaN</td>\n",
       "      <td>NaN</td>\n",
       "      <td>NaN</td>\n",
       "      <td>NaN</td>\n",
       "      <td>NaN</td>\n",
       "      <td>NaN</td>\n",
       "      <td>NaN</td>\n",
       "      <td>NaN</td>\n",
       "      <td>NaN</td>\n",
       "      <td>NaN</td>\n",
       "      <td>NaN</td>\n",
       "      <td>NaN</td>\n",
       "      <td>NaN</td>\n",
       "      <td>NaN</td>\n",
       "      <td>NaN</td>\n",
       "      <td>NaN</td>\n",
       "      <td>NaN</td>\n",
       "      <td>NaN</td>\n",
       "      <td>NaN</td>\n",
       "      <td>NaN</td>\n",
       "      <td>NaN</td>\n",
       "      <td>NaN</td>\n",
       "      <td>NaN</td>\n",
       "      <td>13.011205</td>\n",
       "      <td>NaN</td>\n",
       "      <td>NaN</td>\n",
       "      <td>NaN</td>\n",
       "      <td>NaN</td>\n",
       "      <td>NaN</td>\n",
       "      <td>NaN</td>\n",
       "      <td>NaN</td>\n",
       "      <td>NaN</td>\n",
       "      <td>NaN</td>\n",
       "      <td>NaN</td>\n",
       "      <td>NaN</td>\n",
       "      <td>NaN</td>\n",
       "      <td>NaN</td>\n",
       "      <td>NaN</td>\n",
       "      <td>NaN</td>\n",
       "      <td>NaN</td>\n",
       "      <td>NaN</td>\n",
       "      <td>NaN</td>\n",
       "      <td>NaN</td>\n",
       "      <td>NaN</td>\n",
       "      <td>NaN</td>\n",
       "      <td>NaN</td>\n",
       "      <td>NaN</td>\n",
       "      <td>NaN</td>\n",
       "      <td>NaN</td>\n",
       "      <td>NaN</td>\n",
       "      <td>NaN</td>\n",
       "      <td>NaN</td>\n",
       "      <td>NaN</td>\n",
       "      <td>NaN</td>\n",
       "      <td>NaN</td>\n",
       "      <td>NaN</td>\n",
       "      <td>NaN</td>\n",
       "      <td>NaN</td>\n",
       "      <td>NaN</td>\n",
       "      <td>NaN</td>\n",
       "      <td>NaN</td>\n",
       "      <td>NaN</td>\n",
       "      <td>NaN</td>\n",
       "      <td>NaN</td>\n",
       "      <td>NaN</td>\n",
       "      <td>NaN</td>\n",
       "      <td>NaN</td>\n",
       "      <td>NaN</td>\n",
       "      <td>NaN</td>\n",
       "      <td>NaN</td>\n",
       "      <td>NaN</td>\n",
       "      <td>NaN</td>\n",
       "      <td>NaN</td>\n",
       "      <td>NaN</td>\n",
       "      <td>NaN</td>\n",
       "      <td>NaN</td>\n",
       "      <td>NaN</td>\n",
       "      <td>25.0</td>\n",
       "      <td>0</td>\n",
       "    </tr>\n",
       "  </tbody>\n",
       "</table>\n",
       "</div>"
      ],
      "text/plain": [
       "             charttime  subject_id     hadm_id     stay_id  Antibiotics  CXR  \\\n",
       "8  2174-09-29 12:10:00    12466550  23998182.0  30000153.0          NaN  NaN   \n",
       "9  2174-09-29 12:12:00    12466550  23998182.0  30000153.0          NaN  NaN   \n",
       "10 2174-09-29 12:25:00    12466550  23998182.0  30000153.0          NaN  NaN   \n",
       "11 2174-09-29 12:27:00    12466550  23998182.0  30000153.0          NaN  NaN   \n",
       "12 2174-09-29 12:34:00    12466550  23998182.0  30000153.0          NaN  NaN   \n",
       "\n",
       "    Cisatracurium  Dextrose_5%  Digoxin  Diltiazem  Dobutamine  Dopamine  EKG  \\\n",
       "8             NaN          NaN      NaN        NaN         NaN       NaN  NaN   \n",
       "9             NaN          NaN      NaN        NaN         NaN       NaN  NaN   \n",
       "10            NaN          NaN      NaN        NaN         NaN       NaN  NaN   \n",
       "11            NaN          NaN      NaN        NaN         NaN       NaN  NaN   \n",
       "12            NaN          NaN      NaN        NaN         NaN       NaN  NaN   \n",
       "\n",
       "    Epinephrine  Esmolol  Fluids_supplement  HeparinSodium  \\\n",
       "8           NaN      NaN                NaN            NaN   \n",
       "9           NaN      NaN                NaN            NaN   \n",
       "10          NaN      NaN                NaN            NaN   \n",
       "11          NaN      NaN                NaN            NaN   \n",
       "12          NaN      NaN                NaN            NaN   \n",
       "\n",
       "    Invasive_Ventilation  Labetalol  MRI  Metoprolol  Milrinone  \\\n",
       "8                    NaN        NaN  NaN         NaN        NaN   \n",
       "9                    NaN        NaN  NaN         NaN        NaN   \n",
       "10                   NaN        NaN  NaN         NaN        NaN   \n",
       "11                   NaN        NaN  NaN         NaN        NaN   \n",
       "12                   NaN        NaN  NaN         NaN        NaN   \n",
       "\n",
       "    Nitroglycerin  Nitroprusside  None_Invasive_Ventilation  Norepinephrine  \\\n",
       "8             NaN            NaN                        NaN             NaN   \n",
       "9             NaN            NaN                        NaN             NaN   \n",
       "10            NaN            NaN                        NaN             NaN   \n",
       "11            NaN            NaN                        NaN             NaN   \n",
       "12            NaN            NaN                        NaN             NaN   \n",
       "\n",
       "    Phenylephrine  Phenylephrine (200/250)  Phenylephrine (50/250)  \\\n",
       "8             NaN                      NaN                     NaN   \n",
       "9             NaN                      NaN                     NaN   \n",
       "10            NaN                      NaN                     NaN   \n",
       "11            NaN                      NaN                     NaN   \n",
       "12            NaN                      NaN                     NaN   \n",
       "\n",
       "    Potassium_Chloride  Rocuronium  Tirofiban  Vasopressin  Vecuronium  \\\n",
       "8                  NaN         NaN        NaN          NaN         NaN   \n",
       "9                  NaN         NaN        NaN          NaN         NaN   \n",
       "10                 NaN         NaN        NaN          NaN         NaN   \n",
       "11                 NaN         NaN        NaN          NaN         NaN   \n",
       "12                 NaN         NaN        NaN          NaN         NaN   \n",
       "\n",
       "    Verapamil      Water  blood_cultured  extra_blood  Nesiritide  \\\n",
       "8         NaN  30.000000             NaN          NaN         NaN   \n",
       "9         NaN        NaN             NaN          NaN         NaN   \n",
       "10        NaN        NaN             NaN          NaN         NaN   \n",
       "11        NaN        NaN             NaN          NaN         NaN   \n",
       "12        NaN  13.011205             NaN          NaN         NaN   \n",
       "\n",
       "    Aminophylline  Abciximab  ABPd  ABPs  ALT  AST  Alkaline_Phosphate  BUN  \\\n",
       "8             NaN        NaN   NaN   NaN  NaN  NaN                 NaN  NaN   \n",
       "9             NaN        NaN   NaN   NaN  NaN  NaN                 NaN  NaN   \n",
       "10            NaN        NaN   NaN   NaN  NaN  NaN                 NaN  NaN   \n",
       "11            NaN        NaN   NaN   NaN  NaN  NaN                 NaN  NaN   \n",
       "12            NaN        NaN   NaN   NaN  NaN  NaN                 NaN  NaN   \n",
       "\n",
       "    CO  CRP  CVOS  CVP  Ca_non_ionized  EtCO2  Eye_Opening  FiO2  HR  INR  K+  \\\n",
       "8  NaN  NaN   NaN  NaN             NaN    NaN          NaN   NaN NaN  NaN NaN   \n",
       "9  NaN  NaN   NaN  NaN             NaN    NaN          NaN   NaN NaN  NaN NaN   \n",
       "10 NaN  NaN   NaN  NaN             NaN    NaN          NaN  50.0 NaN  NaN NaN   \n",
       "11 NaN  NaN   NaN  NaN             NaN    NaN          NaN   NaN NaN  NaN NaN   \n",
       "12 NaN  NaN   NaN  NaN             NaN    NaN          NaN   NaN NaN  NaN NaN   \n",
       "\n",
       "    Lactate  NIBPd  NIBPs  PAPd  PAPs  PCWP  PaO2  Peak_insp_P  \\\n",
       "8       NaN    NaN    NaN   NaN   NaN   NaN   NaN          NaN   \n",
       "9       NaN    NaN    NaN   NaN   NaN   NaN   NaN          NaN   \n",
       "10      NaN    NaN    NaN   NaN   NaN   NaN   NaN          NaN   \n",
       "11      NaN    NaN    NaN   NaN   NaN   NaN   NaN          NaN   \n",
       "12      NaN    NaN    NaN   NaN   NaN   NaN   NaN          NaN   \n",
       "\n",
       "    Platelet_count  RASS  RR  SpO2  SvO2  Troponin-T  Urine_Output  WBC  \\\n",
       "8              NaN   NaN NaN   NaN   NaN         NaN           NaN  NaN   \n",
       "9              NaN   NaN NaN   NaN   NaN         NaN           NaN  NaN   \n",
       "10             NaN   NaN NaN   NaN   NaN         NaN           NaN  NaN   \n",
       "11             NaN   NaN NaN   NaN   NaN         NaN           NaN  NaN   \n",
       "12             NaN   NaN NaN   NaN   NaN         NaN           NaN  NaN   \n",
       "\n",
       "    creatinine  glucose  height  hematocrit  hemoglobin  mortor_response  \\\n",
       "8          NaN      NaN     NaN         NaN         NaN              NaN   \n",
       "9          NaN      NaN     NaN         NaN         NaN              NaN   \n",
       "10         NaN      NaN     NaN         NaN         NaN              NaN   \n",
       "11         NaN      NaN     NaN        35.0         NaN              NaN   \n",
       "12         NaN      NaN     NaN         NaN         NaN              NaN   \n",
       "\n",
       "    pCO2  pH  sodium  temperature_C  temperature_F  total_bilirubin  \\\n",
       "8    NaN NaN     NaN            NaN            NaN              NaN   \n",
       "9    NaN NaN     NaN            NaN            NaN              NaN   \n",
       "10   NaN NaN     NaN            NaN            NaN              NaN   \n",
       "11   NaN NaN     NaN            NaN            NaN              NaN   \n",
       "12   NaN NaN     NaN            NaN            NaN              NaN   \n",
       "\n",
       "    verbal_reponse  weight  Urine_output  Time_since_ICU_admission  \\\n",
       "8              NaN     NaN           NaN                       1.0   \n",
       "9              NaN     NaN         280.0                       3.0   \n",
       "10             NaN     NaN           NaN                      16.0   \n",
       "11             NaN     NaN           NaN                      18.0   \n",
       "12             NaN     NaN           NaN                      25.0   \n",
       "\n",
       "    vasoactive/inotropic  \n",
       "8                      0  \n",
       "9                      0  \n",
       "10                     0  \n",
       "11                     0  \n",
       "12                     0  "
      ]
     },
     "metadata": {},
     "output_type": "display_data"
    },
    {
     "name": "stdout",
     "output_type": "stream",
     "text": [
      "aritificial removal 이후 데이터 관측치 수:  16614378\n",
      "제거된 샘플 수:  231131\n",
      "총 환자 수  31865\n",
      "총 입원 수  41451\n",
      "관측치 수  16614378\n"
     ]
    }
   ],
   "source": [
    "### artificial removal 먼저 진행 후 작업해야함\n",
    "\n",
    "# 각 열의 허용 범위 지정\n",
    "column_ranges = {\n",
    "    'HR' : (0, 300),\n",
    "    'ABPs': (10,300),\n",
    "    'ABPd': (10,175),\n",
    "    'NIBPs': (10,300),\n",
    "    'NIBPd': (10,175),\n",
    "    'CO'  : (0,20),\n",
    "    'SpO2': (10,100),\n",
    "    'INR' :\t(0,8),\n",
    "    'PAPs':\t(10,150),\n",
    "    'PAPd': (10,70),\n",
    "    'PCWP':\t(8,50),\n",
    "    'CVP': (0,50),\n",
    "    'Troponin-T': (0, 15000),\n",
    "    'creatinine': (0, 1500),\n",
    "    'Platelet_count': (0, 1500),\n",
    "    'hemoglobin': (0, 200),\n",
    "    'pH':(7.0, 8.5),\n",
    "    'Lactate': (0,15),\n",
    "    'EtCO2': (10, 100),\n",
    "    'Peak_insp_P': (0,100),\n",
    "    'RR': (0,45),\n",
    "    'SvO2': (0,85),\n",
    "    'hematocrit': (0,70),\n",
    "    'Potassium_Chloride':(0,100),\n",
    "    'total_bilirubin':(0,5),\n",
    "    'sodium':(0,150),\n",
    "    'temperature_C':(30,45),\n",
    "    'temperature_F': (40,120),\n",
    "    'Urine_Output':(0,10000),\n",
    "    'PaO2': (20 ,500),\n",
    "    'FiO2': (21, 50),\n",
    "    'WBC': (0, 30),\n",
    "    'ALT': (0, 12000) ,\n",
    "    'AST': (0, 30000) ,\n",
    "    'BUN': (0, 1000)\n",
    "}\n",
    "\n",
    "after_removal = testing_df.copy()\n",
    "\n",
    "# 범위를 벗어나는 행 필터링\n",
    "for column, (lower_limit, upper_limit) in column_ranges.items():\n",
    "    after_removal = after_removal[~((after_removal[column] < lower_limit) | (after_removal[column] > upper_limit))]\n",
    "\n",
    "    \n",
    "    print('length of dataset after removing variable {}: {}'.format(column, len(after_removal)))\n",
    "\n",
    "# 결과 출력\n",
    "display(after_removal.head())\n",
    "print('aritificial removal 이후 데이터 관측치 수: ', len(after_removal))\n",
    "print('제거된 샘플 수: ', len(testing_df) - len(after_removal))\n",
    "print('총 환자 수 ', len(after_removal.subject_id.unique()))\n",
    "print('총 입원 수 ', len(after_removal.stay_id.unique())) \n",
    "print('관측치 수 ', len(after_removal))"
   ]
  },
  {
   "cell_type": "code",
   "execution_count": 19,
   "id": "467e14d0",
   "metadata": {},
   "outputs": [
    {
     "data": {
      "text/html": [
       "<div>\n",
       "<style scoped>\n",
       "    .dataframe tbody tr th:only-of-type {\n",
       "        vertical-align: middle;\n",
       "    }\n",
       "\n",
       "    .dataframe tbody tr th {\n",
       "        vertical-align: top;\n",
       "    }\n",
       "\n",
       "    .dataframe thead th {\n",
       "        text-align: right;\n",
       "    }\n",
       "</style>\n",
       "<table border=\"1\" class=\"dataframe\">\n",
       "  <thead>\n",
       "    <tr style=\"text-align: right;\">\n",
       "      <th></th>\n",
       "      <th>subject_id</th>\n",
       "      <th>stay_id</th>\n",
       "      <th>intime</th>\n",
       "      <th>age_at_intime</th>\n",
       "      <th>race</th>\n",
       "      <th>gender</th>\n",
       "    </tr>\n",
       "  </thead>\n",
       "  <tbody>\n",
       "    <tr>\n",
       "      <th>0</th>\n",
       "      <td>14046553</td>\n",
       "      <td>35605481</td>\n",
       "      <td>2150-03-03 11:28:38</td>\n",
       "      <td>84.171173</td>\n",
       "      <td>WHITE</td>\n",
       "      <td>M</td>\n",
       "    </tr>\n",
       "    <tr>\n",
       "      <th>1</th>\n",
       "      <td>14990224</td>\n",
       "      <td>30503572</td>\n",
       "      <td>2121-08-31 21:29:49</td>\n",
       "      <td>71.665468</td>\n",
       "      <td>WHITE</td>\n",
       "      <td>M</td>\n",
       "    </tr>\n",
       "    <tr>\n",
       "      <th>2</th>\n",
       "      <td>17913090</td>\n",
       "      <td>30593599</td>\n",
       "      <td>2145-06-14 16:49:38</td>\n",
       "      <td>50.456715</td>\n",
       "      <td>BLACK</td>\n",
       "      <td>F</td>\n",
       "    </tr>\n",
       "    <tr>\n",
       "      <th>3</th>\n",
       "      <td>16058391</td>\n",
       "      <td>37640580</td>\n",
       "      <td>2128-09-18 05:27:41</td>\n",
       "      <td>61.715692</td>\n",
       "      <td>OTHER</td>\n",
       "      <td>M</td>\n",
       "    </tr>\n",
       "    <tr>\n",
       "      <th>4</th>\n",
       "      <td>16788749</td>\n",
       "      <td>30610654</td>\n",
       "      <td>2180-01-19 20:40:36</td>\n",
       "      <td>54.051675</td>\n",
       "      <td>WHITE</td>\n",
       "      <td>F</td>\n",
       "    </tr>\n",
       "    <tr>\n",
       "      <th>...</th>\n",
       "      <td>...</td>\n",
       "      <td>...</td>\n",
       "      <td>...</td>\n",
       "      <td>...</td>\n",
       "      <td>...</td>\n",
       "      <td>...</td>\n",
       "    </tr>\n",
       "    <tr>\n",
       "      <th>76938</th>\n",
       "      <td>14641622</td>\n",
       "      <td>32199257</td>\n",
       "      <td>2135-07-14 13:39:32</td>\n",
       "      <td>59.533066</td>\n",
       "      <td>WHITE</td>\n",
       "      <td>M</td>\n",
       "    </tr>\n",
       "    <tr>\n",
       "      <th>76939</th>\n",
       "      <td>10053207</td>\n",
       "      <td>31112026</td>\n",
       "      <td>2199-12-17 23:22:57</td>\n",
       "      <td>59.964313</td>\n",
       "      <td>WHITE</td>\n",
       "      <td>F</td>\n",
       "    </tr>\n",
       "    <tr>\n",
       "      <th>76940</th>\n",
       "      <td>13478841</td>\n",
       "      <td>33874605</td>\n",
       "      <td>2188-05-14 16:56:15</td>\n",
       "      <td>77.369057</td>\n",
       "      <td>WHITE</td>\n",
       "      <td>M</td>\n",
       "    </tr>\n",
       "    <tr>\n",
       "      <th>76941</th>\n",
       "      <td>10355856</td>\n",
       "      <td>36975675</td>\n",
       "      <td>2157-11-29 15:00:36</td>\n",
       "      <td>69.911303</td>\n",
       "      <td>UNKNOWN</td>\n",
       "      <td>M</td>\n",
       "    </tr>\n",
       "    <tr>\n",
       "      <th>76942</th>\n",
       "      <td>16572164</td>\n",
       "      <td>31355796</td>\n",
       "      <td>2180-10-29 16:32:32</td>\n",
       "      <td>47.829286</td>\n",
       "      <td>WHITE</td>\n",
       "      <td>M</td>\n",
       "    </tr>\n",
       "  </tbody>\n",
       "</table>\n",
       "<p>76943 rows × 6 columns</p>\n",
       "</div>"
      ],
      "text/plain": [
       "       subject_id   stay_id               intime  age_at_intime     race  \\\n",
       "0        14046553  35605481  2150-03-03 11:28:38      84.171173    WHITE   \n",
       "1        14990224  30503572  2121-08-31 21:29:49      71.665468    WHITE   \n",
       "2        17913090  30593599  2145-06-14 16:49:38      50.456715    BLACK   \n",
       "3        16058391  37640580  2128-09-18 05:27:41      61.715692    OTHER   \n",
       "4        16788749  30610654  2180-01-19 20:40:36      54.051675    WHITE   \n",
       "...           ...       ...                  ...            ...      ...   \n",
       "76938    14641622  32199257  2135-07-14 13:39:32      59.533066    WHITE   \n",
       "76939    10053207  31112026  2199-12-17 23:22:57      59.964313    WHITE   \n",
       "76940    13478841  33874605  2188-05-14 16:56:15      77.369057    WHITE   \n",
       "76941    10355856  36975675  2157-11-29 15:00:36      69.911303  UNKNOWN   \n",
       "76942    16572164  31355796  2180-10-29 16:32:32      47.829286    WHITE   \n",
       "\n",
       "      gender  \n",
       "0          M  \n",
       "1          M  \n",
       "2          F  \n",
       "3          M  \n",
       "4          F  \n",
       "...      ...  \n",
       "76938      M  \n",
       "76939      F  \n",
       "76940      M  \n",
       "76941      M  \n",
       "76942      M  \n",
       "\n",
       "[76943 rows x 6 columns]"
      ]
     },
     "execution_count": 19,
     "metadata": {},
     "output_type": "execute_result"
    }
   ],
   "source": [
    "patient_inf"
   ]
  },
  {
   "cell_type": "code",
   "execution_count": 20,
   "id": "94711f54",
   "metadata": {},
   "outputs": [],
   "source": [
    "demo = patient_inf.copy()\n",
    "demo_df = pd.get_dummies(demo)\n",
    "truncated_demo_df = demo_df[['race_ASIAN', 'race_BLACK', 'race_HISPANIC/LATINO','race_OTHER', 'race_UNKNOWN', 'race_WHITE', 'gender_M', 'gender_F']]\n",
    "truncated_demo_df = truncated_demo_df.astype(int)\n",
    "truncated_demo_df['stay_id'] = patient_inf['stay_id'].copy()"
   ]
  },
  {
   "cell_type": "code",
   "execution_count": 21,
   "id": "ee704926",
   "metadata": {},
   "outputs": [],
   "source": [
    "tdf = after_removal.copy()\n",
    "\n",
    "asian = truncated_demo_df[['stay_id', 'race_ASIAN']].copy().rename(columns={'stay_id':'stay_id_asian'})\n",
    "asian_dict = dict(zip(asian['stay_id_asian'], asian['race_ASIAN']))\n",
    "\n",
    "tdf['stay_id_asian'] = after_removal['stay_id'].copy()\n",
    "tdf['stay_id_asian'] = tdf['stay_id_asian'].map(asian_dict)\n",
    "\n",
    "black = truncated_demo_df[['stay_id', 'race_BLACK']].copy().rename(columns={'stay_id':'stay_id_black'})\n",
    "black_dict = dict(zip(black['stay_id_black'], black['race_BLACK']))\n",
    "\n",
    "tdf['stay_id_black'] = after_removal['stay_id'].copy()\n",
    "tdf['stay_id_black'] = tdf['stay_id_black'].map(black_dict)\n",
    "\n",
    "h_latino = truncated_demo_df[['stay_id', 'race_HISPANIC/LATINO']].copy().rename(columns={'stay_id':'stay_id_hlatino'})\n",
    "h_latino_dict = dict(zip(h_latino['stay_id_hlatino'], h_latino['race_HISPANIC/LATINO']))\n",
    "\n",
    "tdf['stay_id_hlatino'] = after_removal['stay_id'].copy()\n",
    "tdf['stay_id_hlatino'] = tdf['stay_id_hlatino'].map(h_latino_dict)\n",
    "\n",
    "other = truncated_demo_df[['stay_id', 'race_OTHER']].copy().rename(columns={'stay_id':'stay_id_other'})\n",
    "other_dict = dict(zip(other['stay_id_other'], other['race_OTHER']))\n",
    "\n",
    "tdf['stay_id_other'] = after_removal['stay_id'].copy()\n",
    "tdf['stay_id_other'] = tdf['stay_id_other'].map(other_dict)\n",
    "\n",
    "unknown = truncated_demo_df[['stay_id', 'race_UNKNOWN']].copy().rename(columns={'stay_id':'stay_id_unkn'})\n",
    "unknown_dict = dict(zip(unknown['stay_id_unkn'], unknown['race_UNKNOWN']))\n",
    "\n",
    "tdf['stay_id_unkn'] = after_removal['stay_id'].copy()\n",
    "tdf['stay_id_unkn'] = tdf['stay_id_unkn'].map(unknown_dict)\n",
    "\n",
    "white = truncated_demo_df[['stay_id', 'race_WHITE']].copy().rename(columns={'stay_id':'stay_id_white'})\n",
    "white_dict = dict(zip(white['stay_id_white'], white['race_WHITE']))\n",
    "\n",
    "tdf['stay_id_white'] = after_removal['stay_id'].copy()\n",
    "tdf['stay_id_white'] = tdf['stay_id_white'].map(white_dict)\n",
    "\n",
    "gm = truncated_demo_df[['stay_id', 'gender_M']].copy().rename(columns={'stay_id':'stay_id_gm'})\n",
    "gm_dict = dict(zip(gm['stay_id_gm'], gm['gender_M']))\n",
    "tdf['stay_id_gm'] = after_removal['stay_id'].copy()\n",
    "tdf['stay_id_gm'] = tdf['stay_id_gm'].map(gm_dict)\n",
    "\n",
    "gw = truncated_demo_df[['stay_id', 'gender_F']].copy().rename(columns={'stay_id':'stay_id_gw'})\n",
    "gw_dict = dict(zip(gw['stay_id_gw'], gw['gender_F']))\n",
    "\n",
    "tdf['stay_id_gw'] = after_removal['stay_id'].copy()\n",
    "tdf['stay_id_gw'] = tdf['stay_id_gw'].map(gw_dict)\n",
    "\n",
    "age = demo[['stay_id','age_at_intime']].copy().rename(columns = {'stay_id':'stay_id_age'})\n",
    "age_dict = dict(zip(age['stay_id_age'], age['age_at_intime']))\n",
    "\n",
    "tdf['stay_id_age'] = after_removal['stay_id'].copy()\n",
    "tdf['stay_id_age'] = tdf['stay_id_age'].map(age_dict)\n",
    "\n",
    "\n",
    "tdf = tdf.rename(columns = {'stay_id_asian': 'race_ASIAN', 'stay_id_black': 'race_BLACK', 'stay_id_hlatino': 'race_HISPANIC/LATINO', 'stay_id_other': 'race_OTHER',\n",
    "                      'stay_id_unkn': 'race_UNKNOWN', 'stay_id_white': 'race_WHITE', 'stay_id_gm':'gender_M', 'stay_id_gw': 'gender_F', 'stay_id_age':'age_at_time'})"
   ]
  },
  {
   "cell_type": "code",
   "execution_count": 22,
   "id": "3cc95c54",
   "metadata": {},
   "outputs": [],
   "source": [
    "monitor_dict ={'NIBPs': 125, 'NIBPd': 75, 'HR': 70, 'RR': 12, 'SpO2': 98,\n",
    "               'temperature_F': 98, 'temperature_C': 36.5, 'Peak_insp_P':0,\n",
    "               'FiO2': 21, 'EtCO2': 40, 'ABPs': 125, 'ABPd': 75, 'CVP': 7,\n",
    "               'PAPs': 22, 'PAPd': 11, 'PCWP': 8, 'SvO2': 70, 'CVOS': 65,\n",
    "               'ALT':25, 'AST':25, 'WBC': 10, 'BUN': 23, 'CO': 'fill using calcurate',\n",
    "               'Urine_output': 0}\n",
    "\n",
    "labtest_dict ={'Alkaline_Phosphate': 85, 'CRP': 4, 'Ca_non_ionized': 8.5,'INR':1,\n",
    "               'K+': 3.6, 'Platelet_count': 300,'Troponin-T':200,\n",
    "               'creatinine': 50, 'glucose': 5,'hematocrit': 40, 'hemoglobin':135,\n",
    "               'pH': 7, 'total_bilirubin': 2, 'sodium': 135, 'PaO2': 87, 'pCO2':40,\n",
    "               'Eye_Opening':4, 'mortor_response':6, 'verbal_reponse':5, 'RASS':0,\n",
    "               'Lactate':1.1, 'ALT':25, 'AST':25, 'WBC': 10, 'BUN': 23}\n",
    "\n",
    "valuehot_col = ['Invasive_Ventilation', 'None_Invasive_Ventilation', 'Water', 'HeparinSodium',\n",
    "                'Dextrose_5%', 'Dobutamine', 'Dopamine', 'extra_blood', 'Phenylephrine', 'Labetalol',\n",
    "                'Potassium_Chloride', 'Nitroglycerin', 'Phenylephrine (50/250)', 'Metoprolol',\n",
    "                'Diltiazem', 'Vasopressin', 'Cisatracurium', 'Epinephrine', 'Milrinone', 'Digoxin',\n",
    "                'Vecuronium', 'Rocuronium', 'Tirofiban', 'Nitroprusside', 'Esmolol', 'Nesiritide',\n",
    "                'Aminophylline', 'Abciximab', 'Phenylephrine (200/250)', 'Fluids_supplement',\n",
    "                'Verapamil', 'Norepinephrine', 'Urine_Output']\n",
    "\n",
    "one_hot_col = ['CXR', 'EKG', 'Antibiotics', 'blood_cultured', 'MRI', 'vasoactive/inotropic']\n",
    "\n",
    "\n",
    "physic_col = ['height', 'weight', 'age_at_time']\n",
    "\n",
    "\n",
    "fill_with_mice = ['race_ASIAN', 'race_BLACK', 'race_HISPANIC/LATINO', 'race_OTHER',\n",
    " 'race_UNKNOWN', 'race_WHITE', 'gender_F', 'gender_M']\n"
   ]
  },
  {
   "cell_type": "code",
   "execution_count": 81,
   "id": "31d98b40",
   "metadata": {},
   "outputs": [],
   "source": [
    "def monitor_imputation(targ, target_sample, mask, monitor_dict):\n",
    "    \n",
    "    for col, default_value in monitor_dict.items():\n",
    "        \n",
    "        if target_sample[col].isnull().all(): # all value of current variable are Null\n",
    "            \n",
    "            targ.loc[mask, col] = targ.loc[mask, col].fillna(default_value)\n",
    "            \n",
    "        else:\n",
    "            first_valid_index = targ.loc[mask, col][targ.loc[mask, col].notnull()].index[0]\n",
    "            targ.loc[0:first_valid_index, col] = targ.loc[0:first_valid_index, col].fillna(default_value) \n",
    "            targ.loc[mask, col] =  targ.loc[mask, col].interpolate(method='linear')\n",
    "            \n",
    "\n",
    "def labtest_imputation(targ, target_sample, mask, labtest_dict): \n",
    "    \n",
    "    for col, default_value in labtest_dict.items():\n",
    "        \n",
    "        if target_sample[col].isnull().all(): # all value of current variable are Null\n",
    "            \n",
    "            if col == 'CO':\n",
    "                targ.loc[mask, col] = 3.5 * 0.007184 * targ.loc[mask, 'weight'] ** 0.425 * targ.loc[mask, 'height'] ** 0.725\n",
    "                \n",
    "            else:\n",
    "                targ.loc[mask, col] = targ.loc[mask, col].fillna(default_value)\n",
    "        \n",
    "        else:\n",
    "            first_valid_index = targ.loc[mask, col][targ.loc[mask, col].notnull()].index[0]\n",
    "            first_oberc_index = targ.loc[mask, col].index[0]\n",
    "            targ.loc[first_oberc_index:first_valid_index, col] = targ.loc[first_oberc_index:first_valid_index, col].fillna(default_value) \n",
    "            targ.loc[mask, col] =  targ.loc[mask, col].fillna(method='ffill')\n",
    "                \n",
    "\n",
    "def physic_imputation(targ, mask, physic_col):\n",
    "    \n",
    "    for py_col in physic_col:\n",
    "\n",
    "        targ.loc[mask, py_col] = targ.loc[mask, py_col].interpolate(method='linear')\n",
    "   \n",
    "\n",
    "def medication_imputation(targ, valuehot_col):\n",
    "    \n",
    "    targ[valuehot_col] = targ[valuehot_col].fillna(0)\n",
    "    \n",
    "    \n",
    "def onehot_imputation(targ, one_hot_col):\n",
    "    \n",
    "    for bi_col in one_hot_col:\n",
    "        targ[bi_col] = targ[bi_col].apply(lambda x: 1 if not pd.isna(x) and x != 0 else 0)"
   ]
  },
  {
   "cell_type": "code",
   "execution_count": 82,
   "id": "25f5a827",
   "metadata": {},
   "outputs": [],
   "source": [
    "def Imputation_process(df, monitor_dict, labtest_dict, valuehot_col, one_hot_col, physic_col):\n",
    "    global targ, stay_id\n",
    "    targ = df.copy()\n",
    "    targ = targ.sort_values(by=['stay_id', 'charttime'])\n",
    "    medication_imputation(targ, valuehot_col)\n",
    "    onehot_imputation(targ, one_hot_col)\n",
    "    \n",
    "    unique_stay_ids = targ['stay_id'].unique()\n",
    "    \n",
    "    for i in tqdm(range(len(unique_stay_ids))):\n",
    "        stay_id = unique_stay_ids[i]\n",
    "        mask = targ['stay_id'] == stay_id\n",
    "        target_sample = targ[mask] \n",
    "        physic_imputation(targ, mask, physic_col)\n",
    "        \n",
    "        monitor_imputation(targ, target_sample, mask, monitor_dict)\n",
    "        \n",
    "        labtest_imputation(targ, target_sample, mask, labtest_dict)\n",
    "        \n",
    "    return targ"
   ]
  },
  {
   "cell_type": "code",
   "execution_count": 31,
   "id": "38f9a440",
   "metadata": {},
   "outputs": [],
   "source": [
    "tdf['height'] = tdf['subject_id'].copy()\n",
    "tdf['weight'] = tdf['subject_id'].copy()\n",
    "\n",
    "tdf['weight']  = tdf['weight'].map(dict_w)\n",
    "tdf['height']  = tdf['height'].map(dict_h)"
   ]
  },
  {
   "cell_type": "code",
   "execution_count": 32,
   "id": "ac807854",
   "metadata": {},
   "outputs": [
    {
     "data": {
      "text/plain": [
       "16614378"
      ]
     },
     "execution_count": 32,
     "metadata": {},
     "output_type": "execute_result"
    }
   ],
   "source": [
    "len(tdf)"
   ]
  },
  {
   "cell_type": "code",
   "execution_count": 33,
   "id": "c779b681",
   "metadata": {},
   "outputs": [],
   "source": [
    "dd = tdf.groupby('stay_id').count()[['charttime']].reset_index()"
   ]
  },
  {
   "cell_type": "code",
   "execution_count": 53,
   "id": "bbe89daf",
   "metadata": {},
   "outputs": [],
   "source": [
    "sbj = dd[dd['charttime'] < 1000].stay_id.unique()\n",
    "cond = tdf.stay_id.isin(sbj)\n",
    "after_except = tdf[~cond]"
   ]
  },
  {
   "cell_type": "code",
   "execution_count": 54,
   "id": "7cce8e4e",
   "metadata": {},
   "outputs": [
    {
     "data": {
      "text/plain": [
       "6534841"
      ]
     },
     "execution_count": 54,
     "metadata": {},
     "output_type": "execute_result"
    }
   ],
   "source": [
    "len(after_except)"
   ]
  },
  {
   "cell_type": "code",
   "execution_count": 55,
   "id": "35d548e8",
   "metadata": {},
   "outputs": [
    {
     "data": {
      "text/plain": [
       "3710"
      ]
     },
     "execution_count": 55,
     "metadata": {},
     "output_type": "execute_result"
    }
   ],
   "source": [
    "len(after_except.stay_id.unique())"
   ]
  },
  {
   "cell_type": "code",
   "execution_count": 56,
   "id": "f23f04c0",
   "metadata": {},
   "outputs": [
    {
     "data": {
      "text/plain": [
       "3456"
      ]
     },
     "execution_count": 56,
     "metadata": {},
     "output_type": "execute_result"
    }
   ],
   "source": [
    "len(after_except.subject_id.unique())"
   ]
  },
  {
   "cell_type": "code",
   "execution_count": 83,
   "id": "d1e360fa",
   "metadata": {},
   "outputs": [
    {
     "name": "stderr",
     "output_type": "stream",
     "text": [
      "100%|██████████| 3710/3710 [52:28<00:00,  1.18it/s]\n"
     ]
    }
   ],
   "source": [
    "import warnings\n",
    "target_imput = after_except.reset_index(drop=True)\n",
    "# I expect to see RuntimeWarnings in this block\n",
    "with warnings.catch_warnings():\n",
    "    warnings.simplefilter(\"ignore\", category=RuntimeWarning)\n",
    "    \n",
    "    new_result = Imputation_process(target_imput, monitor_dict, labtest_dict, valuehot_col, one_hot_col, physic_col)"
   ]
  },
  {
   "cell_type": "code",
   "execution_count": 85,
   "id": "831ddbca",
   "metadata": {},
   "outputs": [
    {
     "name": "stdout",
     "output_type": "stream",
     "text": [
      "Index(['CO', 'height', 'weight'], dtype='object')\n"
     ]
    }
   ],
   "source": [
    "columns_with_null = new_result.columns[new_result.isnull().any()]\n",
    "print(columns_with_null)"
   ]
  },
  {
   "cell_type": "code",
   "execution_count": 86,
   "id": "7a62c54f",
   "metadata": {},
   "outputs": [
    {
     "data": {
      "text/html": [
       "<div>\n",
       "<style scoped>\n",
       "    .dataframe tbody tr th:only-of-type {\n",
       "        vertical-align: middle;\n",
       "    }\n",
       "\n",
       "    .dataframe tbody tr th {\n",
       "        vertical-align: top;\n",
       "    }\n",
       "\n",
       "    .dataframe thead th {\n",
       "        text-align: right;\n",
       "    }\n",
       "</style>\n",
       "<table border=\"1\" class=\"dataframe\">\n",
       "  <thead>\n",
       "    <tr style=\"text-align: right;\">\n",
       "      <th></th>\n",
       "      <th>creatinine</th>\n",
       "    </tr>\n",
       "  </thead>\n",
       "  <tbody>\n",
       "    <tr>\n",
       "      <th>count</th>\n",
       "      <td>6.534841e+06</td>\n",
       "    </tr>\n",
       "    <tr>\n",
       "      <th>mean</th>\n",
       "      <td>2.418807e+00</td>\n",
       "    </tr>\n",
       "    <tr>\n",
       "      <th>std</th>\n",
       "      <td>6.728272e+00</td>\n",
       "    </tr>\n",
       "    <tr>\n",
       "      <th>min</th>\n",
       "      <td>0.000000e+00</td>\n",
       "    </tr>\n",
       "    <tr>\n",
       "      <th>25%</th>\n",
       "      <td>7.000000e-01</td>\n",
       "    </tr>\n",
       "    <tr>\n",
       "      <th>50%</th>\n",
       "      <td>1.100000e+00</td>\n",
       "    </tr>\n",
       "    <tr>\n",
       "      <th>75%</th>\n",
       "      <td>1.900000e+00</td>\n",
       "    </tr>\n",
       "    <tr>\n",
       "      <th>max</th>\n",
       "      <td>1.590000e+02</td>\n",
       "    </tr>\n",
       "  </tbody>\n",
       "</table>\n",
       "</div>"
      ],
      "text/plain": [
       "         creatinine\n",
       "count  6.534841e+06\n",
       "mean   2.418807e+00\n",
       "std    6.728272e+00\n",
       "min    0.000000e+00\n",
       "25%    7.000000e-01\n",
       "50%    1.100000e+00\n",
       "75%    1.900000e+00\n",
       "max    1.590000e+02"
      ]
     },
     "execution_count": 86,
     "metadata": {},
     "output_type": "execute_result"
    }
   ],
   "source": [
    "new_result[['creatinine']].describe()"
   ]
  },
  {
   "cell_type": "code",
   "execution_count": 87,
   "id": "78dfc0bd",
   "metadata": {},
   "outputs": [],
   "source": [
    "#creatinine 단위 \n",
    "# 현재 umol/L로 되어 있음 -> mg/dL\n",
    "new_result['creatinine(mg/dL)'] = new_result['creatinine']*0.0113"
   ]
  },
  {
   "cell_type": "code",
   "execution_count": 88,
   "id": "9a8ee8bd",
   "metadata": {},
   "outputs": [],
   "source": [
    "# imputation rule에 적용이 안되는 것들은 0으로 채우고, 표시를해준다.\n",
    "\n",
    "co_idx = new_result[new_result['CO'].isnull()].index\n",
    "h_idx = new_result[new_result['height'].isnull()].index\n",
    "w_idx = new_result[new_result['weight'].isnull()].index\n",
    "\n",
    "new_result['CO_null_filled'] = 0\n",
    "new_result.loc[co_idx, 'CO'] = new_result.loc[co_idx, 'CO'].fillna(0)\n",
    "new_result.loc[co_idx, 'CO_null_filled'] = 1\n",
    "\n",
    "new_result['weight_null_filled'] = 0\n",
    "new_result.loc[w_idx, 'weight'] = new_result.loc[w_idx, 'weight'].fillna(0)\n",
    "new_result.loc[w_idx, 'weight_null_filled'] = 1\n",
    "\n",
    "new_result['height_null_filled'] = 0\n",
    "new_result.loc[h_idx, 'height'] = new_result.loc[h_idx, 'height'].fillna(0)\n",
    "new_result.loc[h_idx, 'height_null_filled'] = 1"
   ]
  },
  {
   "cell_type": "code",
   "execution_count": 89,
   "id": "9982a437",
   "metadata": {},
   "outputs": [],
   "source": [
    "new_result['MAP'] = (2*new_result['ABPd']+new_result['ABPs'])/3"
   ]
  },
  {
   "cell_type": "code",
   "execution_count": 90,
   "id": "3c91680f",
   "metadata": {},
   "outputs": [
    {
     "name": "stdout",
     "output_type": "stream",
     "text": [
      "총 환자 수  3456\n",
      "총 입원 수  3710\n",
      "관측치 수  6534841\n"
     ]
    }
   ],
   "source": [
    "print('총 환자 수 ', len(new_result.subject_id.unique()))\n",
    "print('총 입원 수 ', len(new_result.stay_id.unique())) \n",
    "print('관측치 수 ', len(new_result))"
   ]
  },
  {
   "cell_type": "code",
   "execution_count": 91,
   "id": "a93acd33",
   "metadata": {},
   "outputs": [],
   "source": [
    "new_result.to_csv('지워도됨(imputation-checkpoint1011).csv')"
   ]
  },
  {
   "cell_type": "code",
   "execution_count": 1,
   "id": "17e59e70",
   "metadata": {},
   "outputs": [],
   "source": [
    "import pandas as pd\n",
    "import numpy as np\n",
    "from tqdm import tqdm\n",
    "pd.set_option('display.max_columns', None)\n",
    "pd.set_option('mode.chained_assignment',  None)\n",
    "\n",
    "\n",
    "# new_result = pd.read_csv('지워도됨(imputation-checkpoint1011).csv')"
   ]
  },
  {
   "cell_type": "code",
   "execution_count": 3,
   "id": "e6309dc8",
   "metadata": {},
   "outputs": [],
   "source": [
    "# new_result.drop('Unnamed: 0', axis = 1, inplace = True)"
   ]
  },
  {
   "cell_type": "code",
   "execution_count": 92,
   "id": "66bd3bdf",
   "metadata": {},
   "outputs": [],
   "source": [
    "after_annoted = annotation(new_result)"
   ]
  },
  {
   "cell_type": "code",
   "execution_count": 93,
   "id": "45ebe85f",
   "metadata": {},
   "outputs": [
    {
     "data": {
      "text/plain": [
       "Annotation\n",
       "no_circ    3714870\n",
       "circ        433403\n",
       "Name: count, dtype: int64"
      ]
     },
     "execution_count": 93,
     "metadata": {},
     "output_type": "execute_result"
    }
   ],
   "source": [
    "after_annoted.Annotation.value_counts()"
   ]
  },
  {
   "cell_type": "code",
   "execution_count": 94,
   "id": "527a55e6",
   "metadata": {},
   "outputs": [
    {
     "name": "stdout",
     "output_type": "stream",
     "text": [
      "총 환자 수  3456\n",
      "총 입원 수  3710\n",
      "관측치 수  4148273\n"
     ]
    }
   ],
   "source": [
    "print('총 환자 수 ', len(after_annoted.subject_id.unique()))\n",
    "print('총 입원 수 ', len(after_annoted.stay_id.unique())) \n",
    "print('관측치 수 ', len(after_annoted))"
   ]
  },
  {
   "cell_type": "code",
   "execution_count": 95,
   "id": "08dfd5ef",
   "metadata": {},
   "outputs": [],
   "source": [
    "def patient_window(targ, mask):\n",
    "    \n",
    "    window_index = targ[mask].index\n",
    "    targ_sample = targ[mask]\n",
    "    \n",
    "    for j, idx in enumerate(window_index):\n",
    "        current_time = targ.loc[mask, 'Time_since_ICU_admission'].loc[idx]\n",
    "        endpoint_window = current_time + 480\n",
    "        \n",
    "        try:\n",
    "            window = targ_sample[targ_sample['Time_since_ICU_admission'] < endpoint_window].loc[window_index[j+1]:]\n",
    "            if (window['Annotation']=='circ').any()==True:\n",
    "                targ.loc[idx, 'circ_next_8h'] = 1\n",
    "                \n",
    "            else:\n",
    "                targ.loc[idx, 'circ_next_8h'] = 0\n",
    "\n",
    "        except: # stay 관측치가 1개인 경우\n",
    "            targ.loc[idx, 'circ_next_8h'] = 0   \n",
    "\n",
    "def circfailure_labeler(df): \n",
    "    targ = df.copy()\n",
    "    \n",
    "    targ['circ_next_8h'] = 'None'\n",
    "\n",
    "    unique_stay_ids = targ['stay_id'].unique()\n",
    "    for i in tqdm(range(len(unique_stay_ids))):\n",
    "        stay_id = unique_stay_ids[i]\n",
    "        mask = targ['stay_id'] == stay_id \n",
    "        patient_window(targ, mask)\n",
    "\n",
    "    return targ     "
   ]
  },
  {
   "cell_type": "code",
   "execution_count": 96,
   "id": "98d3371f",
   "metadata": {},
   "outputs": [],
   "source": [
    "target = after_annoted.sort_values(by=['stay_id', 'Time_since_ICU_admission']).copy().reset_index(drop=True)"
   ]
  },
  {
   "cell_type": "code",
   "execution_count": 97,
   "id": "005e4251-cdb9-44b9-8b47-7893fe1fbad2",
   "metadata": {},
   "outputs": [
    {
     "name": "stderr",
     "output_type": "stream",
     "text": [
      "100%|██████████| 3710/3710 [56:53<00:00,  1.09it/s]  \n"
     ]
    }
   ],
   "source": [
    "rr = circfailure_labeler(target)"
   ]
  },
  {
   "cell_type": "code",
   "execution_count": 98,
   "id": "540fb68e",
   "metadata": {},
   "outputs": [],
   "source": [
    "rr.to_csv('check_point_labeling(drop=True).csv')"
   ]
  },
  {
   "cell_type": "code",
   "execution_count": 99,
   "id": "56e5cf70",
   "metadata": {},
   "outputs": [
    {
     "data": {
      "text/plain": [
       "circ_next_8h\n",
       "0    3634600\n",
       "1     513673\n",
       "Name: count, dtype: int64"
      ]
     },
     "execution_count": 99,
     "metadata": {},
     "output_type": "execute_result"
    }
   ],
   "source": [
    "rr.circ_next_8h.value_counts()"
   ]
  },
  {
   "cell_type": "code",
   "execution_count": 1,
   "id": "6530c73a",
   "metadata": {},
   "outputs": [],
   "source": [
    "import pandas as pd\n",
    "import numpy as np\n",
    "from tqdm import tqdm\n",
    "pd.set_option('display.max_columns', None)\n",
    "pd.set_option('mode.chained_assignment',  None)\n",
    "\n",
    "rr = pd.read_csv('check_point_labeling(drop=True).csv', index_col=0)"
   ]
  },
  {
   "cell_type": "code",
   "execution_count": 2,
   "id": "cf09e70f",
   "metadata": {},
   "outputs": [],
   "source": [
    "rr['weight'] = rr['weight'].astype(float)\n",
    "rr['height'] = rr['height'].astype(float)"
   ]
  },
  {
   "cell_type": "code",
   "execution_count": 3,
   "id": "834187fe",
   "metadata": {},
   "outputs": [],
   "source": [
    "co_idx = rr[rr['CO'] == 'fill using calcurate'].index\n",
    "rr.loc[co_idx, 'CO'] = 3.5 * 0.007184 * ((rr.loc[co_idx, 'weight'])**0.425)* (rr.loc[co_idx, 'height'])"
   ]
  },
  {
   "cell_type": "code",
   "execution_count": 4,
   "id": "78d96482",
   "metadata": {},
   "outputs": [],
   "source": [
    "# additional information\n",
    "suspected_infection = pd.read_csv('../Data/mimic/hosp/suspected_infection.csv')\n",
    "\n",
    "# for judgment presence of heart failure \n",
    "d_icd = pd.read_csv('../Data/mimic/hosp/d_icd_diagnoses.csv')\n",
    "diagnosses = pd.read_csv('../Data/mimic/hosp/diagnoses_icd.csv')\n",
    "\n",
    "\n",
    "# suspected infections\n",
    "\n",
    "si_icd9_ary = suspected_infection[suspected_infection['icd_version']==9]['icd_code'].values\n",
    "si_icd9 = np.array(si_icd9_ary[0].split(', '))\n",
    "\n",
    "si_icd10_ary = suspected_infection[suspected_infection['icd_version']==10]['icd_code'].values\n",
    "si_icd10 = np.array(si_icd10_ary[0].split(', '))\n",
    "\n",
    "suspected_infection_icd_code_9_10 =np.hstack([si_icd9, si_icd10])\n",
    "\n",
    "\n",
    "suspected_infection_df = pd.DataFrame()\n",
    "\n",
    "for icd in suspected_infection_icd_code_9_10:\n",
    "\n",
    "    sample = diagnosses[diagnosses['icd_code'].str.startswith(icd)][['subject_id', 'hadm_id']]\n",
    "    suspected_infection_df = pd.concat([suspected_infection_df, sample])\n",
    "    \n",
    "    \n",
    "heartfailure_before_df = pd.DataFrame()\n",
    "\n",
    "for icd in ['428', 'I50']:\n",
    "\n",
    "    sample = diagnosses[diagnosses['icd_code'].str.startswith(icd)][['subject_id', 'hadm_id']]\n",
    "    heartfailure_before_df = pd.concat([heartfailure_before_df, sample])\n",
    "    \n",
    "    \n",
    "\n",
    "spinal_injury_before_df = pd.DataFrame()\n",
    "\n",
    "for icd in ['G50', '805', '806']:\n",
    "\n",
    "    sample = diagnosses[diagnosses['icd_code'].str.startswith(icd)][['subject_id', 'hadm_id']]\n",
    "    spinal_injury_before_df = pd.concat([spinal_injury_before_df, sample])"
   ]
  },
  {
   "cell_type": "code",
   "execution_count": 157,
   "id": "a634176d",
   "metadata": {},
   "outputs": [
    {
     "data": {
      "text/html": [
       "<div>\n",
       "<style scoped>\n",
       "    .dataframe tbody tr th:only-of-type {\n",
       "        vertical-align: middle;\n",
       "    }\n",
       "\n",
       "    .dataframe tbody tr th {\n",
       "        vertical-align: top;\n",
       "    }\n",
       "\n",
       "    .dataframe thead th {\n",
       "        text-align: right;\n",
       "    }\n",
       "</style>\n",
       "<table border=\"1\" class=\"dataframe\">\n",
       "  <thead>\n",
       "    <tr style=\"text-align: right;\">\n",
       "      <th></th>\n",
       "      <th>subject_id</th>\n",
       "      <th>hadm_id</th>\n",
       "    </tr>\n",
       "  </thead>\n",
       "  <tbody>\n",
       "    <tr>\n",
       "      <th>73194</th>\n",
       "      <td>10158684</td>\n",
       "      <td>22072764</td>\n",
       "    </tr>\n",
       "    <tr>\n",
       "      <th>195927</th>\n",
       "      <td>10427677</td>\n",
       "      <td>23641430</td>\n",
       "    </tr>\n",
       "    <tr>\n",
       "      <th>504678</th>\n",
       "      <td>11088311</td>\n",
       "      <td>27128981</td>\n",
       "    </tr>\n",
       "    <tr>\n",
       "      <th>852901</th>\n",
       "      <td>11816842</td>\n",
       "      <td>25448380</td>\n",
       "    </tr>\n",
       "    <tr>\n",
       "      <th>966550</th>\n",
       "      <td>12051958</td>\n",
       "      <td>25585946</td>\n",
       "    </tr>\n",
       "    <tr>\n",
       "      <th>...</th>\n",
       "      <td>...</td>\n",
       "      <td>...</td>\n",
       "    </tr>\n",
       "    <tr>\n",
       "      <th>4738409</th>\n",
       "      <td>19960353</td>\n",
       "      <td>20782216</td>\n",
       "    </tr>\n",
       "    <tr>\n",
       "      <th>4740805</th>\n",
       "      <td>19965582</td>\n",
       "      <td>22946607</td>\n",
       "    </tr>\n",
       "    <tr>\n",
       "      <th>4742849</th>\n",
       "      <td>19970078</td>\n",
       "      <td>22135897</td>\n",
       "    </tr>\n",
       "    <tr>\n",
       "      <th>4745901</th>\n",
       "      <td>19975995</td>\n",
       "      <td>26284923</td>\n",
       "    </tr>\n",
       "    <tr>\n",
       "      <th>4749226</th>\n",
       "      <td>19985545</td>\n",
       "      <td>23469336</td>\n",
       "    </tr>\n",
       "  </tbody>\n",
       "</table>\n",
       "<p>290430 rows × 2 columns</p>\n",
       "</div>"
      ],
      "text/plain": [
       "         subject_id   hadm_id\n",
       "73194      10158684  22072764\n",
       "195927     10427677  23641430\n",
       "504678     11088311  27128981\n",
       "852901     11816842  25448380\n",
       "966550     12051958  25585946\n",
       "...             ...       ...\n",
       "4738409    19960353  20782216\n",
       "4740805    19965582  22946607\n",
       "4742849    19970078  22135897\n",
       "4745901    19975995  26284923\n",
       "4749226    19985545  23469336\n",
       "\n",
       "[290430 rows x 2 columns]"
      ]
     },
     "execution_count": 157,
     "metadata": {},
     "output_type": "execute_result"
    }
   ],
   "source": [
    "suspected_infection_df"
   ]
  },
  {
   "cell_type": "code",
   "execution_count": 5,
   "id": "bc2a887e",
   "metadata": {},
   "outputs": [],
   "source": [
    "def add_diagnosed_evnet(data, diagnosed_df, make_col):\n",
    "    diagnosed_df[make_col] = 1\n",
    "    data[make_col] = 0\n",
    "    infection_dict = dict(zip(diagnosed_df['hadm_id'], diagnosed_df[make_col]))\n",
    "    data[make_col] = data['hadm_id'].copy()\n",
    "    data[make_col] = data[make_col].map(infection_dict).fillna(0)\n",
    "    \n",
    "    return data\n",
    "\n",
    "rr['GCS_score'] = rr['mortor_response'] + rr['verbal_reponse'] + rr['Eye_Opening']\n",
    "\n",
    "result_1 = add_diagnosed_evnet(rr, suspected_infection_df, 'suspected_infection_diagnosed_stay')\n",
    "result_2 = add_diagnosed_evnet(result_1, heartfailure_before_df, 'heartfailure_diagnosed_stay')\n",
    "result_3 = add_diagnosed_evnet(result_2, spinal_injury_before_df, 'spinalcord_diagnosed_stay')"
   ]
  },
  {
   "cell_type": "code",
   "execution_count": 8,
   "id": "98b93ee9",
   "metadata": {},
   "outputs": [
    {
     "data": {
      "text/plain": [
       "suspected_infection_diagnosed_stay\n",
       "1.0    3810499\n",
       "0.0     337774\n",
       "Name: count, dtype: int64"
      ]
     },
     "execution_count": 8,
     "metadata": {},
     "output_type": "execute_result"
    }
   ],
   "source": [
    "result_3['suspected_infection_diagnosed_stay'].value_counts()"
   ]
  },
  {
   "cell_type": "code",
   "execution_count": 9,
   "id": "8245c547",
   "metadata": {},
   "outputs": [
    {
     "data": {
      "text/plain": [
       "heartfailure_diagnosed_stay\n",
       "0.0    2828224\n",
       "1.0    1320049\n",
       "Name: count, dtype: int64"
      ]
     },
     "execution_count": 9,
     "metadata": {},
     "output_type": "execute_result"
    }
   ],
   "source": [
    "result_3['heartfailure_diagnosed_stay'].value_counts()"
   ]
  },
  {
   "cell_type": "code",
   "execution_count": 10,
   "id": "84d6b122",
   "metadata": {},
   "outputs": [
    {
     "data": {
      "text/plain": [
       "spinalcord_diagnosed_stay\n",
       "0.0    4013196\n",
       "1.0     135077\n",
       "Name: count, dtype: int64"
      ]
     },
     "execution_count": 10,
     "metadata": {},
     "output_type": "execute_result"
    }
   ],
   "source": [
    "result_3['spinalcord_diagnosed_stay'].value_counts()"
   ]
  },
  {
   "cell_type": "code",
   "execution_count": 6,
   "id": "412abbec",
   "metadata": {},
   "outputs": [],
   "source": [
    "def make_sofa_score(df):\n",
    "    sample = df.copy()\n",
    "    \n",
    "    sample['pao2/fio2'] = sample['PaO2'] / (sample['FiO2']*760/100) # percent to mmHg\n",
    "    \n",
    "    sample['Sofa_Respiration'] = None       # Respiratory system\n",
    "    sample['Sofa_Coagulation'] = None       # Coagulation system\n",
    "    sample['Sofa_Liver'] = None             # Hepatic system\n",
    "    sample['Sofa_Cardiovascular'] = None    # Cardiovascular system\n",
    "    sample['Sofa_GCS'] = None               # Neurologic system\n",
    "    sample['Sofa_Urine'] = None             # Renal system\n",
    "    \n",
    "    \n",
    "    # Respiratory system\n",
    "    \n",
    "    score_0 = sample[sample['pao2/fio2']>=400].index\n",
    "    score_1 = sample[sample['pao2/fio2']<400].index\n",
    "    score_2 = sample[sample['pao2/fio2']<300].index\n",
    "    score_3 = sample[(sample['pao2/fio2']<200)&((sample['None_Invasive_Ventilation']>0)|(sample['Invasive_Ventilation']>0))].index\n",
    "    score_4 = sample[(sample['pao2/fio2']<100)&((sample['None_Invasive_Ventilation']>0)|(sample['Invasive_Ventilation']>0))].index\n",
    "    \n",
    "    sample.loc[score_0, 'Sofa_Respiration'] = 0\n",
    "    sample.loc[score_1, 'Sofa_Respiration'] = 1\n",
    "    sample.loc[score_2, 'Sofa_Respiration'] = 2\n",
    "    sample.loc[score_3, 'Sofa_Respiration'] = 3\n",
    "    sample.loc[score_4, 'Sofa_Respiration'] = 4\n",
    "    \n",
    "    \n",
    "    # Coagulation system\n",
    "    \n",
    "    score_0 = sample[sample['Platelet_count']>=150].index\n",
    "    score_1 = sample[sample['Platelet_count']<150].index\n",
    "    score_2 = sample[sample['Platelet_count']<100].index\n",
    "    score_3 = sample[sample['Platelet_count']<50].index\n",
    "    score_4 = sample[sample['Platelet_count']<20].index\n",
    "    \n",
    "    sample.loc[score_0, 'Sofa_Coagulation'] = 0\n",
    "    sample.loc[score_1, 'Sofa_Coagulation'] = 1\n",
    "    sample.loc[score_2, 'Sofa_Coagulation'] = 2\n",
    "    sample.loc[score_3, 'Sofa_Coagulation'] = 3\n",
    "    sample.loc[score_4, 'Sofa_Coagulation'] = 4\n",
    "\n",
    "\n",
    "    # Hepatic system\n",
    "    \n",
    "    score_0 = sample[sample['total_bilirubin']<1.2].index\n",
    "    score_1 = sample[(sample['total_bilirubin']>=1.2)&(sample['total_bilirubin']<=2)].index\n",
    "    score_2 = sample[(sample['total_bilirubin']>=2)&(sample['total_bilirubin']<=5.9)].index\n",
    "    score_3 = sample[(sample['total_bilirubin']>=6)&(sample['total_bilirubin']<=11.9)].index\n",
    "    score_4 = sample[sample['total_bilirubin']>=12].index\n",
    "\n",
    "    sample.loc[score_0, 'Sofa_Liver'] = 0\n",
    "    sample.loc[score_1, 'Sofa_Liver'] = 1\n",
    "    sample.loc[score_2, 'Sofa_Liver'] = 2\n",
    "    sample.loc[score_3, 'Sofa_Liver'] = 3\n",
    "    sample.loc[score_4, 'Sofa_Liver'] = 4\n",
    "    \n",
    "    \n",
    "    # Cardiovascular system\n",
    "    \n",
    "    score_0 = sample[sample['MAP']>=70].index\n",
    "    score_1 = sample[sample['MAP']<70].index\n",
    "    score_2 = sample[(sample['Dopamine']<5)|(sample['Dobutamine']>0)].index\n",
    "    score_3 = sample[(sample['Dopamine']>5)|(sample['Epinephrine']<=0.1)|(sample['Norepinephrine']<=0.1)].index\n",
    "    score_4 = sample[(sample['Dopamine']>15)|(sample['Epinephrine']>0.1)|(sample['Norepinephrine']>0.1)].index\n",
    "    \n",
    "    sample.loc[score_0, 'Sofa_Cardiovascular'] = 0\n",
    "    sample.loc[score_1, 'Sofa_Cardiovascular'] = 1\n",
    "    sample.loc[score_2, 'Sofa_Cardiovascular'] = 2\n",
    "    sample.loc[score_3, 'Sofa_Cardiovascular'] = 3\n",
    "    sample.loc[score_4, 'Sofa_Cardiovascular'] = 4\n",
    "    \n",
    "\n",
    "    # Neurologic system\n",
    "    \n",
    "    score_0 = sample[sample['GCS_score']==15].index\n",
    "    score_1 = sample[(sample['GCS_score']==13) | (sample['GCS_score']==14)].index\n",
    "    score_2 = sample[(sample['GCS_score']>=10) | (sample['GCS_score']<=12)].index\n",
    "    score_3 = sample[(sample['GCS_score']>=6)  | (sample['GCS_score']<=9)].index\n",
    "    score_4 = sample[sample['GCS_score']<6].index\n",
    "    \n",
    "    sample.loc[score_0, 'Sofa_GCS'] = 0\n",
    "    sample.loc[score_1, 'Sofa_GCS'] = 1\n",
    "    sample.loc[score_2, 'Sofa_GCS'] = 2\n",
    "    sample.loc[score_3, 'Sofa_GCS'] = 3\n",
    "    sample.loc[score_4, 'Sofa_GCS'] = 4 \n",
    "    \n",
    "    \n",
    "    # Renal system\n",
    "    \n",
    "    score_0 = sample[sample['creatinine']<1.2].index\n",
    "    score_1 = sample[(sample['creatinine']>=1.2) | (sample['creatinine']<=1.9)].index\n",
    "    score_2 = sample[(sample['creatinine']>=2) | (sample['creatinine']<=3.4)].index\n",
    "    score_3 = sample[(sample['creatinine']>=3.5) | (sample['creatinine']<=4.9) | (sample['Urine_Output']>=200) | (sample['Urine_Output']<=500)].index\n",
    "    score_4 = sample[(sample['creatinine']>5) | (sample['Urine_Output']<200)].index\n",
    "    \n",
    "    sample.loc[score_0, 'Sofa_Urine'] = 0\n",
    "    sample.loc[score_1, 'Sofa_Urine'] = 1\n",
    "    sample.loc[score_2, 'Sofa_Urine'] = 2\n",
    "    sample.loc[score_3, 'Sofa_Urine'] = 3\n",
    "    sample.loc[score_4, 'Sofa_Urine'] = 4 \n",
    "    \n",
    "    \n",
    "    sample['SoFa_score'] = sample['Sofa_Respiration'] + sample['Sofa_Coagulation'] + sample['Sofa_Liver'] + sample['Sofa_Cardiovascular'] + sample['Sofa_GCS'] + sample['Sofa_Urine']\n",
    "    \n",
    "    sample = sample.drop('pao2/fio2', axis = 1)\n",
    "    \n",
    "    return sample\n",
    "\n",
    "new_rr = make_sofa_score(result_3)"
   ]
  },
  {
   "cell_type": "code",
   "execution_count": 23,
   "id": "51aac54e",
   "metadata": {},
   "outputs": [],
   "source": [
    "from warnings import simplefilter\n",
    "simplefilter(action=\"ignore\", category=pd.errors.PerformanceWarning)"
   ]
  },
  {
   "cell_type": "code",
   "execution_count": 8,
   "id": "b4eb6ba4",
   "metadata": {},
   "outputs": [
    {
     "name": "stderr",
     "output_type": "stream",
     "text": [
      "100%|██████████| 3710/3710 [01:50<00:00, 33.72it/s]\n"
     ]
    }
   ],
   "source": [
    "vaso_ino = ['Norepinephrine', 'Dobutamine', 'Dopamine', 'Epinephrine', 'Milrinone', 'Phenylephrine', 'Phenylephrine (200/250)',\n",
    "            'Phenylephrine (50/250)', 'Vasopressin', 'Digoxin']\n",
    "\n",
    "# inc_ratio =['NIBPs', 'NIBPd', 'HR', 'RR', 'SpO2', 'temperature_F', 'temperature_C', 'Peak_insp_P',\n",
    "#             'FiO2', 'EtCO2', 'ABPs', 'ABPd', 'CVP','PAPs', 'PAPd','PCWP','Platelet_count', 'PaO2',\n",
    "#             'Lactate', 'Eye_Opening', 'mortor_response', 'verbal_reponse','Norepinephrine', 'Dobutamine', \n",
    "#             'Dopamine', 'Epinephrine', 'Milrinone', 'Phenylephrine', 'Phenylephrine (200/250)',\n",
    "#             'Phenylephrine (50/250)', 'Vasopressin', 'Digoxin', 'MAP', 'CO']\n",
    "\n",
    "# certain_time = [60, 180, 300]\n",
    "\n",
    "def accumulate(targ, mask, vi_col):\n",
    "\n",
    "    targ.loc[mask, f'Cumulative_{vi_col}'] = targ.loc[mask, vi_col].cumsum()\n",
    "    \n",
    "# def change_amount(targ, mask, rate_col, time_before):\n",
    "    \n",
    "#     window_index = targ[mask].index \n",
    "#     targ_sample = targ[mask].copy()\n",
    "    \n",
    "#     for idx in window_index:\n",
    "#         current_time = targ.loc[idx, 'Time_since_ICU_admission'] # 180분\n",
    "#         target_time = current_time - time_before # 180분 - 60분 = 60분\n",
    "        \n",
    "#         try:\n",
    "#             window = targ_sample[(targ_sample['Time_since_ICU_admission']==target_time) | (targ_sample['Time_since_ICU_admission'] > target_time)]\n",
    "#             target_index = window.index[0] # time before에 해당하는 데이터의 위치\n",
    "        \n",
    "#             if target_index in window_index:\n",
    "#                 targ.loc[idx, f'change_amount_{rate_col}_{time_before}M'] = targ.loc[idx, rate_col] - targ.loc[target_index, rate_col]\n",
    "#             else:\n",
    "#                 targ.loc[idx, f'change_amount_{rate_col}_{time_before}M'] = 0\n",
    "#         except:\n",
    "#             targ.loc[idx, f'change_amount_{rate_col}_{time_before}M'] = 0\n",
    "            \n",
    "\n",
    "def accumulater(df, vaso_ino):\n",
    "    \n",
    "    targ = df.copy()\n",
    "    unique_stay_ids = targ['stay_id'].unique()\n",
    "    \n",
    "    for vi_col in vaso_ino:\n",
    "        \n",
    "        col_name = f'Cumulative_{vi_col}'\n",
    "        targ[col_name] = 0\n",
    "        \n",
    "    for i in tqdm(range(len(unique_stay_ids))):\n",
    "        stay_id = unique_stay_ids[i]\n",
    "        mask = targ['stay_id'] == stay_id\n",
    "        \n",
    "        for vi_col in vaso_ino:\n",
    "            accumulate(targ, mask, vi_col)\n",
    "    \n",
    "    return targ\n",
    "\n",
    "fffin = accumulater(new_rr, vaso_ino)\n"
   ]
  },
  {
   "cell_type": "code",
   "execution_count": 9,
   "id": "6f615130",
   "metadata": {},
   "outputs": [
    {
     "name": "stdout",
     "output_type": "stream",
     "text": [
      "전체 샘플의 개수\n",
      "4148273\n",
      "\n",
      "샘플의 클래스 개수\n",
      "circ_next_8h\n",
      "0    3634600\n",
      "1     513673\n",
      "Name: count, dtype: int64\n",
      "\n",
      "총 Stay 수\n",
      "3710\n",
      "\n",
      "총 환자 수\n",
      "3456\n"
     ]
    }
   ],
   "source": [
    "print('전체 샘플의 개수')\n",
    "print(len(fffin))\n",
    "\n",
    "print()\n",
    "\n",
    "print('샘플의 클래스 개수')\n",
    "print(fffin.circ_next_8h.value_counts())\n",
    "\n",
    "print()\n",
    "\n",
    "print('총 Stay 수')\n",
    "print(len(fffin.stay_id.unique()))\n",
    "\n",
    "print()\n",
    "\n",
    "print('총 환자 수')\n",
    "print(len(fffin.subject_id.unique()))\n"
   ]
  },
  {
   "cell_type": "code",
   "execution_count": 17,
   "id": "c4056dca",
   "metadata": {},
   "outputs": [],
   "source": [
    "fffin.to_csv('medical_concept_ICU(MIMIC)/mimic_ver3.csv')"
   ]
  },
  {
   "cell_type": "code",
   "execution_count": 10,
   "id": "93d84ae1",
   "metadata": {},
   "outputs": [
    {
     "data": {
      "text/plain": [
       "3624439"
      ]
     },
     "execution_count": 10,
     "metadata": {},
     "output_type": "execute_result"
    }
   ],
   "source": [
    "len(fffin[(fffin['Annotation']=='no_circ')&(fffin['circ_next_8h']==0)])"
   ]
  },
  {
   "cell_type": "code",
   "execution_count": 11,
   "id": "3eaa41f3",
   "metadata": {},
   "outputs": [
    {
     "data": {
      "text/plain": [
       "90431"
      ]
     },
     "execution_count": 11,
     "metadata": {},
     "output_type": "execute_result"
    }
   ],
   "source": [
    "#ioc\n",
    "len(fffin[(fffin['Annotation']=='no_circ')&(fffin['circ_next_8h']==1)])"
   ]
  },
  {
   "cell_type": "code",
   "execution_count": 13,
   "id": "e2c1f06f",
   "metadata": {},
   "outputs": [
    {
     "data": {
      "text/plain": [
       "10161"
      ]
     },
     "execution_count": 13,
     "metadata": {},
     "output_type": "execute_result"
    }
   ],
   "source": [
    "len(fffin[(fffin['Annotation']=='circ')&(fffin['circ_next_8h']==0)])"
   ]
  },
  {
   "cell_type": "code",
   "execution_count": 14,
   "id": "86ac10e6",
   "metadata": {},
   "outputs": [
    {
     "data": {
      "text/plain": [
       "423242"
      ]
     },
     "execution_count": 14,
     "metadata": {},
     "output_type": "execute_result"
    }
   ],
   "source": [
    "len(fffin[(fffin['Annotation']=='circ')&(fffin['circ_next_8h']==1)])"
   ]
  },
  {
   "cell_type": "code",
   "execution_count": 52,
   "id": "9ceb53ee",
   "metadata": {},
   "outputs": [],
   "source": [
    "target_col = ['NIBPs', 'NIBPd', 'HR', 'RR', 'SpO2', 'temperature_F', 'temperature_C', 'Peak_insp_P',\n",
    "            'FiO2', 'EtCO2', 'ABPs', 'ABPd', 'CVP','PAPs', 'PAPd','PCWP','Platelet_count', 'PaO2',\n",
    "            'Lactate', 'Eye_Opening', 'mortor_response', 'verbal_reponse','Norepinephrine', 'Dobutamine', \n",
    "            'Dopamine', 'Epinephrine', 'Milrinone', 'Phenylephrine', 'Phenylephrine (200/250)',\n",
    "            'Phenylephrine (50/250)', 'Vasopressin', 'Digoxin', 'MAP', 'CO']\n",
    "\n",
    "diff_60=fffin[['stay_id','NIBPs', 'NIBPd', 'HR', 'RR', 'SpO2', 'temperature_F', 'temperature_C', 'Peak_insp_P',\n",
    "            'FiO2', 'EtCO2', 'ABPs', 'ABPd', 'CVP','PAPs', 'PAPd','PCWP','Platelet_count', 'PaO2',\n",
    "            'Lactate', 'Eye_Opening', 'mortor_response', 'verbal_reponse','Norepinephrine', 'Dobutamine', \n",
    "            'Dopamine', 'Epinephrine', 'Milrinone', 'Phenylephrine', 'Phenylephrine (200/250)',\n",
    "            'Phenylephrine (50/250)', 'Vasopressin', 'Digoxin', 'MAP', 'CO']].astype(float).groupby('stay_id').diff(periods=60)\n",
    "\n",
    "new_column_names = [str(col + '_60') for col in target_col]\n",
    "diff_60.columns = new_column_names\n",
    "diff_60 = diff_60.fillna(0)"
   ]
  },
  {
   "cell_type": "code",
   "execution_count": 55,
   "id": "c661d9b3",
   "metadata": {},
   "outputs": [],
   "source": [
    "diff_180=fffin[['stay_id','NIBPs', 'NIBPd', 'HR', 'RR', 'SpO2', 'temperature_F', 'temperature_C', 'Peak_insp_P',\n",
    "            'FiO2', 'EtCO2', 'ABPs', 'ABPd', 'CVP','PAPs', 'PAPd','PCWP','Platelet_count', 'PaO2',\n",
    "            'Lactate', 'Eye_Opening', 'mortor_response', 'verbal_reponse','Norepinephrine', 'Dobutamine', \n",
    "            'Dopamine', 'Epinephrine', 'Milrinone', 'Phenylephrine', 'Phenylephrine (200/250)',\n",
    "            'Phenylephrine (50/250)', 'Vasopressin', 'Digoxin', 'MAP', 'CO']].astype(float).groupby('stay_id').diff(periods=180)\n",
    "\n",
    "new_column_names = [str(col + '_180') for col in target_col]\n",
    "diff_180.columns = new_column_names\n",
    "diff_180 = diff_180.fillna(0)"
   ]
  },
  {
   "cell_type": "code",
   "execution_count": 56,
   "id": "c2ea8687",
   "metadata": {},
   "outputs": [],
   "source": [
    "diff_300=fffin[['stay_id','NIBPs', 'NIBPd', 'HR', 'RR', 'SpO2', 'temperature_F', 'temperature_C', 'Peak_insp_P',\n",
    "            'FiO2', 'EtCO2', 'ABPs', 'ABPd', 'CVP','PAPs', 'PAPd','PCWP','Platelet_count', 'PaO2',\n",
    "            'Lactate', 'Eye_Opening', 'mortor_response', 'verbal_reponse','Norepinephrine', 'Dobutamine', \n",
    "            'Dopamine', 'Epinephrine', 'Milrinone', 'Phenylephrine', 'Phenylephrine (200/250)',\n",
    "            'Phenylephrine (50/250)', 'Vasopressin', 'Digoxin', 'MAP', 'CO']].astype(float).groupby('stay_id').diff(periods=300)\n",
    "\n",
    "new_column_names = [str(col + '_300') for col in target_col]\n",
    "diff_300.columns = new_column_names\n",
    "diff_300 = diff_300.fillna(0)"
   ]
  },
  {
   "cell_type": "code",
   "execution_count": 57,
   "id": "d6a3be94",
   "metadata": {},
   "outputs": [],
   "source": [
    "rere = pd.concat([diff_60, diff_180], axis = 1)\n",
    "rerere = pd.concat([rere, diff_300], axis = 1)"
   ]
  },
  {
   "cell_type": "code",
   "execution_count": 59,
   "id": "8cdf1a42",
   "metadata": {},
   "outputs": [],
   "source": [
    "maybe_final = pd.concat([fffin, rerere], axis = 1)"
   ]
  },
  {
   "cell_type": "code",
   "execution_count": 60,
   "id": "c30ab8a6",
   "metadata": {},
   "outputs": [
    {
     "data": {
      "text/html": [
       "<div>\n",
       "<style scoped>\n",
       "    .dataframe tbody tr th:only-of-type {\n",
       "        vertical-align: middle;\n",
       "    }\n",
       "\n",
       "    .dataframe tbody tr th {\n",
       "        vertical-align: top;\n",
       "    }\n",
       "\n",
       "    .dataframe thead th {\n",
       "        text-align: right;\n",
       "    }\n",
       "</style>\n",
       "<table border=\"1\" class=\"dataframe\">\n",
       "  <thead>\n",
       "    <tr style=\"text-align: right;\">\n",
       "      <th></th>\n",
       "      <th>HR</th>\n",
       "      <th>HR_60</th>\n",
       "      <th>HR_180</th>\n",
       "    </tr>\n",
       "  </thead>\n",
       "  <tbody>\n",
       "    <tr>\n",
       "      <th>117416</th>\n",
       "      <td>117.000000</td>\n",
       "      <td>0.0</td>\n",
       "      <td>0.000000</td>\n",
       "    </tr>\n",
       "    <tr>\n",
       "      <th>117417</th>\n",
       "      <td>102.500000</td>\n",
       "      <td>0.0</td>\n",
       "      <td>0.000000</td>\n",
       "    </tr>\n",
       "    <tr>\n",
       "      <th>117418</th>\n",
       "      <td>95.250000</td>\n",
       "      <td>0.0</td>\n",
       "      <td>0.000000</td>\n",
       "    </tr>\n",
       "    <tr>\n",
       "      <th>117419</th>\n",
       "      <td>88.000000</td>\n",
       "      <td>0.0</td>\n",
       "      <td>0.000000</td>\n",
       "    </tr>\n",
       "    <tr>\n",
       "      <th>117420</th>\n",
       "      <td>82.333333</td>\n",
       "      <td>0.0</td>\n",
       "      <td>0.000000</td>\n",
       "    </tr>\n",
       "    <tr>\n",
       "      <th>...</th>\n",
       "      <td>...</td>\n",
       "      <td>...</td>\n",
       "      <td>...</td>\n",
       "    </tr>\n",
       "    <tr>\n",
       "      <th>118751</th>\n",
       "      <td>125.000000</td>\n",
       "      <td>43.0</td>\n",
       "      <td>49.000000</td>\n",
       "    </tr>\n",
       "    <tr>\n",
       "      <th>118752</th>\n",
       "      <td>113.666667</td>\n",
       "      <td>31.0</td>\n",
       "      <td>32.666667</td>\n",
       "    </tr>\n",
       "    <tr>\n",
       "      <th>118753</th>\n",
       "      <td>102.333333</td>\n",
       "      <td>19.0</td>\n",
       "      <td>16.333333</td>\n",
       "    </tr>\n",
       "    <tr>\n",
       "      <th>118754</th>\n",
       "      <td>91.000000</td>\n",
       "      <td>7.0</td>\n",
       "      <td>6.000000</td>\n",
       "    </tr>\n",
       "    <tr>\n",
       "      <th>118755</th>\n",
       "      <td>91.000000</td>\n",
       "      <td>9.0</td>\n",
       "      <td>7.000000</td>\n",
       "    </tr>\n",
       "  </tbody>\n",
       "</table>\n",
       "<p>1340 rows × 3 columns</p>\n",
       "</div>"
      ],
      "text/plain": [
       "                HR  HR_60     HR_180\n",
       "117416  117.000000    0.0   0.000000\n",
       "117417  102.500000    0.0   0.000000\n",
       "117418   95.250000    0.0   0.000000\n",
       "117419   88.000000    0.0   0.000000\n",
       "117420   82.333333    0.0   0.000000\n",
       "...            ...    ...        ...\n",
       "118751  125.000000   43.0  49.000000\n",
       "118752  113.666667   31.0  32.666667\n",
       "118753  102.333333   19.0  16.333333\n",
       "118754   91.000000    7.0   6.000000\n",
       "118755   91.000000    9.0   7.000000\n",
       "\n",
       "[1340 rows x 3 columns]"
      ]
     },
     "execution_count": 60,
     "metadata": {},
     "output_type": "execute_result"
    }
   ],
   "source": [
    "maybe_final[maybe_final['stay_id'] == maybe_final.stay_id.unique()[100]][['HR', 'HR_60', 'HR_180']]"
   ]
  },
  {
   "cell_type": "code",
   "execution_count": 62,
   "id": "b66150a4",
   "metadata": {},
   "outputs": [],
   "source": [
    "maybe_final.to_csv('medical_concept_ICU(MIMIC)/mimic_ver3.csv')"
   ]
  }
 ],
 "metadata": {
  "kernelspec": {
   "display_name": "DL",
   "language": "python",
   "name": "python3"
  },
  "language_info": {
   "codemirror_mode": {
    "name": "ipython",
    "version": 3
   },
   "file_extension": ".py",
   "mimetype": "text/x-python",
   "name": "python",
   "nbconvert_exporter": "python",
   "pygments_lexer": "ipython3",
   "version": "3.9.16"
  }
 },
 "nbformat": 4,
 "nbformat_minor": 5
}
