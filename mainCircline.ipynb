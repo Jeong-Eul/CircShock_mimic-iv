{
 "cells": [
  {
   "cell_type": "code",
   "execution_count": 3,
   "id": "available-albany",
   "metadata": {},
   "outputs": [],
   "source": [
    "from model import Make_Dataset\n",
    "import numpy as np\n",
    "import pandas as pd\n",
    "from tqdm import tqdm\n",
    "pd.set_option('display.max_columns', None)\n",
    "pd.set_option('mode.chained_assignment',  None)\n",
    "\n",
    "Path = '/Users/DAHS/Desktop/eICU_mimic/Data/mimic/hosp'\n",
    "\n",
    "suspected_infection = pd.read_csv(Path+'/suspected_infection.csv')\n",
    "# for judgment presence of heart failure \n",
    "d_icd = pd.read_csv(Path+'/d_icd_diagnoses.csv')\n",
    "diagnosses = pd.read_csv(Path+'/diagnoses_icd.csv')"
   ]
  },
  {
   "cell_type": "code",
   "execution_count": 4,
   "id": "45f7c7f5",
   "metadata": {},
   "outputs": [
    {
     "name": "stdout",
     "output_type": "stream",
     "text": [
      "Total Samples 22354\n"
     ]
    },
    {
     "name": "stderr",
     "output_type": "stream",
     "text": [
      "  1%|          | 123/22354 [00:03<13:39, 27.13it/s]"
     ]
    }
   ],
   "source": [
    "data=Make_Dataset.Integration_data()"
   ]
  },
  {
   "cell_type": "code",
   "execution_count": null,
   "id": "372d1a38",
   "metadata": {},
   "outputs": [],
   "source": [
    "# suspected infections\n",
    "\n",
    "si_icd9_ary = suspected_infection[suspected_infection['icd_version']==9]['icd_code'].values\n",
    "si_icd9 = np.array(si_icd9_ary[0].split(', '))\n",
    "\n",
    "si_icd10_ary = suspected_infection[suspected_infection['icd_version']==10]['icd_code'].values\n",
    "si_icd10 = np.array(si_icd10_ary[0].split(', '))\n",
    "\n",
    "suspected_infection_icd_code_9_10 =np.hstack([si_icd9, si_icd10])\n",
    "\n",
    "suspected_infection_df = pd.DataFrame()\n",
    "\n",
    "for icd in suspected_infection_icd_code_9_10:\n",
    "\n",
    "    sample = diagnosses[diagnosses['icd_code'].str.startswith(icd)][['subject_id', 'hadm_id']]\n",
    "    suspected_infection_df = pd.concat([suspected_infection_df, sample])\n",
    "    \n",
    "heartfailure_before_df = pd.DataFrame()\n",
    "\n",
    "for icd in ['428', 'I50']:\n",
    "\n",
    "    sample = diagnosses[diagnosses['icd_code'].str.startswith(icd)][['subject_id', 'hadm_id']]\n",
    "    heartfailure_before_df = pd.concat([heartfailure_before_df, sample])\n",
    "    \n",
    "spinal_injury_before_df = pd.DataFrame()\n",
    "\n",
    "for icd in ['G50', '805', '806']:\n",
    "\n",
    "    sample = diagnosses[diagnosses['icd_code'].str.startswith(icd)][['subject_id', 'hadm_id']]\n",
    "    spinal_injury_before_df = pd.concat([spinal_injury_before_df, sample])"
   ]
  },
  {
   "cell_type": "code",
   "execution_count": null,
   "id": "ef9d1d0e",
   "metadata": {},
   "outputs": [],
   "source": [
    "bulk_changes_pmpe = {\n",
    "    225792 : 'Invasive_Ventilation', 225794 : 'None_Invasive_Ventilation',\n",
    "    225402 : 'EKG', 223253 : 'MRI', 225459 : 'CXR', 225975 : 'HeparinSodium',\n",
    "    225152 : 'HeparinSodium', 225157 : 'Tirofiban', 221261 : 'Abciximab',\n",
    "    229069 : 'Digoxin', 229617 : 'Epinephrine', 221289 : 'Epinephrine',  225166: 'Potassium_Chloride',\n",
    "    225876 : 'Imipenem', 225893 : 'Piperacillin_Tazobactam', 226509 : 'extra_blood',\n",
    "    227080 : 'Fluids_supplement', 220949: 'Dextrose_5%', 225401 : 'blood_cultured', 225437 : 'blood_cultured'\n",
    "}\n",
    "\n",
    "bulk_changes_ce = {\n",
    "    220045 : 'HR', 220050 : 'ABPs', 220051 : 'ABPd',\n",
    "    220088 : 'CO', 224842 : 'CO', 220277 : 'SpO2',\n",
    "    228302 : 'RASS', 224695 : 'Peak_insp_P', 227467 : 'INR',\n",
    "    225668 : 'Lactate', 220621 : 'glucose', 227444 : 'CRP',\n",
    "    220059 : 'PAPs', 220060 : 'PAPd', 223771 : 'PCWP',\n",
    "    223772 : 'SvO2', 220074 : 'CVP', 220179 : 'NIBPs', \n",
    "    220180 : 'NIBPd', 228640 : 'EtCO2', 220210 : 'RR',\n",
    "    224690 : 'RR', 224639 : 'weight', 226730 : 'height',\n",
    "    223830 : 'pH', 220235 : 'pCO2', 220224 : 'PaO2',\n",
    "    227686 : 'CVOS', 227429 : 'Troponin-T', 227457 : 'Platelet_count',\n",
    "    223761 : 'temperature_F', 223762 : 'temperature_C', 227442 : 'K+',\n",
    "    227464 : 'K+', 225625 : 'Ca_non_ionized', 225612 : 'Alkaline_Phosphate',\n",
    "    220228 : 'hemoglobin', 226540 : 'hematocrit', 220545 : 'hematocrit',\n",
    "    225690 : 'total_bilirubin', 220615 : 'creatinine', 223835 : 'FiO2',\n",
    "    220739 : 'Eye_Opening', 223900 : 'verbal_reponse', 223901 : 'mortor_response'\n",
    "}\n",
    "\n",
    "bulk_changes_le = {\n",
    "    50983 : 'sodium', 52623 : 'sodium', 50817 : 'SpO2',\n",
    "    50813: 'Lactate', 52442 : 'Lactate', 50809 : 'glucose',\n",
    "    50820 : 'pH', 50825 : 'temperature_C', 50971 : 'K+',\n",
    "    52610: 'K+', 50822 : 'K+', 50893  : 'Ca_non_ionized', \n",
    "    52034 : 'Ca_non_ionized', 52035 : 'Ca_non_ionized', \n",
    "    50863 : 'Alkaline_Phosphate', 53086 : 'Alkaline_Phosphate',\n",
    "    50811 : 'hemoglobin', 51222 : 'hemoglobin', 51640 : 'hemoglobin',\n",
    "    51221 : 'hematocrit', 51638 : 'hematocrit', 51639 : 'hematocrit', \n",
    "    52028 : 'hematocrit', 50810 : 'hematocrit', \n",
    "    50912 : 'creatinine', 52546 : 'creatinine', 52024 : 'creatinine', \n",
    "    50885 : 'total_bilirubin', 53089 : 'total_bilirubin',\n",
    "    51108 : 'Urine_Output', 51109 : 'Urine_Output', 50886 : 'blood_cultured',\n",
    "    70011 : 'blood_cultured', 70012 : 'blood_cultured', 51265 : 'Platelet_count',\n",
    "    51704 : 'Platelet_count', 50861 : 'ALT', 50878 : 'AST', 51300 : 'WBC', 51301: 'WBC', 51755: 'WBC',\n",
    "    51006: 'BUN', 52647 :'BUN'\n",
    "}\n",
    "\n",
    "\n",
    "bulk_changes_pmpe.update(bulk_changes_ce)\n",
    "bulk_changes_pmpe.update(bulk_changes_le)\n",
    "print(bulk_changes_pmpe)"
   ]
  },
  {
   "cell_type": "code",
   "execution_count": null,
   "id": "209a8b4b",
   "metadata": {},
   "outputs": [],
   "source": []
  },
  {
   "cell_type": "code",
   "execution_count": null,
   "id": "7e1cde2d",
   "metadata": {},
   "outputs": [],
   "source": []
  },
  {
   "cell_type": "code",
   "execution_count": null,
   "id": "356d8fe2",
   "metadata": {},
   "outputs": [],
   "source": []
  },
  {
   "cell_type": "code",
   "execution_count": null,
   "id": "54960dd9",
   "metadata": {},
   "outputs": [],
   "source": []
  }
 ],
 "metadata": {
  "hide_input": false,
  "kernelspec": {
   "display_name": "Python 3 (ipykernel)",
   "language": "python",
   "name": "python3"
  },
  "language_info": {
   "codemirror_mode": {
    "name": "ipython",
    "version": 3
   },
   "file_extension": ".py",
   "mimetype": "text/x-python",
   "name": "python",
   "nbconvert_exporter": "python",
   "pygments_lexer": "ipython3",
   "version": "3.8.16"
  }
 },
 "nbformat": 4,
 "nbformat_minor": 5
}
