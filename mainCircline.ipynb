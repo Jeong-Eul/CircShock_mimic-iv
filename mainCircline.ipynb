{
 "cells": [
  {
   "cell_type": "code",
   "execution_count": 3,
   "id": "available-albany",
   "metadata": {},
   "outputs": [],
   "source": [
    "from model import Make_Dataset\n",
    "import numpy as np\n",
    "import pandas as pd\n",
    "from tqdm import tqdm\n",
    "pd.set_option('display.max_columns', None)\n",
    "pd.set_option('mode.chained_assignment',  None)\n",
    "\n",
    "Path = '/Users/DAHS/Desktop/eICU_mimic/Data/mimic/hosp'\n",
    "\n",
    "suspected_infection = pd.read_csv(Path+'/suspected_infection.csv')\n",
    "# for judgment presence of heart failure \n",
    "d_icd = pd.read_csv(Path+'/d_icd_diagnoses.csv')\n",
    "diagnosses = pd.read_csv(Path+'/diagnoses_icd.csv')"
   ]
  },
  {
   "cell_type": "code",
   "execution_count": 4,
   "id": "45f7c7f5",
   "metadata": {},
   "outputs": [
    {
     "name": "stdout",
     "output_type": "stream",
     "text": [
      "Total Samples 22354\n"
     ]
    },
    {
     "name": "stderr",
     "output_type": "stream",
     "text": [
      " 14%|█▍        | 3196/22354 [21:28<2:08:42,  2.48it/s]\n"
     ]
    },
    {
     "ename": "KeyboardInterrupt",
     "evalue": "",
     "output_type": "error",
     "traceback": [
      "\u001b[1;31m---------------------------------------------------------------------------\u001b[0m",
      "\u001b[1;31mKeyboardInterrupt\u001b[0m                         Traceback (most recent call last)",
      "\u001b[1;32mc:\\Users\\DAHS\\MIMIC-IV-Data-Pipeline\\mainCircline.ipynb Cell 2\u001b[0m line \u001b[0;36m1\n\u001b[1;32m----> <a href='vscode-notebook-cell:/c%3A/Users/DAHS/MIMIC-IV-Data-Pipeline/mainCircline.ipynb#Y105sZmlsZQ%3D%3D?line=0'>1</a>\u001b[0m data\u001b[39m=\u001b[39mMake_Dataset\u001b[39m.\u001b[39;49mIntegration_data()\n",
      "File \u001b[1;32mc:\\Users\\DAHS\\MIMIC-IV-Data-Pipeline\\model\\Make_Dataset.py:9\u001b[0m, in \u001b[0;36mIntegration_data.__init__\u001b[1;34m(self)\u001b[0m\n\u001b[0;32m      8\u001b[0m \u001b[39mdef\u001b[39;00m \u001b[39m__init__\u001b[39m(\u001b[39mself\u001b[39m):\n\u001b[1;32m----> 9\u001b[0m     \u001b[39mself\u001b[39;49m\u001b[39m.\u001b[39;49mcategorical_encoding()\n",
      "File \u001b[1;32mc:\\Users\\DAHS\\MIMIC-IV-Data-Pipeline\\model\\Make_Dataset.py:20\u001b[0m, in \u001b[0;36mIntegration_data.categorical_encoding\u001b[1;34m(self)\u001b[0m\n\u001b[0;32m     17\u001b[0m \u001b[39mdef\u001b[39;00m \u001b[39mcategorical_encoding\u001b[39m(\u001b[39mself\u001b[39m):\n\u001b[0;32m     18\u001b[0m     hids\u001b[39m=\u001b[39m\u001b[39mself\u001b[39m\u001b[39m.\u001b[39mcreate_stay_id()\n\u001b[1;32m---> 20\u001b[0m     data\u001b[39m=\u001b[39m\u001b[39mself\u001b[39;49m\u001b[39m.\u001b[39;49mgetdata(hids)\n\u001b[0;32m     21\u001b[0m     \u001b[39m#encoding categorical\u001b[39;00m\n\u001b[0;32m     22\u001b[0m     gen_encoder \u001b[39m=\u001b[39m LabelEncoder()\n",
      "File \u001b[1;32mc:\\Users\\DAHS\\MIMIC-IV-Data-Pipeline\\model\\Make_Dataset.py:49\u001b[0m, in \u001b[0;36mIntegration_data.getdata\u001b[1;34m(self, ids)\u001b[0m\n\u001b[0;32m     46\u001b[0m     \u001b[39mfor\u001b[39;00m column \u001b[39min\u001b[39;00m columns_to_copy:\n\u001b[0;32m     47\u001b[0m         dyn[column] \u001b[39m=\u001b[39m stat[column]\u001b[39m.\u001b[39mcopy()\n\u001b[1;32m---> 49\u001b[0m     df \u001b[39m=\u001b[39m pd\u001b[39m.\u001b[39;49mconcat([df, dyn], axis \u001b[39m=\u001b[39;49m \u001b[39m1\u001b[39;49m)\n\u001b[0;32m     51\u001b[0m \u001b[39mprint\u001b[39m(\u001b[39m\"\u001b[39m\u001b[39mtotal stay dataframe shape\u001b[39m\u001b[39m\"\u001b[39m,df\u001b[39m.\u001b[39mshape)\n\u001b[0;32m     52\u001b[0m \u001b[39mreturn\u001b[39;00m df\n",
      "File \u001b[1;32mc:\\Users\\DAHS\\anaconda3\\envs\\MIMIC\\lib\\site-packages\\pandas\\util\\_decorators.py:331\u001b[0m, in \u001b[0;36mdeprecate_nonkeyword_arguments.<locals>.decorate.<locals>.wrapper\u001b[1;34m(*args, **kwargs)\u001b[0m\n\u001b[0;32m    325\u001b[0m \u001b[39mif\u001b[39;00m \u001b[39mlen\u001b[39m(args) \u001b[39m>\u001b[39m num_allow_args:\n\u001b[0;32m    326\u001b[0m     warnings\u001b[39m.\u001b[39mwarn(\n\u001b[0;32m    327\u001b[0m         msg\u001b[39m.\u001b[39mformat(arguments\u001b[39m=\u001b[39m_format_argument_list(allow_args)),\n\u001b[0;32m    328\u001b[0m         \u001b[39mFutureWarning\u001b[39;00m,\n\u001b[0;32m    329\u001b[0m         stacklevel\u001b[39m=\u001b[39mfind_stack_level(),\n\u001b[0;32m    330\u001b[0m     )\n\u001b[1;32m--> 331\u001b[0m \u001b[39mreturn\u001b[39;00m func(\u001b[39m*\u001b[39;49margs, \u001b[39m*\u001b[39;49m\u001b[39m*\u001b[39;49mkwargs)\n",
      "File \u001b[1;32mc:\\Users\\DAHS\\anaconda3\\envs\\MIMIC\\lib\\site-packages\\pandas\\core\\reshape\\concat.py:381\u001b[0m, in \u001b[0;36mconcat\u001b[1;34m(objs, axis, join, ignore_index, keys, levels, names, verify_integrity, sort, copy)\u001b[0m\n\u001b[0;32m    159\u001b[0m \u001b[39m\u001b[39m\u001b[39m\"\"\"\u001b[39;00m\n\u001b[0;32m    160\u001b[0m \u001b[39mConcatenate pandas objects along a particular axis.\u001b[39;00m\n\u001b[0;32m    161\u001b[0m \n\u001b[1;32m   (...)\u001b[0m\n\u001b[0;32m    366\u001b[0m \u001b[39m1   3   4\u001b[39;00m\n\u001b[0;32m    367\u001b[0m \u001b[39m\"\"\"\u001b[39;00m\n\u001b[0;32m    368\u001b[0m op \u001b[39m=\u001b[39m _Concatenator(\n\u001b[0;32m    369\u001b[0m     objs,\n\u001b[0;32m    370\u001b[0m     axis\u001b[39m=\u001b[39maxis,\n\u001b[1;32m   (...)\u001b[0m\n\u001b[0;32m    378\u001b[0m     sort\u001b[39m=\u001b[39msort,\n\u001b[0;32m    379\u001b[0m )\n\u001b[1;32m--> 381\u001b[0m \u001b[39mreturn\u001b[39;00m op\u001b[39m.\u001b[39;49mget_result()\n",
      "File \u001b[1;32mc:\\Users\\DAHS\\anaconda3\\envs\\MIMIC\\lib\\site-packages\\pandas\\core\\reshape\\concat.py:616\u001b[0m, in \u001b[0;36m_Concatenator.get_result\u001b[1;34m(self)\u001b[0m\n\u001b[0;32m    612\u001b[0m             indexers[ax] \u001b[39m=\u001b[39m obj_labels\u001b[39m.\u001b[39mget_indexer(new_labels)\n\u001b[0;32m    614\u001b[0m     mgrs_indexers\u001b[39m.\u001b[39mappend((obj\u001b[39m.\u001b[39m_mgr, indexers))\n\u001b[1;32m--> 616\u001b[0m new_data \u001b[39m=\u001b[39m concatenate_managers(\n\u001b[0;32m    617\u001b[0m     mgrs_indexers, \u001b[39mself\u001b[39;49m\u001b[39m.\u001b[39;49mnew_axes, concat_axis\u001b[39m=\u001b[39;49m\u001b[39mself\u001b[39;49m\u001b[39m.\u001b[39;49mbm_axis, copy\u001b[39m=\u001b[39;49m\u001b[39mself\u001b[39;49m\u001b[39m.\u001b[39;49mcopy\n\u001b[0;32m    618\u001b[0m )\n\u001b[0;32m    619\u001b[0m \u001b[39mif\u001b[39;00m \u001b[39mnot\u001b[39;00m \u001b[39mself\u001b[39m\u001b[39m.\u001b[39mcopy:\n\u001b[0;32m    620\u001b[0m     new_data\u001b[39m.\u001b[39m_consolidate_inplace()\n",
      "File \u001b[1;32mc:\\Users\\DAHS\\anaconda3\\envs\\MIMIC\\lib\\site-packages\\pandas\\core\\internals\\concat.py:199\u001b[0m, in \u001b[0;36mconcatenate_managers\u001b[1;34m(mgrs_indexers, axes, concat_axis, copy)\u001b[0m\n\u001b[0;32m    195\u001b[0m     \u001b[39mreturn\u001b[39;00m _concatenate_array_managers(mgrs_indexers, axes, concat_axis, copy)\n\u001b[0;32m    197\u001b[0m mgrs_indexers \u001b[39m=\u001b[39m _maybe_reindex_columns_na_proxy(axes, mgrs_indexers)\n\u001b[1;32m--> 199\u001b[0m concat_plans \u001b[39m=\u001b[39m [\n\u001b[0;32m    200\u001b[0m     _get_mgr_concatenation_plan(mgr, indexers) \u001b[39mfor\u001b[39;00m mgr, indexers \u001b[39min\u001b[39;00m mgrs_indexers\n\u001b[0;32m    201\u001b[0m ]\n\u001b[0;32m    202\u001b[0m concat_plan \u001b[39m=\u001b[39m _combine_concat_plans(concat_plans, concat_axis)\n\u001b[0;32m    203\u001b[0m blocks \u001b[39m=\u001b[39m []\n",
      "File \u001b[1;32mc:\\Users\\DAHS\\anaconda3\\envs\\MIMIC\\lib\\site-packages\\pandas\\core\\internals\\concat.py:200\u001b[0m, in \u001b[0;36m<listcomp>\u001b[1;34m(.0)\u001b[0m\n\u001b[0;32m    195\u001b[0m     \u001b[39mreturn\u001b[39;00m _concatenate_array_managers(mgrs_indexers, axes, concat_axis, copy)\n\u001b[0;32m    197\u001b[0m mgrs_indexers \u001b[39m=\u001b[39m _maybe_reindex_columns_na_proxy(axes, mgrs_indexers)\n\u001b[0;32m    199\u001b[0m concat_plans \u001b[39m=\u001b[39m [\n\u001b[1;32m--> 200\u001b[0m     _get_mgr_concatenation_plan(mgr, indexers) \u001b[39mfor\u001b[39;00m mgr, indexers \u001b[39min\u001b[39;00m mgrs_indexers\n\u001b[0;32m    201\u001b[0m ]\n\u001b[0;32m    202\u001b[0m concat_plan \u001b[39m=\u001b[39m _combine_concat_plans(concat_plans, concat_axis)\n\u001b[0;32m    203\u001b[0m blocks \u001b[39m=\u001b[39m []\n",
      "File \u001b[1;32mc:\\Users\\DAHS\\anaconda3\\envs\\MIMIC\\lib\\site-packages\\pandas\\core\\internals\\concat.py:311\u001b[0m, in \u001b[0;36m_get_mgr_concatenation_plan\u001b[1;34m(mgr, indexers)\u001b[0m\n\u001b[0;32m    308\u001b[0m plan \u001b[39m=\u001b[39m []\n\u001b[0;32m    309\u001b[0m \u001b[39mfor\u001b[39;00m blkno, placements \u001b[39min\u001b[39;00m libinternals\u001b[39m.\u001b[39mget_blkno_placements(blknos, group\u001b[39m=\u001b[39m\u001b[39mFalse\u001b[39;00m):\n\u001b[1;32m--> 311\u001b[0m     \u001b[39massert\u001b[39;00m placements\u001b[39m.\u001b[39;49mis_slice_like\n\u001b[0;32m    312\u001b[0m     \u001b[39massert\u001b[39;00m blkno \u001b[39m!=\u001b[39m \u001b[39m-\u001b[39m\u001b[39m1\u001b[39m\n\u001b[0;32m    314\u001b[0m     join_unit_indexers \u001b[39m=\u001b[39m indexers\u001b[39m.\u001b[39mcopy()\n",
      "\u001b[1;31mKeyboardInterrupt\u001b[0m: "
     ]
    }
   ],
   "source": [
    "data=Make_Dataset.Integration_data()"
   ]
  },
  {
   "cell_type": "code",
   "execution_count": null,
   "id": "372d1a38",
   "metadata": {},
   "outputs": [],
   "source": [
    "# suspected infections\n",
    "\n",
    "si_icd9_ary = suspected_infection[suspected_infection['icd_version']==9]['icd_code'].values\n",
    "si_icd9 = np.array(si_icd9_ary[0].split(', '))\n",
    "\n",
    "si_icd10_ary = suspected_infection[suspected_infection['icd_version']==10]['icd_code'].values\n",
    "si_icd10 = np.array(si_icd10_ary[0].split(', '))\n",
    "\n",
    "suspected_infection_icd_code_9_10 =np.hstack([si_icd9, si_icd10])\n",
    "\n",
    "suspected_infection_df = pd.DataFrame()\n",
    "\n",
    "for icd in suspected_infection_icd_code_9_10:\n",
    "\n",
    "    sample = diagnosses[diagnosses['icd_code'].str.startswith(icd)][['subject_id', 'hadm_id']]\n",
    "    suspected_infection_df = pd.concat([suspected_infection_df, sample])\n",
    "    \n",
    "heartfailure_before_df = pd.DataFrame()\n",
    "\n",
    "for icd in ['428', 'I50']:\n",
    "\n",
    "    sample = diagnosses[diagnosses['icd_code'].str.startswith(icd)][['subject_id', 'hadm_id']]\n",
    "    heartfailure_before_df = pd.concat([heartfailure_before_df, sample])\n",
    "    \n",
    "spinal_injury_before_df = pd.DataFrame()\n",
    "\n",
    "for icd in ['G50', '805', '806']:\n",
    "\n",
    "    sample = diagnosses[diagnosses['icd_code'].str.startswith(icd)][['subject_id', 'hadm_id']]\n",
    "    spinal_injury_before_df = pd.concat([spinal_injury_before_df, sample])"
   ]
  },
  {
   "cell_type": "code",
   "execution_count": null,
   "id": "ef9d1d0e",
   "metadata": {},
   "outputs": [],
   "source": [
    "bulk_changes_pmpe = {\n",
    "    225792 : 'Invasive_Ventilation', 225794 : 'None_Invasive_Ventilation',\n",
    "    225402 : 'EKG', 223253 : 'MRI', 225459 : 'CXR', 225975 : 'HeparinSodium',\n",
    "    225152 : 'HeparinSodium', 225157 : 'Tirofiban', 221261 : 'Abciximab',\n",
    "    229069 : 'Digoxin', 229617 : 'Epinephrine', 221289 : 'Epinephrine',  225166: 'Potassium_Chloride',\n",
    "    225876 : 'Imipenem', 225893 : 'Piperacillin_Tazobactam', 226509 : 'extra_blood',\n",
    "    227080 : 'Fluids_supplement', 220949: 'Dextrose_5%', 225401 : 'blood_cultured', 225437 : 'blood_cultured'\n",
    "}\n",
    "\n",
    "bulk_changes_ce = {\n",
    "    220045 : 'HR', 220050 : 'ABPs', 220051 : 'ABPd',\n",
    "    220088 : 'CO', 224842 : 'CO', 220277 : 'SpO2',\n",
    "    228302 : 'RASS', 224695 : 'Peak_insp_P', 227467 : 'INR',\n",
    "    225668 : 'Lactate', 220621 : 'glucose', 227444 : 'CRP',\n",
    "    220059 : 'PAPs', 220060 : 'PAPd', 223771 : 'PCWP',\n",
    "    223772 : 'SvO2', 220074 : 'CVP', 220179 : 'NIBPs', \n",
    "    220180 : 'NIBPd', 228640 : 'EtCO2', 220210 : 'RR',\n",
    "    224690 : 'RR', 224639 : 'weight', 226730 : 'height',\n",
    "    223830 : 'pH', 220235 : 'pCO2', 220224 : 'PaO2',\n",
    "    227686 : 'CVOS', 227429 : 'Troponin-T', 227457 : 'Platelet_count',\n",
    "    223761 : 'temperature_F', 223762 : 'temperature_C', 227442 : 'K+',\n",
    "    227464 : 'K+', 225625 : 'Ca_non_ionized', 225612 : 'Alkaline_Phosphate',\n",
    "    220228 : 'hemoglobin', 226540 : 'hematocrit', 220545 : 'hematocrit',\n",
    "    225690 : 'total_bilirubin', 220615 : 'creatinine', 223835 : 'FiO2',\n",
    "    220739 : 'Eye_Opening', 223900 : 'verbal_reponse', 223901 : 'mortor_response'\n",
    "}\n",
    "\n",
    "bulk_changes_le = {\n",
    "    50983 : 'sodium', 52623 : 'sodium', 50817 : 'SpO2',\n",
    "    50813: 'Lactate', 52442 : 'Lactate', 50809 : 'glucose',\n",
    "    50820 : 'pH', 50825 : 'temperature_C', 50971 : 'K+',\n",
    "    52610: 'K+', 50822 : 'K+', 50893  : 'Ca_non_ionized', \n",
    "    52034 : 'Ca_non_ionized', 52035 : 'Ca_non_ionized', \n",
    "    50863 : 'Alkaline_Phosphate', 53086 : 'Alkaline_Phosphate',\n",
    "    50811 : 'hemoglobin', 51222 : 'hemoglobin', 51640 : 'hemoglobin',\n",
    "    51221 : 'hematocrit', 51638 : 'hematocrit', 51639 : 'hematocrit', \n",
    "    52028 : 'hematocrit', 50810 : 'hematocrit', \n",
    "    50912 : 'creatinine', 52546 : 'creatinine', 52024 : 'creatinine', \n",
    "    50885 : 'total_bilirubin', 53089 : 'total_bilirubin',\n",
    "    51108 : 'Urine_Output', 51109 : 'Urine_Output', 50886 : 'blood_cultured',\n",
    "    70011 : 'blood_cultured', 70012 : 'blood_cultured', 51265 : 'Platelet_count',\n",
    "    51704 : 'Platelet_count', 50861 : 'ALT', 50878 : 'AST', 51300 : 'WBC', 51301: 'WBC', 51755: 'WBC',\n",
    "    51006: 'BUN', 52647 :'BUN'\n",
    "}\n",
    "\n",
    "\n",
    "bulk_changes_pmpe.update(bulk_changes_ce)\n",
    "bulk_changes_pmpe.update(bulk_changes_le)\n",
    "print(bulk_changes_pmpe)"
   ]
  },
  {
   "cell_type": "code",
   "execution_count": null,
   "id": "209a8b4b",
   "metadata": {},
   "outputs": [],
   "source": []
  },
  {
   "cell_type": "code",
   "execution_count": null,
   "id": "7e1cde2d",
   "metadata": {},
   "outputs": [],
   "source": []
  },
  {
   "cell_type": "code",
   "execution_count": null,
   "id": "356d8fe2",
   "metadata": {},
   "outputs": [],
   "source": []
  },
  {
   "cell_type": "code",
   "execution_count": null,
   "id": "54960dd9",
   "metadata": {},
   "outputs": [],
   "source": []
  }
 ],
 "metadata": {
  "hide_input": false,
  "kernelspec": {
   "display_name": "Python 3 (ipykernel)",
   "language": "python",
   "name": "python3"
  },
  "language_info": {
   "codemirror_mode": {
    "name": "ipython",
    "version": 3
   },
   "file_extension": ".py",
   "mimetype": "text/x-python",
   "name": "python",
   "nbconvert_exporter": "python",
   "pygments_lexer": "ipython3",
   "version": "3.8.16"
  }
 },
 "nbformat": 4,
 "nbformat_minor": 5
}
