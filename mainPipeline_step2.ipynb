{
 "cells": [
  {
   "cell_type": "code",
   "execution_count": 1,
   "id": "available-albany",
   "metadata": {},
   "outputs": [],
   "source": [
    "import os \n",
    "import numpy as np\n",
    "import pandas as pd\n",
    "import sys\n",
    "from tqdm import tqdm\n",
    "from pathlib import Path\n",
    "import os\n",
    "import importlib\n",
    "import warnings\n",
    "import gc\n",
    "\n",
    "pd.set_option('mode.chained_assignment',  None) \n",
    "warnings.simplefilter(action='ignore', category=FutureWarning) \n",
    "\n",
    "module_path='model'\n",
    "if module_path not in sys.path:\n",
    "    sys.path.append(module_path)\n",
    "    \n",
    "import generation\n",
    "from generation import *"
   ]
  },
  {
   "cell_type": "code",
   "execution_count": 3,
   "id": "892a4438",
   "metadata": {},
   "outputs": [
    {
     "name": "stderr",
     "output_type": "stream",
     "text": [
      "100%|██████████| 18302/18302 [00:25<00:00, 706.74it/s]\n"
     ]
    },
    {
     "name": "stdout",
     "output_type": "stream",
     "text": [
      "[Complete generate microlab events]\n",
      "[Complete generate medication events]\n",
      "[Complete generate ingredient events]\n"
     ]
    }
   ],
   "source": [
    "# data = generate_adm()\n",
    "\n",
    "# proc = generate_proc(data)\n",
    "\n",
    "# out = generate_out(data)\n",
    "\n",
    "# chart = generate_chart(data)\n",
    "\n",
    "# labs = generate_labs(data)\n",
    "\n",
    "# microlabs = generate_microlabs(data)\n",
    "\n",
    "# meds = generate_meds(data)\n",
    "\n",
    "# ing = generate_ing(data)"
   ]
  },
  {
   "cell_type": "code",
   "execution_count": 4,
   "id": "7d4e84b4",
   "metadata": {},
   "outputs": [],
   "source": [
    "# data.to_csv('check_point_data.csv.gz', compression = 'gzip')\n",
    "# proc.to_csv('check_point_proc.csv.gz', compression = 'gzip')\n",
    "# out.to_csv('check_point_out.csv.gz', compression = 'gzip')\n",
    "# chart.to_csv('check_point_chart.csv.gz', compression = 'gzip')\n",
    "# labs.to_csv('check_point_labs.csv.gz', compression = 'gzip')\n",
    "# microlabs.to_csv('check_point_microlabs.csv.gz', compression = 'gzip')\n",
    "# meds.to_csv('check_point_meds.csv.gz', compression = 'gzip')\n",
    "# ing.to_csv('check_point_ing.csv.gz', compression = 'gzip')"
   ]
  },
  {
   "cell_type": "code",
   "execution_count": 2,
   "id": "578167bf",
   "metadata": {},
   "outputs": [],
   "source": [
    "# loading check point\n",
    "\n",
    "import pandas as pd\n",
    "import numpy as np\n",
    "from tqdm import tqdm\n",
    "\n",
    "data = pd.read_csv('check_point_data.csv.gz', index_col = 0, compression = 'gzip')\n",
    "ing = pd.read_csv('check_point_ing.csv.gz', index_col = 0, compression = 'gzip')\n",
    "chart = pd.read_csv('check_point_chart.csv.gz', index_col = 0, compression = 'gzip')\n",
    "labs = pd.read_csv('check_point_labs.csv.gz', index_col = 0, compression = 'gzip')\n",
    "proc = pd.read_csv('check_point_proc.csv.gz', index_col = 0, compression = 'gzip')\n",
    "out = pd.read_csv('check_point_out.csv.gz', index_col = 0, compression = 'gzip')\n",
    "meds = pd.read_csv('check_point_meds.csv.gz', index_col = 0, compression = 'gzip')\n",
    "microlabs = pd.read_csv('check_point_microlabs.csv.gz', index_col = 0, compression = 'gzip')"
   ]
  },
  {
   "cell_type": "code",
   "execution_count": 3,
   "id": "4988fd68",
   "metadata": {},
   "outputs": [
    {
     "name": "stdout",
     "output_type": "stream",
     "text": [
      "include start time 24\n",
      "include end time 1440\n",
      "num of patient:  42253\n",
      "num of stay:  57699\n"
     ]
    }
   ],
   "source": [
    "include_start_time = 1*24\n",
    "include_end_time =60*24\n",
    "\n",
    "def cohort_restirction(include_start_time,include_end_time,data, ing, chart, labs, proc, out, meds, microlabs):\n",
    "    print(\"include start time\",include_start_time)\n",
    "    print(\"include end time\",include_end_time)\n",
    "    \n",
    "    data=data[(data['los'] >= include_start_time)]\n",
    "    data=data[(data['los'] <= include_end_time)]\n",
    "    hids=data['stay_id'].unique()\n",
    "    print('num of patient: ', len(data.subject_id.unique()))\n",
    "    print('num of stay: ', len(hids))\n",
    "\n",
    "    # cond=cond[cond['stay_id'].isin(data['stay_id'])]\n",
    "    \n",
    "    ###MEDS\n",
    "\n",
    "    meds=meds[meds['stay_id'].isin(data['stay_id'])]\n",
    "    meds=meds[meds['start_time'] <= include_end_time]\n",
    "    meds.loc[meds.stop_time > include_end_time, 'stop_time']=include_end_time\n",
    "        \n",
    "    ###ING\n",
    "\n",
    "    ing=ing[ing['stay_id'].isin(data['stay_id'])]\n",
    "    ing=ing[ing['start_time'] <= include_end_time]\n",
    "    ing.loc[ing.stop_time > include_end_time, 'stop_time']=include_end_time\n",
    "                \n",
    "    ###PROCS\n",
    "\n",
    "    proc=proc[proc['stay_id'].isin(data['stay_id'])]\n",
    "    proc=proc[proc['start_time']<=include_end_time]\n",
    "    proc.loc[proc.stop_time > include_end_time, 'stop_time']=include_end_time\n",
    "    \n",
    "    ###microlabs\n",
    "\n",
    "    microlabs=microlabs[microlabs['stay_id'].isin(data['stay_id'])]\n",
    "    microlabs=microlabs[microlabs['start_time']<=include_end_time]\n",
    "        \n",
    "    ###OUT\n",
    "\n",
    "    out=out[out['stay_id'].isin(data['stay_id'])]\n",
    "    out=out[out['start_time']<=include_end_time]\n",
    "        \n",
    "    ###CHART\n",
    "\n",
    "    chart=chart[chart['stay_id'].isin(data['stay_id'])]\n",
    "    chart=chart[chart['start_time']<=include_end_time]\n",
    "        \n",
    "    ###LAB\n",
    "\n",
    "    labs=labs[labs['stay_id'].isin(data['stay_id'])]\n",
    "    labs=labs[labs['start_time']<=include_end_time]\n",
    "    \n",
    "    return  data, ing, chart, labs, proc, out, meds, microlabs\n",
    "\n",
    "data_new, ing_new, chart_new, labs_new, proc_new, out_new, meds_new, microlabs_new = cohort_restirction(include_start_time,include_end_time ,data, ing, chart, labs, proc, out, meds, microlabs)"
   ]
  },
  {
   "cell_type": "code",
   "execution_count": 4,
   "id": "ca379386",
   "metadata": {},
   "outputs": [],
   "source": [
    "final_meds=pd.DataFrame()\n",
    "final_ing=pd.DataFrame()\n",
    "final_proc=pd.DataFrame()\n",
    "final_out=pd.DataFrame()\n",
    "final_chart=pd.DataFrame()\n",
    "final_labs=pd.DataFrame()\n",
    "final_micro=pd.DataFrame()\n",
    "\n",
    "meds_new=meds_new.sort_values(by=['start_time'])\n",
    "ing_new=ing_new.sort_values(by=['start_time'])\n",
    "proc_new=proc_new.sort_values(by=['start_time'])\n",
    "microlabs_new=microlabs_new.sort_values(by=['start_time'])\n",
    "out_new=out_new.sort_values(by=['start_time'])\n",
    "chart_new=chart_new.sort_values(by=['start_time'])\n",
    "labs_new=labs_new.sort_values(by=['start_time'])\n",
    "\n",
    "hids=data_new['stay_id'].unique()"
   ]
  },
  {
   "cell_type": "code",
   "execution_count": 5,
   "id": "c1fb700f",
   "metadata": {},
   "outputs": [],
   "source": [
    "sample_data = pd.concat([chart_new[['stay_id', 'itemid']], labs_new[['stay_id', 'itemid']]], axis = 0)"
   ]
  },
  {
   "cell_type": "code",
   "execution_count": 6,
   "id": "ef5c8ebd",
   "metadata": {},
   "outputs": [],
   "source": [
    "# Specify the item_ids we are interested in\n",
    "required_item_ids = {'HR', 'ABPs', 'ABPd', 'Lactate'}\n",
    "\n",
    "# Find the stay_ids that have all the required item_ids at least once\n",
    "valid_stay_ids = sample_data[sample_data['itemid'].isin(required_item_ids)].groupby('stay_id')['itemid'].nunique()\n",
    "valid_stay_ids = valid_stay_ids[valid_stay_ids == len(required_item_ids)].index"
   ]
  },
  {
   "cell_type": "code",
   "execution_count": 7,
   "id": "25ef7606",
   "metadata": {},
   "outputs": [],
   "source": [
    "meds_1 = meds_new[meds_new['stay_id'].isin(valid_stay_ids)]\n",
    "ing_1 = ing_new[ing_new['stay_id'].isin(valid_stay_ids)]\n",
    "proc_1 = proc_new[proc_new['stay_id'].isin(valid_stay_ids)]\n",
    "out_1 = out_new[out_new['stay_id'].isin(valid_stay_ids)]\n",
    "chart_1 = chart_new[chart_new['stay_id'].isin(valid_stay_ids)]\n",
    "labs_1 = labs_new[labs_new['stay_id'].isin(valid_stay_ids)]\n",
    "data_1 = data_new[data_new['stay_id'].isin(valid_stay_ids)]\n",
    "microlabs_1 = microlabs_new[microlabs_new['stay_id'].isin(valid_stay_ids)]"
   ]
  },
  {
   "cell_type": "code",
   "execution_count": 8,
   "metadata": {},
   "outputs": [
    {
     "data": {
      "text/plain": [
       "3007634"
      ]
     },
     "execution_count": 8,
     "metadata": {},
     "output_type": "execute_result"
    }
   ],
   "source": [
    "#예상 관측치 수\n",
    "data_1['los'].sum()"
   ]
  },
  {
   "cell_type": "code",
   "execution_count": 9,
   "id": "ad2ab8c9",
   "metadata": {},
   "outputs": [
    {
     "data": {
      "text/plain": [
       "20809"
      ]
     },
     "execution_count": 9,
     "metadata": {},
     "output_type": "execute_result"
    }
   ],
   "source": [
    "#총 STAY 수\n",
    "len(valid_stay_ids)"
   ]
  },
  {
   "cell_type": "code",
   "execution_count": 10,
   "id": "622752da",
   "metadata": {},
   "outputs": [
    {
     "name": "stdout",
     "output_type": "stream",
     "text": [
      "# Unique gender:  2\n",
      "# Unique ethnicity:  33\n",
      "=====================\n",
      "Number of patient:  18685\n",
      "Number of stay:  20809\n",
      "Expected value of observation:  3007634\n",
      "=====================\n",
      "\n"
     ]
    },
    {
     "name": "stderr",
     "output_type": "stream",
     "text": [
      "Tabularize EHR for total stay 20,809: 100%|██████████| 20809/20809 [19:32:40<00:00,  3.38s/it]  "
     ]
    },
    {
     "name": "stdout",
     "output_type": "stream",
     "text": [
      "[ SUCCESSFULLY SAVED TOTAL UNIT STAY DATA ]\n"
     ]
    },
    {
     "name": "stderr",
     "output_type": "stream",
     "text": [
      "\n"
     ]
    }
   ],
   "source": [
    "import os\n",
    "\n",
    "import warnings\n",
    "warnings.simplefilter(action='ignore', category=FutureWarning)\n",
    "pd.set_option('mode.chained_assignment',  None) \n",
    "\n",
    "local = '/Users/DAHS/Desktop/MIMICIV2.2_PREPROC/data'\n",
    "\n",
    "final_meds = meds_1.copy()\n",
    "final_ing= ing_1.copy()\n",
    "final_proc= proc_1.copy() \n",
    "final_out= out_1.copy()\n",
    "final_chart= chart_1.copy()\n",
    "final_labs= labs_1.copy()\n",
    "final_micro = microlabs_1.copy()\n",
    "\n",
    "feat_med = True\n",
    "feat_ing = True\n",
    "feat_proc = True\n",
    "feat_out = True\n",
    "feat_chart = True\n",
    "impute = True\n",
    "feat_lab = True\n",
    "feat_micro = True\n",
    "\n",
    "tabularization(feat_med, feat_ing, feat_out, feat_chart, feat_lab, feat_micro,feat_proc,\n",
    "                   final_meds, final_ing, final_proc, final_out, final_chart, final_labs, final_micro,\n",
    "                   valid_stay_ids, data_1)\n",
    "\n",
    "data_1.to_csv(local+'/demo.csv')"
   ]
  }
 ],
 "metadata": {
  "hide_input": false,
  "kernelspec": {
   "display_name": "Python 3 (ipykernel)",
   "language": "python",
   "name": "python3"
  },
  "language_info": {
   "codemirror_mode": {
    "name": "ipython",
    "version": 3
   },
   "file_extension": ".py",
   "mimetype": "text/x-python",
   "name": "python",
   "nbconvert_exporter": "python",
   "pygments_lexer": "ipython3",
   "version": "3.8.16"
  }
 },
 "nbformat": 4,
 "nbformat_minor": 5
}
