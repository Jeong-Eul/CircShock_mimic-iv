{
 "cells": [
  {
   "cell_type": "code",
   "execution_count": 1,
   "id": "available-albany",
   "metadata": {},
   "outputs": [],
   "source": [
    "import pandas as pd\n",
    "import sys\n",
    "from pathlib import Path\n",
    "import os\n",
    "import importlib\n",
    "import warnings\n",
    "\n",
    "warnings.simplefilter(action='ignore', category=FutureWarning)\n",
    "pd.set_option('mode.chained_assignment',  None) \n",
    "\n",
    "\n",
    "module_path='preprocessing/day_intervals_preproc'\n",
    "if module_path not in sys.path:\n",
    "    sys.path.append(module_path)\n",
    "\n",
    "module_path='utils'\n",
    "if module_path not in sys.path:\n",
    "    sys.path.append(module_path)\n",
    "    \n",
    "module_path='preprocessing/hosp_module_preproc'\n",
    "if module_path not in sys.path:\n",
    "    sys.path.append(module_path)\n",
    "    \n",
    "module_path='model'\n",
    "if module_path not in sys.path:\n",
    "    sys.path.append(module_path)\n",
    "#print(sys.path)\n",
    "root_dir = os.path.dirname(os.path.abspath('UserInterface.ipynb'))\n",
    "\n",
    "import cohort_selection\n",
    "from cohort_selection import *\n",
    "\n",
    "import feature_selection_hosp\n",
    "from feature_selection_hosp import *"
   ]
  },
  {
   "cell_type": "code",
   "execution_count": 2,
   "id": "nutritional-chicago",
   "metadata": {},
   "outputs": [],
   "source": [
    "importlib.reload(cohort_selection)\n",
    "import cohort_selection\n",
    "from cohort_selection import *\n",
    "\n",
    "# importlib.reload(data_generation_circ)\n",
    "import data_generation_circ\n",
    "\n",
    "# importlib.reload(feature_selection_hosp)\n",
    "import feature_selection_hosp\n",
    "from feature_selection_hosp import *\n",
    "\n",
    "# importlib.reload(feature_selection_icu)\n",
    "import feature_selection_icu\n",
    "from feature_selection_icu import *"
   ]
  },
  {
   "cell_type": "code",
   "execution_count": 6,
   "metadata": {},
   "outputs": [
    {
     "name": "stdout",
     "output_type": "stream",
     "text": [
      "===========MIMIC-IV v2.2============\n",
      "EXTRACTING FOR: | ICU | READMISSION | 30 |\n"
     ]
    },
    {
     "name": "stderr",
     "output_type": "stream",
     "text": [
      "100%|██████████| 47223/47223 [02:14<00:00, 350.76it/s]\n"
     ]
    },
    {
     "name": "stdout",
     "output_type": "stream",
     "text": [
      "[ READMISSION LABELS FINISHED ]\n",
      "[ COHORT SUCCESSFULLY SAVED ]\n",
      "[ SUMMARY SUCCESSFULLY SAVED ]\n",
      "Readmission FOR ICU DATA\n",
      "# Admission Records: 67552\n",
      "# Patients: 47223\n",
      "# Positive cases: 9347\n",
      "# Negative cases: 58205\n"
     ]
    }
   ],
   "source": [
    "#Heart Faillure\n",
    "\n",
    "task = 'Readmission'  # options=['Mortality','Length of Stay','Readmission','Phenotype']\n",
    "version = 'Version 2.2'\n",
    "\n",
    "time=30\n",
    "label= 'Readmission'\n",
    "\n",
    "data_icu=True\n",
    "data_mort=True\n",
    "data_admn=True\n",
    "data_los=False\n",
    "\n",
    "space = 'ICU'\n",
    "        \n",
    "icd_code='No Disease Filter'\n",
    "\n",
    "version=='Version 2.2'\n",
    "version_path=\"mimiciv/2.2\"\n",
    "\n",
    "root_dir = '/Users/DAHS/MIMIC-IV-Data-Pipeline'\n",
    "local_dir = '/Users/DAHS/Desktop/circ_mimic_preprocessing_1day/data/'\n",
    "\n",
    "cohort_output = cohort_selection.extract_data(space, label, time, icd_code, root_dir, \"\")"
   ]
  },
  {
   "cell_type": "code",
   "execution_count": 3,
   "id": "structured-dimension",
   "metadata": {
    "tags": [
     "{",
     "\"tags\":",
     "[",
     "\"hide-input\"",
     "]",
     "}"
    ]
   },
   "outputs": [
    {
     "name": "stdout",
     "output_type": "stream",
     "text": [
      "===========MIMIC-IV v2.2============\n",
      "EXTRACTING FOR: | ICU | MORTALITY | 0 |\n",
      "[ MORTALITY LABELS FINISHED ]\n",
      "[ COHORT SUCCESSFULLY SAVED ]\n",
      "[ SUMMARY SUCCESSFULLY SAVED ]\n",
      "Mortality FOR ICU DATA\n",
      "# Admission Records: 73181\n",
      "# Patients: 50920\n",
      "# Positive cases: 4889\n",
      "# Negative cases: 68292\n"
     ]
    }
   ],
   "source": [
    "# 1. DATA EXTRACTION\n",
    "# The cohort will be svaed in **./data/cohort/**\n",
    "\n",
    "task = 'Mortality'  # options=['Mortality','Length of Stay','Readmission','Phenotype']\n",
    "version = 'Version 2.2'\n",
    "\n",
    "time=0\n",
    "label= task\n",
    "\n",
    "data_icu=True\n",
    "data_mort=True\n",
    "data_admn=False\n",
    "data_los=False\n",
    "\n",
    "space = 'ICU'\n",
    "        \n",
    "icd_code='No Disease Filter'\n",
    "\n",
    "version=='Version 2.2'\n",
    "version_path=\"mimiciv/2.2\"\n",
    "\n",
    "root_dir = '/Users/DAHS/MIMIC-IV-Data-Pipeline/MIMIC_pipeline/'\n",
    "local_dir = '/Users/DAHS/Desktop/circ_mimic_preprocessing_1day/data/'\n",
    "\n",
    "cohort_output = cohort_selection.extract_data(space, label, time,icd_code, root_dir, \"\")"
   ]
  },
  {
   "cell_type": "code",
   "execution_count": 4,
   "metadata": {},
   "outputs": [
    {
     "data": {
      "text/plain": [
       "0"
      ]
     },
     "execution_count": 4,
     "metadata": {},
     "output_type": "execute_result"
    }
   ],
   "source": [
    "import gc\n",
    "gc.collect()"
   ]
  },
  {
   "cell_type": "code",
   "execution_count": 5,
   "id": "raised-olympus",
   "metadata": {},
   "outputs": [
    {
     "name": "stdout",
     "output_type": "stream",
     "text": [
      "[EXTRACTING PROCEDURES DATA]\n",
      "# Unique Events:   157\n",
      "# Admissions:   72711\n",
      "Total rows 678994\n",
      "[SUCCESSFULLY SAVED PROCEDURES DATA]\n"
     ]
    }
   ],
   "source": [
    "## 2. FEATURE SELECTION\n",
    "\n",
    "# when you try first, replace False to True\n",
    "\n",
    "diag_flag  =  False\n",
    "out_flag   =  False\n",
    "chart_flag =  False\n",
    "proc_flag  =  True\n",
    "med_flag   =  False\n",
    "ing_flag   =  False\n",
    "lab_flag   =  False\n",
    "\n",
    "feature_icu(root_dir, cohort_output, version_path, diag_flag, out_flag,\n",
    "            chart_flag, proc_flag, med_flag, ing_flag, lab_flag)"
   ]
  },
  {
   "cell_type": "code",
   "execution_count": 6,
   "metadata": {},
   "outputs": [
    {
     "data": {
      "text/plain": [
       "0"
      ]
     },
     "execution_count": 6,
     "metadata": {},
     "output_type": "execute_result"
    }
   ],
   "source": [
    "import gc\n",
    "gc.collect()"
   ]
  },
  {
   "cell_type": "code",
   "execution_count": 8,
   "metadata": {},
   "outputs": [
    {
     "data": {
      "text/plain": [
       "False"
      ]
     },
     "execution_count": 8,
     "metadata": {},
     "output_type": "execute_result"
    }
   ],
   "source": [
    "out_flag"
   ]
  },
  {
   "cell_type": "code",
   "execution_count": 7,
   "id": "thick-residence",
   "metadata": {},
   "outputs": [
    {
     "name": "stdout",
     "output_type": "stream",
     "text": [
      "[GENERATING FEATURE SUMMARY]\n"
     ]
    },
    {
     "ename": "OSError",
     "evalue": "Cannot save file into a non-existent directory: '\\Users\\DAHS\\Desktop\\circ_mimic_preprocessing_1day\\data\\summary'",
     "output_type": "error",
     "traceback": [
      "\u001b[1;31m---------------------------------------------------------------------------\u001b[0m",
      "\u001b[1;31mOSError\u001b[0m                                   Traceback (most recent call last)",
      "\u001b[1;32mc:\\Users\\DAHS\\Desktop\\MIMIC_IV_CIRC(12h)\\mainPipeline_step1.ipynb Cell 8\u001b[0m line \u001b[0;36m1\n\u001b[0;32m      <a href='vscode-notebook-cell:/c%3A/Users/DAHS/Desktop/MIMIC_IV_CIRC%2812h%29/mainPipeline_step1.ipynb#X10sZmlsZQ%3D%3D?line=0'>1</a>\u001b[0m \u001b[39m### 3. SUMMARY OF FEATURES\u001b[39;00m\n\u001b[0;32m      <a href='vscode-notebook-cell:/c%3A/Users/DAHS/Desktop/MIMIC_IV_CIRC%2812h%29/mainPipeline_step1.ipynb#X10sZmlsZQ%3D%3D?line=1'>2</a>\u001b[0m \n\u001b[0;32m      <a href='vscode-notebook-cell:/c%3A/Users/DAHS/Desktop/MIMIC_IV_CIRC%2812h%29/mainPipeline_step1.ipynb#X10sZmlsZQ%3D%3D?line=2'>3</a>\u001b[0m \u001b[39m# This step will generate summary of all features extracted so far.\u001b[39;00m\n\u001b[1;32m   (...)\u001b[0m\n\u001b[0;32m      <a href='vscode-notebook-cell:/c%3A/Users/DAHS/Desktop/MIMIC_IV_CIRC%2812h%29/mainPipeline_step1.ipynb#X10sZmlsZQ%3D%3D?line=6'>7</a>\u001b[0m \u001b[39m# - For labs and chart events it will also provide \u001b[39;00m\n\u001b[0;32m      <a href='vscode-notebook-cell:/c%3A/Users/DAHS/Desktop/MIMIC_IV_CIRC%2812h%29/mainPipeline_step1.ipynb#X10sZmlsZQ%3D%3D?line=7'>8</a>\u001b[0m \u001b[39m# **missing %** which tells how many rows for a certain medical code has missing value.\u001b[39;00m\n\u001b[1;32m---> <a href='vscode-notebook-cell:/c%3A/Users/DAHS/Desktop/MIMIC_IV_CIRC%2812h%29/mainPipeline_step1.ipynb#X10sZmlsZQ%3D%3D?line=9'>10</a>\u001b[0m generate_summary_icu(local_dir , diag_flag,proc_flag,med_flag,out_flag,chart_flag,ing_flag,lab_flag)\n",
      "File \u001b[1;32mc:\\Users\\DAHS\\Desktop\\MIMIC_IV_CIRC(12h)\\preprocessing/hosp_module_preproc\\feature_selection_icu.py:182\u001b[0m, in \u001b[0;36mgenerate_summary_icu\u001b[1;34m(local_dir, diag_flag, proc_flag, med_flag, out_flag, chart_flag, ing_flag, lab_flag)\u001b[0m\n\u001b[0;32m    180\u001b[0m     summary\u001b[39m=\u001b[39mpd\u001b[39m.\u001b[39mmerge(freq,total,on\u001b[39m=\u001b[39m\u001b[39m'\u001b[39m\u001b[39mitemid\u001b[39m\u001b[39m'\u001b[39m,how\u001b[39m=\u001b[39m\u001b[39m'\u001b[39m\u001b[39mright\u001b[39m\u001b[39m'\u001b[39m)\n\u001b[0;32m    181\u001b[0m     summary\u001b[39m=\u001b[39msummary\u001b[39m.\u001b[39mfillna(\u001b[39m0\u001b[39m)\n\u001b[1;32m--> 182\u001b[0m     summary\u001b[39m.\u001b[39;49mto_csv(local_dir\u001b[39m+\u001b[39;49m\u001b[39m'\u001b[39;49m\u001b[39msummary/proc_summary.csv\u001b[39;49m\u001b[39m'\u001b[39;49m,index\u001b[39m=\u001b[39;49m\u001b[39mFalse\u001b[39;49;00m)\n\u001b[0;32m    183\u001b[0m     summary[\u001b[39m'\u001b[39m\u001b[39mitemid\u001b[39m\u001b[39m'\u001b[39m]\u001b[39m.\u001b[39mto_csv(local_dir\u001b[39m+\u001b[39m\u001b[39m'\u001b[39m\u001b[39msummary/proc_features.csv\u001b[39m\u001b[39m'\u001b[39m,index\u001b[39m=\u001b[39m\u001b[39mFalse\u001b[39;00m)\n\u001b[0;32m    186\u001b[0m \u001b[39mif\u001b[39;00m out_flag:\n",
      "File \u001b[1;32mc:\\Users\\DAHS\\anaconda3\\envs\\MIMIC\\lib\\site-packages\\pandas\\util\\_decorators.py:211\u001b[0m, in \u001b[0;36mdeprecate_kwarg.<locals>._deprecate_kwarg.<locals>.wrapper\u001b[1;34m(*args, **kwargs)\u001b[0m\n\u001b[0;32m    209\u001b[0m     \u001b[39melse\u001b[39;00m:\n\u001b[0;32m    210\u001b[0m         kwargs[new_arg_name] \u001b[39m=\u001b[39m new_arg_value\n\u001b[1;32m--> 211\u001b[0m \u001b[39mreturn\u001b[39;00m func(\u001b[39m*\u001b[39;49margs, \u001b[39m*\u001b[39;49m\u001b[39m*\u001b[39;49mkwargs)\n",
      "File \u001b[1;32mc:\\Users\\DAHS\\anaconda3\\envs\\MIMIC\\lib\\site-packages\\pandas\\core\\generic.py:3720\u001b[0m, in \u001b[0;36mNDFrame.to_csv\u001b[1;34m(self, path_or_buf, sep, na_rep, float_format, columns, header, index, index_label, mode, encoding, compression, quoting, quotechar, lineterminator, chunksize, date_format, doublequote, escapechar, decimal, errors, storage_options)\u001b[0m\n\u001b[0;32m   3709\u001b[0m df \u001b[39m=\u001b[39m \u001b[39mself\u001b[39m \u001b[39mif\u001b[39;00m \u001b[39misinstance\u001b[39m(\u001b[39mself\u001b[39m, ABCDataFrame) \u001b[39melse\u001b[39;00m \u001b[39mself\u001b[39m\u001b[39m.\u001b[39mto_frame()\n\u001b[0;32m   3711\u001b[0m formatter \u001b[39m=\u001b[39m DataFrameFormatter(\n\u001b[0;32m   3712\u001b[0m     frame\u001b[39m=\u001b[39mdf,\n\u001b[0;32m   3713\u001b[0m     header\u001b[39m=\u001b[39mheader,\n\u001b[1;32m   (...)\u001b[0m\n\u001b[0;32m   3717\u001b[0m     decimal\u001b[39m=\u001b[39mdecimal,\n\u001b[0;32m   3718\u001b[0m )\n\u001b[1;32m-> 3720\u001b[0m \u001b[39mreturn\u001b[39;00m DataFrameRenderer(formatter)\u001b[39m.\u001b[39;49mto_csv(\n\u001b[0;32m   3721\u001b[0m     path_or_buf,\n\u001b[0;32m   3722\u001b[0m     lineterminator\u001b[39m=\u001b[39;49mlineterminator,\n\u001b[0;32m   3723\u001b[0m     sep\u001b[39m=\u001b[39;49msep,\n\u001b[0;32m   3724\u001b[0m     encoding\u001b[39m=\u001b[39;49mencoding,\n\u001b[0;32m   3725\u001b[0m     errors\u001b[39m=\u001b[39;49merrors,\n\u001b[0;32m   3726\u001b[0m     compression\u001b[39m=\u001b[39;49mcompression,\n\u001b[0;32m   3727\u001b[0m     quoting\u001b[39m=\u001b[39;49mquoting,\n\u001b[0;32m   3728\u001b[0m     columns\u001b[39m=\u001b[39;49mcolumns,\n\u001b[0;32m   3729\u001b[0m     index_label\u001b[39m=\u001b[39;49mindex_label,\n\u001b[0;32m   3730\u001b[0m     mode\u001b[39m=\u001b[39;49mmode,\n\u001b[0;32m   3731\u001b[0m     chunksize\u001b[39m=\u001b[39;49mchunksize,\n\u001b[0;32m   3732\u001b[0m     quotechar\u001b[39m=\u001b[39;49mquotechar,\n\u001b[0;32m   3733\u001b[0m     date_format\u001b[39m=\u001b[39;49mdate_format,\n\u001b[0;32m   3734\u001b[0m     doublequote\u001b[39m=\u001b[39;49mdoublequote,\n\u001b[0;32m   3735\u001b[0m     escapechar\u001b[39m=\u001b[39;49mescapechar,\n\u001b[0;32m   3736\u001b[0m     storage_options\u001b[39m=\u001b[39;49mstorage_options,\n\u001b[0;32m   3737\u001b[0m )\n",
      "File \u001b[1;32mc:\\Users\\DAHS\\anaconda3\\envs\\MIMIC\\lib\\site-packages\\pandas\\util\\_decorators.py:211\u001b[0m, in \u001b[0;36mdeprecate_kwarg.<locals>._deprecate_kwarg.<locals>.wrapper\u001b[1;34m(*args, **kwargs)\u001b[0m\n\u001b[0;32m    209\u001b[0m     \u001b[39melse\u001b[39;00m:\n\u001b[0;32m    210\u001b[0m         kwargs[new_arg_name] \u001b[39m=\u001b[39m new_arg_value\n\u001b[1;32m--> 211\u001b[0m \u001b[39mreturn\u001b[39;00m func(\u001b[39m*\u001b[39;49margs, \u001b[39m*\u001b[39;49m\u001b[39m*\u001b[39;49mkwargs)\n",
      "File \u001b[1;32mc:\\Users\\DAHS\\anaconda3\\envs\\MIMIC\\lib\\site-packages\\pandas\\io\\formats\\format.py:1189\u001b[0m, in \u001b[0;36mDataFrameRenderer.to_csv\u001b[1;34m(self, path_or_buf, encoding, sep, columns, index_label, mode, compression, quoting, quotechar, lineterminator, chunksize, date_format, doublequote, escapechar, errors, storage_options)\u001b[0m\n\u001b[0;32m   1168\u001b[0m     created_buffer \u001b[39m=\u001b[39m \u001b[39mFalse\u001b[39;00m\n\u001b[0;32m   1170\u001b[0m csv_formatter \u001b[39m=\u001b[39m CSVFormatter(\n\u001b[0;32m   1171\u001b[0m     path_or_buf\u001b[39m=\u001b[39mpath_or_buf,\n\u001b[0;32m   1172\u001b[0m     lineterminator\u001b[39m=\u001b[39mlineterminator,\n\u001b[1;32m   (...)\u001b[0m\n\u001b[0;32m   1187\u001b[0m     formatter\u001b[39m=\u001b[39m\u001b[39mself\u001b[39m\u001b[39m.\u001b[39mfmt,\n\u001b[0;32m   1188\u001b[0m )\n\u001b[1;32m-> 1189\u001b[0m csv_formatter\u001b[39m.\u001b[39;49msave()\n\u001b[0;32m   1191\u001b[0m \u001b[39mif\u001b[39;00m created_buffer:\n\u001b[0;32m   1192\u001b[0m     \u001b[39massert\u001b[39;00m \u001b[39misinstance\u001b[39m(path_or_buf, StringIO)\n",
      "File \u001b[1;32mc:\\Users\\DAHS\\anaconda3\\envs\\MIMIC\\lib\\site-packages\\pandas\\io\\formats\\csvs.py:241\u001b[0m, in \u001b[0;36mCSVFormatter.save\u001b[1;34m(self)\u001b[0m\n\u001b[0;32m    237\u001b[0m \u001b[39m\u001b[39m\u001b[39m\"\"\"\u001b[39;00m\n\u001b[0;32m    238\u001b[0m \u001b[39mCreate the writer & save.\u001b[39;00m\n\u001b[0;32m    239\u001b[0m \u001b[39m\"\"\"\u001b[39;00m\n\u001b[0;32m    240\u001b[0m \u001b[39m# apply compression and byte/text conversion\u001b[39;00m\n\u001b[1;32m--> 241\u001b[0m \u001b[39mwith\u001b[39;00m get_handle(\n\u001b[0;32m    242\u001b[0m     \u001b[39mself\u001b[39;49m\u001b[39m.\u001b[39;49mfilepath_or_buffer,\n\u001b[0;32m    243\u001b[0m     \u001b[39mself\u001b[39;49m\u001b[39m.\u001b[39;49mmode,\n\u001b[0;32m    244\u001b[0m     encoding\u001b[39m=\u001b[39;49m\u001b[39mself\u001b[39;49m\u001b[39m.\u001b[39;49mencoding,\n\u001b[0;32m    245\u001b[0m     errors\u001b[39m=\u001b[39;49m\u001b[39mself\u001b[39;49m\u001b[39m.\u001b[39;49merrors,\n\u001b[0;32m    246\u001b[0m     compression\u001b[39m=\u001b[39;49m\u001b[39mself\u001b[39;49m\u001b[39m.\u001b[39;49mcompression,\n\u001b[0;32m    247\u001b[0m     storage_options\u001b[39m=\u001b[39;49m\u001b[39mself\u001b[39;49m\u001b[39m.\u001b[39;49mstorage_options,\n\u001b[0;32m    248\u001b[0m ) \u001b[39mas\u001b[39;00m handles:\n\u001b[0;32m    249\u001b[0m \n\u001b[0;32m    250\u001b[0m     \u001b[39m# Note: self.encoding is irrelevant here\u001b[39;00m\n\u001b[0;32m    251\u001b[0m     \u001b[39mself\u001b[39m\u001b[39m.\u001b[39mwriter \u001b[39m=\u001b[39m csvlib\u001b[39m.\u001b[39mwriter(\n\u001b[0;32m    252\u001b[0m         handles\u001b[39m.\u001b[39mhandle,\n\u001b[0;32m    253\u001b[0m         lineterminator\u001b[39m=\u001b[39m\u001b[39mself\u001b[39m\u001b[39m.\u001b[39mlineterminator,\n\u001b[1;32m   (...)\u001b[0m\n\u001b[0;32m    258\u001b[0m         quotechar\u001b[39m=\u001b[39m\u001b[39mself\u001b[39m\u001b[39m.\u001b[39mquotechar,\n\u001b[0;32m    259\u001b[0m     )\n\u001b[0;32m    261\u001b[0m     \u001b[39mself\u001b[39m\u001b[39m.\u001b[39m_save()\n",
      "File \u001b[1;32mc:\\Users\\DAHS\\anaconda3\\envs\\MIMIC\\lib\\site-packages\\pandas\\io\\common.py:734\u001b[0m, in \u001b[0;36mget_handle\u001b[1;34m(path_or_buf, mode, encoding, compression, memory_map, is_text, errors, storage_options)\u001b[0m\n\u001b[0;32m    732\u001b[0m \u001b[39m# Only for write methods\u001b[39;00m\n\u001b[0;32m    733\u001b[0m \u001b[39mif\u001b[39;00m \u001b[39m\"\u001b[39m\u001b[39mr\u001b[39m\u001b[39m\"\u001b[39m \u001b[39mnot\u001b[39;00m \u001b[39min\u001b[39;00m mode \u001b[39mand\u001b[39;00m is_path:\n\u001b[1;32m--> 734\u001b[0m     check_parent_directory(\u001b[39mstr\u001b[39;49m(handle))\n\u001b[0;32m    736\u001b[0m \u001b[39mif\u001b[39;00m compression:\n\u001b[0;32m    737\u001b[0m     \u001b[39mif\u001b[39;00m compression \u001b[39m!=\u001b[39m \u001b[39m\"\u001b[39m\u001b[39mzstd\u001b[39m\u001b[39m\"\u001b[39m:\n\u001b[0;32m    738\u001b[0m         \u001b[39m# compression libraries do not like an explicit text-mode\u001b[39;00m\n",
      "File \u001b[1;32mc:\\Users\\DAHS\\anaconda3\\envs\\MIMIC\\lib\\site-packages\\pandas\\io\\common.py:597\u001b[0m, in \u001b[0;36mcheck_parent_directory\u001b[1;34m(path)\u001b[0m\n\u001b[0;32m    595\u001b[0m parent \u001b[39m=\u001b[39m Path(path)\u001b[39m.\u001b[39mparent\n\u001b[0;32m    596\u001b[0m \u001b[39mif\u001b[39;00m \u001b[39mnot\u001b[39;00m parent\u001b[39m.\u001b[39mis_dir():\n\u001b[1;32m--> 597\u001b[0m     \u001b[39mraise\u001b[39;00m \u001b[39mOSError\u001b[39;00m(\u001b[39mrf\u001b[39m\u001b[39m\"\u001b[39m\u001b[39mCannot save file into a non-existent directory: \u001b[39m\u001b[39m'\u001b[39m\u001b[39m{\u001b[39;00mparent\u001b[39m}\u001b[39;00m\u001b[39m'\u001b[39m\u001b[39m\"\u001b[39m)\n",
      "\u001b[1;31mOSError\u001b[0m: Cannot save file into a non-existent directory: '\\Users\\DAHS\\Desktop\\circ_mimic_preprocessing_1day\\data\\summary'"
     ]
    }
   ],
   "source": [
    "### 3. SUMMARY OF FEATURES\n",
    "\n",
    "# This step will generate summary of all features extracted so far.\n",
    "# It will save summary files in **./data/summary/**<br>\n",
    "# - These files provide summary about **mean frequency** of medical codes per admission.\n",
    "# - It also provides **total occurrence count** of each medical code.\n",
    "# - For labs and chart events it will also provide \n",
    "# **missing %** which tells how many rows for a certain medical code has missing value.\n",
    "\n",
    "generate_summary_icu(local_dir , diag_flag,proc_flag,med_flag,out_flag,chart_flag,ing_flag,lab_flag)"
   ]
  },
  {
   "cell_type": "code",
   "execution_count": 10,
   "id": "perceived-python",
   "metadata": {},
   "outputs": [
    {
     "name": "stdout",
     "output_type": "stream",
     "text": [
      "[FEATURE SELECTION PROCEDURES DATA]\n",
      "Total number of rows 145527\n",
      "[SUCCESSFULLY SAVED PROCEDURES DATA]\n"
     ]
    }
   ],
   "source": [
    "### 3. Feature selection\n",
    "\n",
    "select_diag=False\n",
    "select_med=False\n",
    "select_ing=False\n",
    "select_proc=True\n",
    "select_lab=False\n",
    "select_out=False\n",
    "select_chart=False\n",
    "\n",
    "diag_flag  =  False\n",
    "out_flag   =  False\n",
    "chart_flag =  False\n",
    "proc_flag  =  True\n",
    "med_flag   =  False\n",
    "ing_flag   =  False\n",
    "lab_flag   =  False\n",
    "\n",
    "features_selection_icu(local_dir, cohort_output,\n",
    "                       diag_flag, proc_flag, med_flag, ing_flag, out_flag, lab_flag,\n",
    "                       chart_flag, select_diag, select_med, select_ing, select_proc,\n",
    "                       select_out, select_chart, select_lab)"
   ]
  },
  {
   "cell_type": "code",
   "execution_count": 10,
   "id": "impossible-mailman",
   "metadata": {},
   "outputs": [
    {
     "name": "stdout",
     "output_type": "stream",
     "text": [
      "[PROCESSING DIAGNOSIS DATA]\n",
      "Total number of rows 1228579\n",
      "[SUCCESSFULLY SAVED DIAGNOSIS DATA]\n"
     ]
    }
   ],
   "source": [
    "## 6. CLEANING OF FEATURES\n",
    "# Below you will have option to to clean lab and chart events by performing outlier removal and unit conversion.\n",
    "\n",
    "# Outlier removal is performed to remove values higher than selected **right threshold** percentile and lower than selected **left threshold** percentile among all values for each itemid. \n",
    "\n",
    "# **Please run below cell to select preprocessing for diferent features**\n",
    "\n",
    "thresh=98\n",
    "clean_chart=False\n",
    "impute_outlier_chart=False\n",
    "left_thresh= 2\n",
    "\n",
    "imput_outlier_lab=False\n",
    "thresh_lab=98\n",
    "left_thresh_lab=2\n",
    "clean_labs=False\n",
    "\n",
    "diag_flag = True\n",
    "group_diag = 'Convert ICD-9 to ICD-10 codes'\n",
    "        \n",
    "preprocess_features_icu(cohort_output, diag_flag, group_diag, chart_flag, clean_chart, impute_outlier_chart,thresh,left_thresh,\n",
    "                        lab_flag, imput_outlier_lab, thresh_lab, left_thresh_lab, clean_labs)"
   ]
  },
  {
   "cell_type": "code",
   "execution_count": null,
   "metadata": {},
   "outputs": [],
   "source": []
  }
 ],
 "metadata": {
  "hide_input": false,
  "kernelspec": {
   "display_name": "Python 3 (ipykernel)",
   "language": "python",
   "name": "python3"
  },
  "language_info": {
   "codemirror_mode": {
    "name": "ipython",
    "version": 3
   },
   "file_extension": ".py",
   "mimetype": "text/x-python",
   "name": "python",
   "nbconvert_exporter": "python",
   "pygments_lexer": "ipython3",
   "version": "3.8.16"
  }
 },
 "nbformat": 4,
 "nbformat_minor": 5
}
