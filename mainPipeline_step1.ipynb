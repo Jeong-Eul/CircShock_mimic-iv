{
 "cells": [
  {
   "cell_type": "code",
   "execution_count": 1,
   "id": "available-albany",
   "metadata": {},
   "outputs": [],
   "source": [
    "import pandas as pd\n",
    "import sys\n",
    "from pathlib import Path\n",
    "import os\n",
    "import importlib\n",
    "import warnings\n",
    "\n",
    "warnings.simplefilter(action='ignore', category=FutureWarning)\n",
    "pd.set_option('mode.chained_assignment',  None) \n",
    "\n",
    "\n",
    "module_path='preprocessing/day_intervals_preproc'\n",
    "if module_path not in sys.path:\n",
    "    sys.path.append(module_path)\n",
    "\n",
    "module_path='utils'\n",
    "if module_path not in sys.path:\n",
    "    sys.path.append(module_path)\n",
    "    \n",
    "module_path='preprocessing/hosp_module_preproc'\n",
    "if module_path not in sys.path:\n",
    "    sys.path.append(module_path)\n",
    "    \n",
    "module_path='model'\n",
    "if module_path not in sys.path:\n",
    "    sys.path.append(module_path)\n",
    "#print(sys.path)\n",
    "root_dir = os.path.dirname(os.path.abspath('UserInterface.ipynb'))\n",
    "\n",
    "import cohort_selection\n",
    "from cohort_selection import *\n",
    "\n",
    "import feature_selection_hosp\n",
    "from feature_selection_hosp import *"
   ]
  },
  {
   "cell_type": "code",
   "execution_count": 2,
   "id": "nutritional-chicago",
   "metadata": {},
   "outputs": [],
   "source": [
    "importlib.reload(cohort_selection)\n",
    "import cohort_selection\n",
    "from cohort_selection import *\n",
    "\n",
    "# importlib.reload(data_generation_circ)\n",
    "import data_generation_circ\n",
    "\n",
    "# importlib.reload(feature_selection_hosp)\n",
    "import feature_selection_hosp\n",
    "from feature_selection_hosp import *\n",
    "\n",
    "# importlib.reload(feature_selection_icu)\n",
    "import feature_selection_icu\n",
    "from feature_selection_icu import *"
   ]
  },
  {
   "cell_type": "code",
   "execution_count": 3,
   "metadata": {},
   "outputs": [],
   "source": [
    "#Heart Faillure\n",
    "\n",
    "task = 'Mortality'  # options=['Mortality','Length of Stay','Readmission','Phenotype']\n",
    "version = 'Version 2.2'\n",
    "\n",
    "time=0\n",
    "label= 'Mortality'\n",
    "\n",
    "data_icu=True\n",
    "data_mort=True\n",
    "data_admn=True\n",
    "data_los=False\n",
    "\n",
    "space = 'ICU'\n",
    "        \n",
    "icd_code='No Disease Filter'\n",
    "\n",
    "version=='Version 2.2'\n",
    "version_path=\"mimiciv/2.2\"\n",
    "\n",
    "root_dir = '/Users/DAHS/Desktop/early_prediction_of_circ_scl/'\n",
    "local_dir = '/Users/DAHS/Desktop/MIMICIV2.2_PREPROC/data'\n",
    "\n",
    "# cohort_output = cohort_selection.extract_data(space, label, time, icd_code, root_dir, \"\")"
   ]
  },
  {
   "cell_type": "code",
   "execution_count": 4,
   "id": "0f339f29",
   "metadata": {},
   "outputs": [],
   "source": [
    "cohort_output = 'cohort_icu_mortality_0_'"
   ]
  },
  {
   "cell_type": "code",
   "execution_count": 5,
   "metadata": {},
   "outputs": [
    {
     "data": {
      "text/plain": [
       "0"
      ]
     },
     "execution_count": 5,
     "metadata": {},
     "output_type": "execute_result"
    }
   ],
   "source": [
    "import gc\n",
    "gc.collect()"
   ]
  },
  {
   "cell_type": "code",
   "execution_count": 6,
   "id": "raised-olympus",
   "metadata": {},
   "outputs": [
    {
     "name": "stdout",
     "output_type": "stream",
     "text": [
      "[EXTRACTING MICRO LABS DATA]\n"
     ]
    },
    {
     "name": "stderr",
     "output_type": "stream",
     "text": [
      "7it [02:44, 23.45s/it]\n"
     ]
    },
    {
     "name": "stdout",
     "output_type": "stream",
     "text": [
      "# Itemid:  92\n",
      "# Admissions:  58901\n",
      "Total number of rows:  997770\n",
      "[SUCCESSFULLY SAVED LABS DATA]\n",
      "[EXTRACTING PROCEDURES DATA]\n",
      "# Unique Events:   157\n",
      "# Admissions:   72711\n",
      "Total rows 688795\n",
      "[SUCCESSFULLY SAVED PROCEDURES DATA]\n"
     ]
    }
   ],
   "source": [
    "## 2. FEATURE SELECTION\n",
    "\n",
    "# when you try first, replace False to True\n",
    "\n",
    "diag_flag  =  False\n",
    "out_flag   =  False\n",
    "chart_flag =  False\n",
    "proc_flag  =  True\n",
    "med_flag   =  False\n",
    "ing_flag   =  False\n",
    "lab_flag   =  False\n",
    "micro_flag = True\n",
    "\n",
    "feature_icu(root_dir, cohort_output, version_path, diag_flag, out_flag,\n",
    "            chart_flag, proc_flag, med_flag, ing_flag, lab_flag, micro_flag)"
   ]
  },
  {
   "cell_type": "code",
   "execution_count": 7,
   "metadata": {},
   "outputs": [
    {
     "data": {
      "text/plain": [
       "31"
      ]
     },
     "execution_count": 7,
     "metadata": {},
     "output_type": "execute_result"
    }
   ],
   "source": [
    "import gc\n",
    "gc.collect()"
   ]
  },
  {
   "cell_type": "code",
   "execution_count": 7,
   "id": "thick-residence",
   "metadata": {},
   "outputs": [
    {
     "name": "stdout",
     "output_type": "stream",
     "text": [
      "[GENERATING FEATURE SUMMARY]\n"
     ]
    },
    {
     "name": "stderr",
     "output_type": "stream",
     "text": [
      "4it [00:16,  4.07s/it]\n"
     ]
    },
    {
     "name": "stdout",
     "output_type": "stream",
     "text": [
      "[SUCCESSFULLY SAVED FEATURE SUMMARY]\n"
     ]
    }
   ],
   "source": [
    "### 3. SUMMARY OF FEATURES\n",
    "\n",
    "# This step will generate summary of all features extracted so far.\n",
    "# It will save summary files in **./data/summary/**<br>\n",
    "# - These files provide summary about **mean frequency** of medical codes per admission.\n",
    "# - It also provides **total occurrence count** of each medical code.\n",
    "# - For labs and chart events it will also provide \n",
    "# **missing %** which tells how many rows for a certain medical code has missing value.\n",
    "\n",
    "generate_summary_icu(local_dir , diag_flag,proc_flag,med_flag,out_flag,chart_flag,ing_flag,lab_flag, micro_flag)"
   ]
  },
  {
   "cell_type": "code",
   "execution_count": 6,
   "id": "perceived-python",
   "metadata": {},
   "outputs": [
    {
     "name": "stdout",
     "output_type": "stream",
     "text": [
      "[FEATURE SELECTION MICRO LABS DATA]\n"
     ]
    },
    {
     "name": "stderr",
     "output_type": "stream",
     "text": [
      "2it [00:00,  3.74it/s]\n"
     ]
    },
    {
     "name": "stdout",
     "output_type": "stream",
     "text": [
      "Total number of rows 291509\n",
      "[SUCCESSFULLY SAVED MICRO LABS DATA]\n"
     ]
    }
   ],
   "source": [
    "### 3. Feature selection\n",
    "\n",
    "select_diag=False\n",
    "select_med=False\n",
    "select_ing=False\n",
    "select_proc=False\n",
    "select_lab=False\n",
    "select_out=False\n",
    "select_chart=False\n",
    "\n",
    "diag_flag  =  False\n",
    "out_flag   =  False\n",
    "chart_flag =  False\n",
    "proc_flag  =  False\n",
    "med_flag   =  False\n",
    "ing_flag   =  False\n",
    "lab_flag   =  False\n",
    "micro_flag = True\n",
    "\n",
    "features_selection_icu(local_dir, cohort_output,\n",
    "                       diag_flag, proc_flag, med_flag, ing_flag, out_flag, lab_flag,\n",
    "                       chart_flag, micro_flag, select_diag, select_med, select_ing, select_proc,\n",
    "                       select_out, select_chart, select_lab)"
   ]
  },
  {
   "cell_type": "code",
   "execution_count": 7,
   "id": "impossible-mailman",
   "metadata": {},
   "outputs": [
    {
     "name": "stdout",
     "output_type": "stream",
     "text": [
      "[PROCESSING DIAGNOSIS DATA]\n",
      "Total number of rows 1228579\n",
      "[SUCCESSFULLY SAVED DIAGNOSIS DATA]\n"
     ]
    }
   ],
   "source": [
    "## 6. CLEANING OF FEATURES\n",
    "# Below you will have option to to clean lab and chart events by performing outlier removal and unit conversion.\n",
    "\n",
    "# Outlier removal is performed to remove values higher than selected **right threshold** percentile and lower than selected **left threshold** percentile among all values for each itemid. \n",
    "\n",
    "# **Please run below cell to select preprocessing for diferent features**\n",
    "\n",
    "thresh=98\n",
    "clean_chart=False\n",
    "impute_outlier_chart=False\n",
    "left_thresh= 2\n",
    "\n",
    "imput_outlier_lab=False\n",
    "thresh_lab=98\n",
    "left_thresh_lab=2\n",
    "clean_labs=False\n",
    "\n",
    "diag_flag = True\n",
    "group_diag = 'Convert ICD-9 to ICD-10 codes'\n",
    "        \n",
    "preprocess_features_icu(cohort_output, diag_flag, group_diag, chart_flag, clean_chart, impute_outlier_chart,thresh,left_thresh,\n",
    "                        lab_flag, imput_outlier_lab, thresh_lab, left_thresh_lab, clean_labs)"
   ]
  }
 ],
 "metadata": {
  "hide_input": false,
  "kernelspec": {
   "display_name": "Python 3 (ipykernel)",
   "language": "python",
   "name": "python3"
  },
  "language_info": {
   "codemirror_mode": {
    "name": "ipython",
    "version": 3
   },
   "file_extension": ".py",
   "mimetype": "text/x-python",
   "name": "python",
   "nbconvert_exporter": "python",
   "pygments_lexer": "ipython3",
   "version": "3.8.16"
  }
 },
 "nbformat": 4,
 "nbformat_minor": 5
}
